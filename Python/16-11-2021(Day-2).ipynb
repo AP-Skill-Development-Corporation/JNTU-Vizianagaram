{
 "cells": [
  {
   "cell_type": "markdown",
   "id": "4363930b",
   "metadata": {},
   "source": [
    "### Iterations(Loops)"
   ]
  },
  {
   "cell_type": "markdown",
   "id": "2d5d523e",
   "metadata": {},
   "source": [
    "- Repeat the sequence of instructions until specific condition satisfies\n",
    "- Lopps are 2types:\n",
    "    - For loop\n",
    "    - While loop"
   ]
  },
  {
   "cell_type": "markdown",
   "id": "8ac8de9e",
   "metadata": {},
   "source": [
    "#### For loop\n",
    "- Range known\n",
    "- Syntax:\n",
    "    for iterable_variable in iterable:\n",
    "        statements\n",
    "        \n",
    "    for iterable_variable in range(start,end,step):\n",
    "        statements"
   ]
  },
  {
   "cell_type": "code",
   "execution_count": 2,
   "id": "e301c906",
   "metadata": {},
   "outputs": [
    {
     "name": "stdout",
     "output_type": "stream",
     "text": [
      "1 2 3 4 5 6 7 8 9 "
     ]
    }
   ],
   "source": [
    "for i in range(1,10):\n",
    "    print(i,end=\" \")"
   ]
  },
  {
   "cell_type": "code",
   "execution_count": 4,
   "id": "f86214ae",
   "metadata": {},
   "outputs": [
    {
     "name": "stdout",
     "output_type": "stream",
     "text": [
      "0 1 2 3 4 5 6 7 8 9 "
     ]
    }
   ],
   "source": [
    "for i in range(10):\n",
    "    print(i,end=\" \")"
   ]
  },
  {
   "cell_type": "code",
   "execution_count": 8,
   "id": "d04c0788",
   "metadata": {},
   "outputs": [
    {
     "name": "stdout",
     "output_type": "stream",
     "text": [
      "10 9 8 7 6 5 4 3 2 1 "
     ]
    }
   ],
   "source": [
    "for i in range(10,0,-1):\n",
    "    print(i,end=\" \")"
   ]
  },
  {
   "cell_type": "code",
   "execution_count": 9,
   "id": "fd871249",
   "metadata": {
    "scrolled": true
   },
   "outputs": [
    {
     "name": "stdout",
     "output_type": "stream",
     "text": [
      "1 3 5 7 9 11 13 15 17 19 "
     ]
    }
   ],
   "source": [
    "for i in range(1,20,2):\n",
    "    print(i,end=\" \")\n",
    "    "
   ]
  },
  {
   "cell_type": "markdown",
   "id": "ee0e0921",
   "metadata": {},
   "source": [
    "**all ranges should be given by user**"
   ]
  },
  {
   "cell_type": "code",
   "execution_count": 12,
   "id": "f0970cbe",
   "metadata": {},
   "outputs": [],
   "source": [
    "# WAP to print all even numbers in a given range\n",
    "# WAP to print all even numbers sum in a given range.\n",
    "# WAP to print all even numbers count in a given range.\n",
    "# WAP to print factors of a given number.\n",
    "# WAP to print factors count and factors sum\n",
    "# WAP to print factorial value.\n",
    "# WAP to check whether a given number is prime number or not.\n",
    "# WAP to print all even or odd numbers without checking the condition in a given range\n",
    "# WAP to print multiplication table for a given number."
   ]
  },
  {
   "cell_type": "code",
   "execution_count": 17,
   "id": "a190db0f",
   "metadata": {},
   "outputs": [
    {
     "name": "stdout",
     "output_type": "stream",
     "text": [
      "Enter start number1\n",
      "Enter end number100\n",
      "2 4 6 8 10 12 14 16 18 20 22 24 26 28 30 32 34 36 38 40 42 44 46 48 50 52 54 56 58 60 62 64 66 68 70 72 74 76 78 80 82 84 86 88 90 92 94 96 98 100 "
     ]
    }
   ],
   "source": [
    "# WAP to print all even numbers in a given range\n",
    "a=int(input(\"Enter start number\"))\n",
    "b=int(input(\"Enter end number\"))\n",
    "for i in range(a,b+1):\n",
    "    if i%2==0:\n",
    "        print(i,end=\" \")"
   ]
  },
  {
   "cell_type": "code",
   "execution_count": 18,
   "id": "6d608c07",
   "metadata": {},
   "outputs": [
    {
     "name": "stdout",
     "output_type": "stream",
     "text": [
      "Enter start number1\n",
      "Enter end number100\n",
      "2550\n"
     ]
    }
   ],
   "source": [
    "# WAP to print all even numbers sum in a given range.\n",
    "a=int(input(\"Enter start number\"))\n",
    "b=int(input(\"Enter end number\"))\n",
    "even_sum=0\n",
    "for i in range(a,b+1):\n",
    "    if i%2==0:\n",
    "        even_sum+=i\n",
    "print(even_sum)"
   ]
  },
  {
   "cell_type": "code",
   "execution_count": 19,
   "id": "840919a2",
   "metadata": {},
   "outputs": [
    {
     "name": "stdout",
     "output_type": "stream",
     "text": [
      "Enter start number1\n",
      "Enter end number100\n",
      "50\n"
     ]
    }
   ],
   "source": [
    "#WAP to print all even numbers in a given range\n",
    "a=int(input(\"Enter start number\"))\n",
    "b=int(input(\"Enter end number\"))\n",
    "even_count=0\n",
    "for i in range(a,b+1):\n",
    "    if i%2==0:\n",
    "        even_count+=1\n",
    "print(even_count)"
   ]
  },
  {
   "cell_type": "code",
   "execution_count": 20,
   "id": "c582a4fe",
   "metadata": {},
   "outputs": [
    {
     "name": "stdout",
     "output_type": "stream",
     "text": [
      "Enter a number6\n",
      "1\n",
      "2\n",
      "3\n",
      "6\n"
     ]
    }
   ],
   "source": [
    "# WAP to print factors of a given number.\n",
    "n=int(input(\"Enter a number\"))\n",
    "for i in range(1,n+1): #i=1   i=2      i=3         i=4    i=5   i=6     i=7\n",
    "    if n%i==0:   #6%1==0(t)   6%2==0(t)  6%3==0(t)              6%6==0(t)      \n",
    "        print(i)  #1           2          3                       6"
   ]
  },
  {
   "cell_type": "code",
   "execution_count": 21,
   "id": "1c64fae8",
   "metadata": {},
   "outputs": [
    {
     "name": "stdout",
     "output_type": "stream",
     "text": [
      "Enter a number6\n",
      "Factor sum is 12\n",
      "Factor count is 4\n"
     ]
    }
   ],
   "source": [
    "# WAP to print factors count and factors sum\n",
    "n=int(input(\"Enter a number\"))\n",
    "factor_sum=0\n",
    "factor_count=0\n",
    "for i in range(1,n+1):\n",
    "    if n%i==0:\n",
    "        factor_sum+=i\n",
    "        factor_count+=1\n",
    "print(\"Factor sum is\",factor_sum)\n",
    "print(\"Factor count is\",factor_count)"
   ]
  },
  {
   "cell_type": "code",
   "execution_count": 23,
   "id": "7f1e1545",
   "metadata": {},
   "outputs": [
    {
     "name": "stdout",
     "output_type": "stream",
     "text": [
      "Enter number5\n",
      "5 factorial is: 120\n"
     ]
    }
   ],
   "source": [
    "# WAP to print factorial value.\n",
    "n=int(input(\"Enter number\"))\n",
    "fact=1\n",
    "for i in range(1,n+1): #i=1   i=2   i=3   i=4   i=5   i=6\n",
    "    fact=fact*i   #1           2    6      24    120\n",
    "print(n,\"factorial is:\",fact)"
   ]
  },
  {
   "cell_type": "code",
   "execution_count": 33,
   "id": "53874d16",
   "metadata": {},
   "outputs": [
    {
     "name": "stdout",
     "output_type": "stream",
     "text": [
      "Enter a number5\n",
      "Given num is Prime\n"
     ]
    }
   ],
   "source": [
    "# WAP to check whether a given number is prime number or not.\n",
    "n=int(input(\"Enter a number\"))\n",
    "factor_count=0\n",
    "for i in range(2,n):\n",
    "    if n%i==0:\n",
    "        factor_count+=1\n",
    "if factor_count==0:\n",
    "    print(\"Given num is Prime\")\n",
    "else:\n",
    "    print(\"Given num is not a prime\")"
   ]
  },
  {
   "cell_type": "code",
   "execution_count": 31,
   "id": "0dbad3f0",
   "metadata": {},
   "outputs": [
    {
     "name": "stdout",
     "output_type": "stream",
     "text": [
      "Even numbers are: 2 4 6 8 10 12 14 16 18 20 22 24 26 28 30 32 34 36 38 40 42 44 46 48 50 52 54 56 58 60 62 64 66 68 70 72 74 76 78 80 82 84 86 88 90 92 94 96 98 100 \n",
      "Odd Numbers are: 1 3 5 7 9 11 13 15 17 19 21 23 25 27 29 31 33 35 37 39 41 43 45 47 49 51 53 55 57 59 61 63 65 67 69 71 73 75 77 79 81 83 85 87 89 91 93 95 97 99 "
     ]
    }
   ],
   "source": [
    "#print all even or odd numbers without checking the condition in a given range\n",
    "print(\"Even numbers are:\",end=\" \")\n",
    "for i in range(2,100+1,2):\n",
    "    print(i,end=\" \")\n",
    "print(\"\\nOdd Numbers are:\",end=\" \")\n",
    "for i in range(1,100+1,2):\n",
    "    print(i,end=\" \")"
   ]
  },
  {
   "cell_type": "code",
   "execution_count": 35,
   "id": "533af821",
   "metadata": {},
   "outputs": [
    {
     "name": "stdout",
     "output_type": "stream",
     "text": [
      "Enter a number5\n",
      "5 x 1 = 5\n",
      "5 x 2 = 10\n",
      "5 x 3 = 15\n",
      "5 x 4 = 20\n",
      "5 x 5 = 25\n",
      "5 x 6 = 30\n",
      "5 x 7 = 35\n",
      "5 x 8 = 40\n",
      "5 x 9 = 45\n",
      "5 x 10 = 50\n"
     ]
    }
   ],
   "source": [
    "# WAP to print multiplication table for a given number.\n",
    "n=int(input(\"Enter a number\"))\n",
    "for i in range(1,10+1):\n",
    "    print(n,'x',i,'=',n*i)"
   ]
  },
  {
   "cell_type": "markdown",
   "id": "48590cdc",
   "metadata": {},
   "source": [
    "#### Loop Control Statements(Jumping Statements)\n",
    "- break\n",
    "- Continue\n",
    "- Pass"
   ]
  },
  {
   "cell_type": "code",
   "execution_count": 2,
   "id": "8158d143",
   "metadata": {},
   "outputs": [
    {
     "name": "stdout",
     "output_type": "stream",
     "text": [
      "['False', 'None', 'True', 'and', 'as', 'assert', 'async', 'await', 'break', 'class', 'continue', 'def', 'del', 'elif', 'else', 'except', 'finally', 'for', 'from', 'global', 'if', 'import', 'in', 'is', 'lambda', 'nonlocal', 'not', 'or', 'pass', 'raise', 'return', 'try', 'while', 'with', 'yield']\n"
     ]
    }
   ],
   "source": [
    "import keyword\n",
    "print(keyword.kwlist)"
   ]
  },
  {
   "cell_type": "code",
   "execution_count": 3,
   "id": "1ca6cdf7",
   "metadata": {},
   "outputs": [
    {
     "name": "stdout",
     "output_type": "stream",
     "text": [
      "35\n"
     ]
    }
   ],
   "source": [
    "print(len(keyword.kwlist))"
   ]
  },
  {
   "cell_type": "code",
   "execution_count": 4,
   "id": "b40aec35",
   "metadata": {},
   "outputs": [
    {
     "name": "stdout",
     "output_type": "stream",
     "text": [
      "s\n",
      "t\n",
      "r\n"
     ]
    }
   ],
   "source": [
    "#Break\n",
    "for ch in 'string':\n",
    "    if ch=='i':\n",
    "        break\n",
    "    print(ch)"
   ]
  },
  {
   "cell_type": "code",
   "execution_count": null,
   "id": "58a60871",
   "metadata": {},
   "outputs": [],
   "source": [
    "# WAP to check the number is perfect or not.\n",
    "# WAP to print all the leap years in given range"
   ]
  },
  {
   "cell_type": "code",
   "execution_count": 5,
   "id": "624fce3a",
   "metadata": {
    "scrolled": true
   },
   "outputs": [
    {
     "name": "stdout",
     "output_type": "stream",
     "text": [
      "0\n",
      "1\n",
      "2\n",
      "3\n",
      "4\n",
      "5\n",
      "6\n",
      "8\n",
      "9\n"
     ]
    }
   ],
   "source": [
    "#Continue\n",
    "for i in range(10):\n",
    "    if i==7:\n",
    "        continue\n",
    "    print(i)"
   ]
  },
  {
   "cell_type": "code",
   "execution_count": 8,
   "id": "5079adab",
   "metadata": {},
   "outputs": [],
   "source": [
    "#Pass\n",
    "for i in range(10):\n",
    "    pass"
   ]
  },
  {
   "cell_type": "markdown",
   "id": "ddee833d",
   "metadata": {},
   "source": [
    "- Take a string as input from the user and teminate the iteration at the 2nd vowel and print all the characters before the 2nd vowel\n",
    "```\n",
    "example:\n",
    "        i/p: sireesha\n",
    "        o/p: s i r\n",
    "```\n",
    "- WAP to print all vowels in a given string(take ur name)\n",
    "````\n",
    "example:\n",
    "    i/p: gireesha\n",
    "    o/p: i e e a\n",
    "````\n",
    "- WAP to skip all vowels in ur name.\n",
    "````\n",
    "example:\n",
    "    i/p: lalitha\n",
    "    o/p: l l t h\n",
    "````"
   ]
  },
  {
   "cell_type": "code",
   "execution_count": 19,
   "id": "ce3524b6",
   "metadata": {},
   "outputs": [],
   "source": []
  },
  {
   "cell_type": "code",
   "execution_count": 21,
   "id": "c3ac6394",
   "metadata": {},
   "outputs": [
    {
     "name": "stdout",
     "output_type": "stream",
     "text": [
      "Enter a string: sireesha\n",
      "s\n",
      "i\n",
      "r\n"
     ]
    }
   ],
   "source": [
    "# Task-1\n",
    "name = input(\"Enter a string: \")\n",
    "v_c = 0\n",
    "for i in name:\n",
    "    if i in 'aeiouAEIOU':\n",
    "        v_c += 1\n",
    "        if v_c==2:\n",
    "            break\n",
    "    print(i)"
   ]
  },
  {
   "cell_type": "code",
   "execution_count": 11,
   "id": "7c0231f9",
   "metadata": {
    "collapsed": true
   },
   "outputs": [
    {
     "name": "stdout",
     "output_type": "stream",
     "text": [
      "Enter a string: gireesha\n",
      "i\n",
      "e\n",
      "e\n",
      "a\n"
     ]
    }
   ],
   "source": [
    "# Task-2\n",
    "name = input(\"Enter a string: \")\n",
    "for i in name:\n",
    "    if i in 'aeiouAEIOU':\n",
    "        print(i)"
   ]
  },
  {
   "cell_type": "code",
   "execution_count": 12,
   "id": "50336205",
   "metadata": {
    "collapsed": true
   },
   "outputs": [
    {
     "name": "stdout",
     "output_type": "stream",
     "text": [
      "Enter a string: lalitha\n",
      "l\n",
      "l\n",
      "t\n",
      "h\n"
     ]
    }
   ],
   "source": [
    "# Task-3\n",
    "name = input(\"Enter a string: \")\n",
    "for i in name:\n",
    "    if i not in 'aeiouAEIOU':\n",
    "        print(i)"
   ]
  },
  {
   "cell_type": "markdown",
   "id": "00ae8de6",
   "metadata": {},
   "source": [
    "- WAP to print ascii values of each character in a given string.\n",
    "- WAP to print characters with even ascii values in a given string."
   ]
  },
  {
   "cell_type": "code",
   "execution_count": 22,
   "id": "ab0884c4",
   "metadata": {},
   "outputs": [
    {
     "data": {
      "text/plain": [
       "97"
      ]
     },
     "execution_count": 22,
     "metadata": {},
     "output_type": "execute_result"
    }
   ],
   "source": [
    "ord('a')"
   ]
  },
  {
   "cell_type": "code",
   "execution_count": 23,
   "id": "b6a158b4",
   "metadata": {},
   "outputs": [
    {
     "data": {
      "text/plain": [
       "65"
      ]
     },
     "execution_count": 23,
     "metadata": {},
     "output_type": "execute_result"
    }
   ],
   "source": [
    "ord('A')"
   ]
  },
  {
   "cell_type": "code",
   "execution_count": 24,
   "id": "50316c9a",
   "metadata": {},
   "outputs": [
    {
     "data": {
      "text/plain": [
       "'a'"
      ]
     },
     "execution_count": 24,
     "metadata": {},
     "output_type": "execute_result"
    }
   ],
   "source": [
    "chr(97)"
   ]
  },
  {
   "cell_type": "code",
   "execution_count": 25,
   "id": "2b3d1899",
   "metadata": {
    "collapsed": true
   },
   "outputs": [
    {
     "name": "stdout",
     "output_type": "stream",
     "text": [
      "0 \u0000\n",
      "1 \u0001\n",
      "2 \u0002\n",
      "3 \u0003\n",
      "4 \u0004\n",
      "5 \u0005\n",
      "6 \u0006\n",
      "7 \u0007\n",
      "8 \b\n",
      "9 \t\n",
      "10 \n",
      "\n",
      "11 \u000b",
      "\n",
      "12 \f",
      "\n",
      "13 \r\n",
      "14 \u000e\n",
      "15 \u000f\n",
      "16 \u0010\n",
      "17 \u0011\n",
      "18 \u0012\n",
      "19 \u0013\n",
      "20 \u0014\n",
      "21 \u0015\n",
      "22 \u0016\n",
      "23 \u0017\n",
      "24 \u0018\n",
      "25 \u0019\n",
      "26 \u001a\n",
      "27 \u001b\n",
      "28 \u001c",
      "\n",
      "29 \u001d",
      "\n",
      "30 \u001e",
      "\n",
      "31 \u001f\n",
      "32  \n",
      "33 !\n",
      "34 \"\n",
      "35 #\n",
      "36 $\n",
      "37 %\n",
      "38 &\n",
      "39 '\n",
      "40 (\n",
      "41 )\n",
      "42 *\n",
      "43 +\n",
      "44 ,\n",
      "45 -\n",
      "46 .\n",
      "47 /\n",
      "48 0\n",
      "49 1\n",
      "50 2\n",
      "51 3\n",
      "52 4\n",
      "53 5\n",
      "54 6\n",
      "55 7\n",
      "56 8\n",
      "57 9\n",
      "58 :\n",
      "59 ;\n",
      "60 <\n",
      "61 =\n",
      "62 >\n",
      "63 ?\n",
      "64 @\n",
      "65 A\n",
      "66 B\n",
      "67 C\n",
      "68 D\n",
      "69 E\n",
      "70 F\n",
      "71 G\n",
      "72 H\n",
      "73 I\n",
      "74 J\n",
      "75 K\n",
      "76 L\n",
      "77 M\n",
      "78 N\n",
      "79 O\n",
      "80 P\n",
      "81 Q\n",
      "82 R\n",
      "83 S\n",
      "84 T\n",
      "85 U\n",
      "86 V\n",
      "87 W\n",
      "88 X\n",
      "89 Y\n",
      "90 Z\n",
      "91 [\n",
      "92 \\\n",
      "93 ]\n",
      "94 ^\n",
      "95 _\n",
      "96 `\n",
      "97 a\n",
      "98 b\n",
      "99 c\n",
      "100 d\n",
      "101 e\n",
      "102 f\n",
      "103 g\n",
      "104 h\n",
      "105 i\n",
      "106 j\n",
      "107 k\n",
      "108 l\n",
      "109 m\n",
      "110 n\n",
      "111 o\n",
      "112 p\n",
      "113 q\n",
      "114 r\n",
      "115 s\n",
      "116 t\n",
      "117 u\n",
      "118 v\n",
      "119 w\n",
      "120 x\n",
      "121 y\n",
      "122 z\n",
      "123 {\n",
      "124 |\n",
      "125 }\n",
      "126 ~\n",
      "127 \n",
      "128 \n",
      "129 \n",
      "130 \n",
      "131 \n",
      "132 \n",
      "133 ",
      "\n",
      "134 \n",
      "135 \n",
      "136 \n",
      "137 \n",
      "138 \n",
      "139 \n",
      "140 \n",
      "141 \n",
      "142 \n",
      "143 \n",
      "144 \n",
      "145 \n",
      "146 \n",
      "147 \n",
      "148 \n",
      "149 \n",
      "150 \n",
      "151 \n",
      "152 \n",
      "153 \n",
      "154 \n",
      "155 \n",
      "156 \n",
      "157 \n",
      "158 \n",
      "159 \n",
      "160  \n",
      "161 ¡\n",
      "162 ¢\n",
      "163 £\n",
      "164 ¤\n",
      "165 ¥\n",
      "166 ¦\n",
      "167 §\n",
      "168 ¨\n",
      "169 ©\n",
      "170 ª\n",
      "171 «\n",
      "172 ¬\n",
      "173 ­\n",
      "174 ®\n",
      "175 ¯\n",
      "176 °\n",
      "177 ±\n",
      "178 ²\n",
      "179 ³\n",
      "180 ´\n",
      "181 µ\n",
      "182 ¶\n",
      "183 ·\n",
      "184 ¸\n",
      "185 ¹\n",
      "186 º\n",
      "187 »\n",
      "188 ¼\n",
      "189 ½\n",
      "190 ¾\n",
      "191 ¿\n",
      "192 À\n",
      "193 Á\n",
      "194 Â\n",
      "195 Ã\n",
      "196 Ä\n",
      "197 Å\n",
      "198 Æ\n",
      "199 Ç\n",
      "200 È\n",
      "201 É\n",
      "202 Ê\n",
      "203 Ë\n",
      "204 Ì\n",
      "205 Í\n",
      "206 Î\n",
      "207 Ï\n",
      "208 Ð\n",
      "209 Ñ\n",
      "210 Ò\n",
      "211 Ó\n",
      "212 Ô\n",
      "213 Õ\n",
      "214 Ö\n",
      "215 ×\n",
      "216 Ø\n",
      "217 Ù\n",
      "218 Ú\n",
      "219 Û\n",
      "220 Ü\n",
      "221 Ý\n",
      "222 Þ\n",
      "223 ß\n",
      "224 à\n",
      "225 á\n",
      "226 â\n",
      "227 ã\n",
      "228 ä\n",
      "229 å\n",
      "230 æ\n",
      "231 ç\n",
      "232 è\n",
      "233 é\n",
      "234 ê\n",
      "235 ë\n",
      "236 ì\n",
      "237 í\n",
      "238 î\n",
      "239 ï\n",
      "240 ð\n",
      "241 ñ\n",
      "242 ò\n",
      "243 ó\n",
      "244 ô\n",
      "245 õ\n",
      "246 ö\n",
      "247 ÷\n",
      "248 ø\n",
      "249 ù\n",
      "250 ú\n",
      "251 û\n",
      "252 ü\n",
      "253 ý\n",
      "254 þ\n",
      "255 ÿ\n",
      "256 Ā\n"
     ]
    }
   ],
   "source": [
    "for i in range(0,257):\n",
    "    print(i,chr(i))"
   ]
  },
  {
   "cell_type": "code",
   "execution_count": 26,
   "id": "d18e6918",
   "metadata": {},
   "outputs": [
    {
     "name": "stdout",
     "output_type": "stream",
     "text": [
      "Python\n",
      "P 80\n",
      "y 121\n",
      "t 116\n",
      "h 104\n",
      "o 111\n",
      "n 110\n"
     ]
    }
   ],
   "source": [
    "n=input()\n",
    "for ch in n:\n",
    "    print(ch,ord(ch))"
   ]
  },
  {
   "cell_type": "code",
   "execution_count": 29,
   "id": "b172acc1",
   "metadata": {},
   "outputs": [
    {
     "name": "stdout",
     "output_type": "stream",
     "text": [
      "Python\n",
      "y 121\n",
      "o 111\n"
     ]
    }
   ],
   "source": [
    "n=input()\n",
    "for ch in n:\n",
    "    if ord(ch)%2!=0:\n",
    "        print(ch,ord(ch))"
   ]
  },
  {
   "cell_type": "markdown",
   "id": "fa660925",
   "metadata": {},
   "source": [
    "#### While loop\n",
    "- It Executes block or set of instructions until the condition false\n",
    "- Range Unknown\n",
    "- While execution is fast compared to for."
   ]
  },
  {
   "cell_type": "markdown",
   "id": "6d8682bc",
   "metadata": {},
   "source": [
    "- Syntax:\n",
    "Initilization\n",
    "while Condition:\n",
    "    statements\n",
    "    incre/decre"
   ]
  },
  {
   "cell_type": "code",
   "execution_count": 3,
   "id": "087cc8ca",
   "metadata": {},
   "outputs": [
    {
     "name": "stdout",
     "output_type": "stream",
     "text": [
      "1 2 3 4 5 6 7 8 9 10 "
     ]
    }
   ],
   "source": [
    "i=1\n",
    "while i<=10:\n",
    "    print(i,end=\" \")\n",
    "    i+=1 #i=i+1"
   ]
  },
  {
   "cell_type": "code",
   "execution_count": 7,
   "id": "6c9ef25a",
   "metadata": {},
   "outputs": [
    {
     "name": "stdout",
     "output_type": "stream",
     "text": [
      "1 4 7 10 "
     ]
    }
   ],
   "source": [
    "i=1\n",
    "while i<=10:\n",
    "    print(i,end=\" \")\n",
    "    i+=3"
   ]
  },
  {
   "cell_type": "code",
   "execution_count": 8,
   "id": "139c78ec",
   "metadata": {},
   "outputs": [
    {
     "name": "stdout",
     "output_type": "stream",
     "text": [
      "10 9 8 7 6 5 4 3 2 1 "
     ]
    }
   ],
   "source": [
    "i=10\n",
    "while i>=1:\n",
    "    print(i,end=\" \")\n",
    "    i-=1"
   ]
  },
  {
   "cell_type": "code",
   "execution_count": 13,
   "id": "b13b44a0",
   "metadata": {
    "scrolled": false
   },
   "outputs": [
    {
     "name": "stdout",
     "output_type": "stream",
     "text": [
      "JNTUK\n"
     ]
    }
   ],
   "source": [
    "if ' ':\n",
    "    print(\"JNTUK\")\n",
    "else:\n",
    "    print(\"JNTU\")"
   ]
  },
  {
   "cell_type": "code",
   "execution_count": 23,
   "id": "d9684895",
   "metadata": {},
   "outputs": [
    {
     "name": "stdout",
     "output_type": "stream",
     "text": [
      "8765\n",
      "Digits count: 4\n",
      "Digits sum: 26\n"
     ]
    }
   ],
   "source": [
    "n=int(input())\n",
    "digit_count=0\n",
    "digit_sum=0\n",
    "while n>0:   #8765>0            876>0    87>0  8>0\n",
    "    rem=n%10  #8765%10=5         6        7    8\n",
    "    digit_count+=1  #c=1         2        3    4\n",
    "    digit_sum+=rem\n",
    "    n=n//10      #8765//10=876   87       8    0\n",
    "print(\"Digits count:\",digit_count)\n",
    "print(\"Digits sum:\",digit_sum)"
   ]
  },
  {
   "cell_type": "code",
   "execution_count": null,
   "id": "6ad0fe45",
   "metadata": {},
   "outputs": [],
   "source": [
    "10)8765(876        10)876(87\n",
    "   8760               870\n",
    "  ------            -------\n",
    "      5-->rem           6-->rem"
   ]
  },
  {
   "cell_type": "code",
   "execution_count": null,
   "id": "0addb52d",
   "metadata": {},
   "outputs": [],
   "source": [
    "#i/p:8765\n",
    "#o/p:20 24 28 32"
   ]
  },
  {
   "cell_type": "code",
   "execution_count": 10,
   "id": "de982c36",
   "metadata": {},
   "outputs": [
    {
     "name": "stdout",
     "output_type": "stream",
     "text": [
      "12345\n",
      "25 20 15 10 5 "
     ]
    }
   ],
   "source": [
    "n=int(input())\n",
    "temp = n\n",
    "c=0\n",
    "while n>0:\n",
    "    rem=n%10\n",
    "    c+=1\n",
    "    n=n//10\n",
    "while temp>0:\n",
    "    rem=temp%10\n",
    "    print(rem*c,end=\" \")\n",
    "    temp=temp//10 "
   ]
  },
  {
   "cell_type": "markdown",
   "id": "f63cb5f0",
   "metadata": {},
   "source": [
    "- WAP to check whether a given number is perfect number or not.\n",
    "- WAP to print all perfect numbers in a given range.\n",
    "- Third task:\n",
    "\n",
    "````\n",
    "i/p: 1234\n",
    "     5678\n",
    "     \n",
    "o/p(1): 5 12 21 32\n",
    "o/p(2): 6 8 10 12\n",
    " ````"
   ]
  },
  {
   "cell_type": "code",
   "execution_count": 2,
   "id": "c6b3e3f0",
   "metadata": {
    "collapsed": true
   },
   "outputs": [
    {
     "name": "stdout",
     "output_type": "stream",
     "text": [
      "Enter a number: 6\n",
      "Perfect number..\n"
     ]
    }
   ],
   "source": [
    "# Task-1\n",
    "num = int(input(\"Enter a number: \"))\n",
    "fact_sum = 0\n",
    "for i in range(1,num):\n",
    "    if num%i==0:\n",
    "        fact_sum += i\n",
    "if fact_sum==num:\n",
    "    print(\"Perfect number..\")\n",
    "else:\n",
    "    print(\"Not perfect number\")"
   ]
  },
  {
   "cell_type": "code",
   "execution_count": 4,
   "id": "a94aefdc",
   "metadata": {
    "collapsed": true
   },
   "outputs": [
    {
     "name": "stdout",
     "output_type": "stream",
     "text": [
      "Enter lowerbound value: 5\n",
      "Enter upperbound value: 500\n",
      "6\n",
      "28\n",
      "496\n"
     ]
    }
   ],
   "source": [
    "# Task-2\n",
    "n1 = int(input(\"Enter lowerbound value: \"))\n",
    "n2 = int(input(\"Enter upperbound value: \"))\n",
    "for num in range(n1,n2+1):\n",
    "    fact_sum = 0\n",
    "    for i in range(1,num):\n",
    "        if num%i==0:\n",
    "            fact_sum += i\n",
    "    if fact_sum==num:\n",
    "        print(num)"
   ]
  },
  {
   "cell_type": "code",
   "execution_count": 6,
   "id": "581a404d",
   "metadata": {},
   "outputs": [
    {
     "name": "stdout",
     "output_type": "stream",
     "text": [
      "Enter first number: 1234\n",
      "Enter second number: 5678\n",
      "32\n",
      "21\n",
      "12\n",
      "5\n"
     ]
    }
   ],
   "source": [
    "# Task-3\n",
    "n1 = int(input(\"Enter first number: \"))\n",
    "n2 = int(input(\"Enter second number: \"))\n",
    "while n1>0:\n",
    "    r1 = n1%10\n",
    "    r2 = n2%10\n",
    "    print(r1*r2)\n",
    "    n1 //= 10\n",
    "    n2 //= 10\n",
    "while n1>0:\n",
    "    r1 = n1%10\n",
    "    r2 = n2%10\n",
    "    print(r1+r2)\n",
    "    n1 //= 10\n",
    "    n2 //= 10"
   ]
  },
  {
   "cell_type": "code",
   "execution_count": null,
   "id": "7019ec26",
   "metadata": {},
   "outputs": [],
   "source": []
  }
 ],
 "metadata": {
  "kernelspec": {
   "display_name": "Python 3",
   "language": "python",
   "name": "python3"
  },
  "language_info": {
   "codemirror_mode": {
    "name": "ipython",
    "version": 3
   },
   "file_extension": ".py",
   "mimetype": "text/x-python",
   "name": "python",
   "nbconvert_exporter": "python",
   "pygments_lexer": "ipython3",
   "version": "3.8.8"
  }
 },
 "nbformat": 4,
 "nbformat_minor": 5
}
