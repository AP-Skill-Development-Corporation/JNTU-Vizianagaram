{
 "cells": [
  {
   "cell_type": "markdown",
   "id": "9493dcbb",
   "metadata": {},
   "source": [
    "## Day Objectives:\n",
    "\n",
    "- Python Built-in Data Structures.\n",
    "    - List\n",
    "        - It is an ordered and mutable data structure.\n",
    "        - declared by using []\n",
    "        - we can store heterogeneous values (any data type)\n",
    "        - It allows duplicate values.\n",
    "    - Tuple\n",
    "    - Set\n",
    "    - Dictionary"
   ]
  },
  {
   "cell_type": "code",
   "execution_count": 1,
   "id": "9091a3ee",
   "metadata": {},
   "outputs": [
    {
     "data": {
      "text/plain": [
       "[2, 5, 6, 'str', 45.5]"
      ]
     },
     "execution_count": 1,
     "metadata": {},
     "output_type": "execute_result"
    }
   ],
   "source": [
    "li=[2,5,6,'str',45.5]\n",
    "li"
   ]
  },
  {
   "cell_type": "code",
   "execution_count": 2,
   "id": "20c53e62",
   "metadata": {},
   "outputs": [
    {
     "data": {
      "text/plain": [
       "[2, 4, 5, 2, 4, 5, 'str', 'abc', 'str', 49.5]"
      ]
     },
     "execution_count": 2,
     "metadata": {},
     "output_type": "execute_result"
    }
   ],
   "source": [
    "#Duplicate elements\n",
    "li1=[2,4,5,2,4,5,'str','abc','str',49.5]\n",
    "li1"
   ]
  },
  {
   "cell_type": "code",
   "execution_count": 5,
   "id": "e7bfd855",
   "metadata": {},
   "outputs": [
    {
     "data": {
      "text/plain": [
       "[2, 4, 5, 2, 4, 5, 12.5]"
      ]
     },
     "execution_count": 5,
     "metadata": {},
     "output_type": "execute_result"
    }
   ],
   "source": [
    "li=[2,4,5,2,4,5,12.5]\n",
    "li"
   ]
  },
  {
   "cell_type": "code",
   "execution_count": 7,
   "id": "c12c1cab",
   "metadata": {
    "scrolled": true
   },
   "outputs": [
    {
     "data": {
      "text/plain": [
       "2"
      ]
     },
     "execution_count": 7,
     "metadata": {},
     "output_type": "execute_result"
    }
   ],
   "source": [
    "li\n",
    "min(li) # minimum element"
   ]
  },
  {
   "cell_type": "code",
   "execution_count": 8,
   "id": "92533c9e",
   "metadata": {},
   "outputs": [
    {
     "data": {
      "text/plain": [
       "12.5"
      ]
     },
     "execution_count": 8,
     "metadata": {},
     "output_type": "execute_result"
    }
   ],
   "source": [
    "max(li) # maximum element"
   ]
  },
  {
   "cell_type": "code",
   "execution_count": 9,
   "id": "2e8524de",
   "metadata": {},
   "outputs": [
    {
     "data": {
      "text/plain": [
       "34.5"
      ]
     },
     "execution_count": 9,
     "metadata": {},
     "output_type": "execute_result"
    }
   ],
   "source": [
    "sum(li) # summation of all elements(only applicable for homogeneous data)"
   ]
  },
  {
   "cell_type": "markdown",
   "id": "111ef213",
   "metadata": {},
   "source": [
    "### Indexing and Slicing\n",
    "\n",
    "- both indexing and slicing same like strings.\n",
    "- forward indexing starts from 0 (left to right)\n",
    "- negative or backward indexing starts from -1 ( right to left)"
   ]
  },
  {
   "cell_type": "code",
   "execution_count": 15,
   "id": "af85d379",
   "metadata": {},
   "outputs": [
    {
     "data": {
      "text/plain": [
       "'black'"
      ]
     },
     "execution_count": 15,
     "metadata": {},
     "output_type": "execute_result"
    }
   ],
   "source": [
    "colors = ['yellow','green','pink','white','black']\n",
    "min(colors)"
   ]
  },
  {
   "cell_type": "code",
   "execution_count": 11,
   "id": "8732548b",
   "metadata": {},
   "outputs": [
    {
     "data": {
      "text/plain": [
       "'yellow'"
      ]
     },
     "execution_count": 11,
     "metadata": {},
     "output_type": "execute_result"
    }
   ],
   "source": [
    "max(colors)"
   ]
  },
  {
   "cell_type": "code",
   "execution_count": 12,
   "id": "d2da62d0",
   "metadata": {
    "collapsed": true
   },
   "outputs": [
    {
     "ename": "TypeError",
     "evalue": "unsupported operand type(s) for +: 'int' and 'str'",
     "output_type": "error",
     "traceback": [
      "\u001b[1;31m---------------------------------------------------------------------------\u001b[0m",
      "\u001b[1;31mTypeError\u001b[0m                                 Traceback (most recent call last)",
      "\u001b[1;32m<ipython-input-12-5df26801c57b>\u001b[0m in \u001b[0;36m<module>\u001b[1;34m\u001b[0m\n\u001b[1;32m----> 1\u001b[1;33m \u001b[0msum\u001b[0m\u001b[1;33m(\u001b[0m\u001b[0mcolors\u001b[0m\u001b[1;33m)\u001b[0m\u001b[1;33m\u001b[0m\u001b[1;33m\u001b[0m\u001b[0m\n\u001b[0m",
      "\u001b[1;31mTypeError\u001b[0m: unsupported operand type(s) for +: 'int' and 'str'"
     ]
    }
   ],
   "source": [
    "sum(colors)"
   ]
  },
  {
   "cell_type": "code",
   "execution_count": 17,
   "id": "172c0a25",
   "metadata": {},
   "outputs": [
    {
     "data": {
      "text/plain": [
       "'green'"
      ]
     },
     "execution_count": 17,
     "metadata": {},
     "output_type": "execute_result"
    }
   ],
   "source": [
    "colors[-4] # pink"
   ]
  },
  {
   "cell_type": "code",
   "execution_count": 18,
   "id": "992f4bf0",
   "metadata": {
    "collapsed": true
   },
   "outputs": [
    {
     "ename": "IndexError",
     "evalue": "list index out of range",
     "output_type": "error",
     "traceback": [
      "\u001b[1;31m---------------------------------------------------------------------------\u001b[0m",
      "\u001b[1;31mIndexError\u001b[0m                                Traceback (most recent call last)",
      "\u001b[1;32m<ipython-input-18-7a3df347a507>\u001b[0m in \u001b[0;36m<module>\u001b[1;34m\u001b[0m\n\u001b[1;32m----> 1\u001b[1;33m \u001b[0mcolors\u001b[0m\u001b[1;33m[\u001b[0m\u001b[1;33m-\u001b[0m\u001b[1;36m6\u001b[0m\u001b[1;33m]\u001b[0m\u001b[1;33m\u001b[0m\u001b[1;33m\u001b[0m\u001b[0m\n\u001b[0m",
      "\u001b[1;31mIndexError\u001b[0m: list index out of range"
     ]
    }
   ],
   "source": [
    "colors[-6]"
   ]
  },
  {
   "cell_type": "code",
   "execution_count": 19,
   "id": "36cc88f4",
   "metadata": {},
   "outputs": [
    {
     "data": {
      "text/plain": [
       "'p'"
      ]
     },
     "execution_count": 19,
     "metadata": {},
     "output_type": "execute_result"
    }
   ],
   "source": [
    "colors[-3][0]"
   ]
  },
  {
   "cell_type": "code",
   "execution_count": 20,
   "id": "b69ea29a",
   "metadata": {},
   "outputs": [
    {
     "name": "stdout",
     "output_type": "stream",
     "text": [
      "['yellow', 'green', 'pink', 'white', 'black']\n"
     ]
    }
   ],
   "source": [
    "print(colors)"
   ]
  },
  {
   "cell_type": "code",
   "execution_count": 21,
   "id": "78a357d4",
   "metadata": {},
   "outputs": [
    {
     "data": {
      "text/plain": [
       "['yellow', 'green', 'pink']"
      ]
     },
     "execution_count": 21,
     "metadata": {},
     "output_type": "execute_result"
    }
   ],
   "source": [
    "colors[:3]"
   ]
  },
  {
   "cell_type": "code",
   "execution_count": 22,
   "id": "78d37cd1",
   "metadata": {},
   "outputs": [
    {
     "data": {
      "text/plain": [
       "['pink', 'white', 'black']"
      ]
     },
     "execution_count": 22,
     "metadata": {},
     "output_type": "execute_result"
    }
   ],
   "source": [
    "colors[2:]"
   ]
  },
  {
   "cell_type": "code",
   "execution_count": 23,
   "id": "02d938ab",
   "metadata": {},
   "outputs": [
    {
     "data": {
      "text/plain": [
       "'eiw'"
      ]
     },
     "execution_count": 23,
     "metadata": {},
     "output_type": "execute_result"
    }
   ],
   "source": [
    "colors[3][::-2]"
   ]
  },
  {
   "cell_type": "code",
   "execution_count": 28,
   "id": "ebf30948",
   "metadata": {},
   "outputs": [
    {
     "data": {
      "text/plain": [
       "['green', 'yellow']"
      ]
     },
     "execution_count": 28,
     "metadata": {},
     "output_type": "execute_result"
    }
   ],
   "source": [
    "colors[:2][::-1]"
   ]
  },
  {
   "cell_type": "code",
   "execution_count": 34,
   "id": "7485b3a6",
   "metadata": {},
   "outputs": [
    {
     "data": {
      "text/plain": [
       "[543, '189', 54, 213]"
      ]
     },
     "execution_count": 34,
     "metadata": {},
     "output_type": "execute_result"
    }
   ],
   "source": [
    "n = [213,54,'189',543]\n",
    "n[2][::-1]\n",
    "n[1:3][::-1]\n",
    "n[::-1]"
   ]
  },
  {
   "cell_type": "code",
   "execution_count": 29,
   "id": "42629c77",
   "metadata": {},
   "outputs": [
    {
     "data": {
      "text/plain": [
       "[54, 213]"
      ]
     },
     "execution_count": 29,
     "metadata": {},
     "output_type": "execute_result"
    }
   ],
   "source": [
    "n[:2][::-1]"
   ]
  },
  {
   "cell_type": "code",
   "execution_count": 38,
   "id": "fb1225d7",
   "metadata": {},
   "outputs": [],
   "source": [
    "l = ['avanthi','andhra','diet','Vignan','Vemu','Bvc','Aditya']"
   ]
  },
  {
   "cell_type": "code",
   "execution_count": 39,
   "id": "dbd46024",
   "metadata": {},
   "outputs": [
    {
     "data": {
      "text/plain": [
       "'Aditya'"
      ]
     },
     "execution_count": 39,
     "metadata": {},
     "output_type": "execute_result"
    }
   ],
   "source": [
    "min(l)"
   ]
  },
  {
   "cell_type": "code",
   "execution_count": 40,
   "id": "e591e3c9",
   "metadata": {},
   "outputs": [
    {
     "data": {
      "text/plain": [
       "'diet'"
      ]
     },
     "execution_count": 40,
     "metadata": {},
     "output_type": "execute_result"
    }
   ],
   "source": [
    "max(l)"
   ]
  },
  {
   "cell_type": "markdown",
   "id": "f536d6b6",
   "metadata": {},
   "source": [
    "- WAP to print 1 to 100 numbers without using single digit in ur program.\n",
    "- WAP to print 100 to 1 numbers also."
   ]
  },
  {
   "cell_type": "code",
   "execution_count": 31,
   "id": "141723ef",
   "metadata": {
    "collapsed": true
   },
   "outputs": [
    {
     "name": "stdout",
     "output_type": "stream",
     "text": [
      "['__add__', '__class__', '__contains__', '__delattr__', '__delitem__', '__dir__', '__doc__', '__eq__', '__format__', '__ge__', '__getattribute__', '__getitem__', '__gt__', '__hash__', '__iadd__', '__imul__', '__init__', '__init_subclass__', '__iter__', '__le__', '__len__', '__lt__', '__mul__', '__ne__', '__new__', '__reduce__', '__reduce_ex__', '__repr__', '__reversed__', '__rmul__', '__setattr__', '__setitem__', '__sizeof__', '__str__', '__subclasshook__', 'append', 'clear', 'copy', 'count', 'extend', 'index', 'insert', 'pop', 'remove', 'reverse', 'sort']\n"
     ]
    }
   ],
   "source": [
    "print(dir(list))"
   ]
  },
  {
   "cell_type": "markdown",
   "id": "4c33dabf",
   "metadata": {},
   "source": [
    "### List methods\n",
    "\n",
    "- As we discussed that list is a mutable DS means we can modify, delete or add any element.\n",
    "    - CRUD operations\n",
    "        - C --> create\n",
    "        - R --> read\n",
    "        - U --> update\n",
    "        - D --> delete"
   ]
  },
  {
   "cell_type": "markdown",
   "id": "af7ba2dd",
   "metadata": {},
   "source": [
    "#### Adding new elements to a list\n",
    "- append() --> to add single element at a time at the end of the list\n",
    "    - li_name.append(elmnt)\n",
    "- extend() --> to add two more elements or to add another list to current list\n",
    "    - li_name.extend([no.of elmnts])"
   ]
  },
  {
   "cell_type": "code",
   "execution_count": 41,
   "id": "a423676d",
   "metadata": {},
   "outputs": [],
   "source": [
    "names = [\"yonus\",\"mouni\",'beula','aswin']\n",
    "names.append('ananya')"
   ]
  },
  {
   "cell_type": "code",
   "execution_count": 42,
   "id": "0072dc3b",
   "metadata": {
    "collapsed": true
   },
   "outputs": [
    {
     "data": {
      "text/plain": [
       "['yonus', 'mouni', 'beula', 'aswin', 'ananya']"
      ]
     },
     "execution_count": 42,
     "metadata": {},
     "output_type": "execute_result"
    }
   ],
   "source": [
    "names"
   ]
  },
  {
   "cell_type": "code",
   "execution_count": 43,
   "id": "45884527",
   "metadata": {},
   "outputs": [
    {
     "name": "stdout",
     "output_type": "stream",
     "text": [
      "['yonus', 'mouni', 'beula', 'aswin', 'ananya', 'ananya']\n"
     ]
    }
   ],
   "source": [
    "names.append('ananya')\n",
    "print(names)"
   ]
  },
  {
   "cell_type": "code",
   "execution_count": 44,
   "id": "ecf2765d",
   "metadata": {
    "collapsed": true
   },
   "outputs": [
    {
     "ename": "TypeError",
     "evalue": "append() takes exactly one argument (2 given)",
     "output_type": "error",
     "traceback": [
      "\u001b[1;31m---------------------------------------------------------------------------\u001b[0m",
      "\u001b[1;31mTypeError\u001b[0m                                 Traceback (most recent call last)",
      "\u001b[1;32m<ipython-input-44-24ff439d8ad9>\u001b[0m in \u001b[0;36m<module>\u001b[1;34m\u001b[0m\n\u001b[1;32m----> 1\u001b[1;33m \u001b[0mnames\u001b[0m\u001b[1;33m.\u001b[0m\u001b[0mappend\u001b[0m\u001b[1;33m(\u001b[0m\u001b[1;34m'a'\u001b[0m\u001b[1;33m,\u001b[0m\u001b[1;34m'b'\u001b[0m\u001b[1;33m)\u001b[0m\u001b[1;33m\u001b[0m\u001b[1;33m\u001b[0m\u001b[0m\n\u001b[0m",
      "\u001b[1;31mTypeError\u001b[0m: append() takes exactly one argument (2 given)"
     ]
    }
   ],
   "source": [
    "names.append('a','b')"
   ]
  },
  {
   "cell_type": "code",
   "execution_count": 45,
   "id": "6ec09413",
   "metadata": {
    "scrolled": true
   },
   "outputs": [
    {
     "name": "stdout",
     "output_type": "stream",
     "text": [
      "['yonus', 'mouni', 'beula', 'aswin', 'ananya', 'ananya', 'krishna', 'surya']\n"
     ]
    }
   ],
   "source": [
    "# extend()\n",
    "names.extend(['krishna','surya'])\n",
    "print(names)"
   ]
  },
  {
   "cell_type": "code",
   "execution_count": 46,
   "id": "46164a3c",
   "metadata": {},
   "outputs": [],
   "source": [
    "names.append(['hello','hai'])"
   ]
  },
  {
   "cell_type": "code",
   "execution_count": 48,
   "id": "dee51bb8",
   "metadata": {},
   "outputs": [
    {
     "name": "stdout",
     "output_type": "stream",
     "text": [
      "['yonus', 'mouni', 'beula', 'aswin', 'ananya', 'ananya', 'krishna', 'surya', ['hello', 'hai']]\n"
     ]
    }
   ],
   "source": [
    "print(names)"
   ]
  },
  {
   "cell_type": "code",
   "execution_count": 49,
   "id": "8c24b0c5",
   "metadata": {},
   "outputs": [
    {
     "data": {
      "text/plain": [
       "['hello', 'hai']"
      ]
     },
     "execution_count": 49,
     "metadata": {},
     "output_type": "execute_result"
    }
   ],
   "source": [
    "names[-1]"
   ]
  },
  {
   "cell_type": "code",
   "execution_count": 51,
   "id": "1d710c93",
   "metadata": {},
   "outputs": [
    {
     "data": {
      "text/plain": [
       "8"
      ]
     },
     "execution_count": 51,
     "metadata": {},
     "output_type": "execute_result"
    }
   ],
   "source": [
    "# index()\n",
    "names.index(['hello','hai'])"
   ]
  },
  {
   "cell_type": "code",
   "execution_count": 52,
   "id": "9214624d",
   "metadata": {},
   "outputs": [
    {
     "data": {
      "text/plain": [
       "0"
      ]
     },
     "execution_count": 52,
     "metadata": {},
     "output_type": "execute_result"
    }
   ],
   "source": [
    "a = [1,4,2,6,7,8,4,1,4,9]\n",
    "a.count(0)"
   ]
  },
  {
   "cell_type": "code",
   "execution_count": 53,
   "id": "ee43501f",
   "metadata": {
    "collapsed": true
   },
   "outputs": [
    {
     "ename": "ValueError",
     "evalue": "0 is not in list",
     "output_type": "error",
     "traceback": [
      "\u001b[1;31m---------------------------------------------------------------------------\u001b[0m",
      "\u001b[1;31mValueError\u001b[0m                                Traceback (most recent call last)",
      "\u001b[1;32m<ipython-input-53-affdffa288f1>\u001b[0m in \u001b[0;36m<module>\u001b[1;34m\u001b[0m\n\u001b[1;32m----> 1\u001b[1;33m \u001b[0ma\u001b[0m\u001b[1;33m.\u001b[0m\u001b[0mindex\u001b[0m\u001b[1;33m(\u001b[0m\u001b[1;36m0\u001b[0m\u001b[1;33m)\u001b[0m\u001b[1;33m\u001b[0m\u001b[1;33m\u001b[0m\u001b[0m\n\u001b[0m",
      "\u001b[1;31mValueError\u001b[0m: 0 is not in list"
     ]
    }
   ],
   "source": [
    "a.index(0) # li_name.index(elmnt)"
   ]
  },
  {
   "cell_type": "code",
   "execution_count": 5,
   "id": "8fc12e21",
   "metadata": {},
   "outputs": [],
   "source": [
    "# copy()\n",
    "a=[2,3,5,4,6,7]\n",
    "b=a.copy()\n",
    "c = a"
   ]
  },
  {
   "cell_type": "code",
   "execution_count": 6,
   "id": "1b562dea",
   "metadata": {
    "scrolled": false
   },
   "outputs": [
    {
     "name": "stdout",
     "output_type": "stream",
     "text": [
      "[2, 3, 5, 4, 6, 7]\n",
      "[2, 3, 5, 4, 6, 7]\n"
     ]
    }
   ],
   "source": [
    "print(b)\n",
    "print(c)"
   ]
  },
  {
   "cell_type": "code",
   "execution_count": 7,
   "id": "c91d98f3",
   "metadata": {},
   "outputs": [],
   "source": [
    "b.append(100)"
   ]
  },
  {
   "cell_type": "code",
   "execution_count": 9,
   "id": "755cb741",
   "metadata": {
    "collapsed": true
   },
   "outputs": [
    {
     "name": "stdout",
     "output_type": "stream",
     "text": [
      "[2, 3, 5, 4, 6, 7]\n",
      "[2, 3, 5, 4, 6, 7, 100]\n"
     ]
    }
   ],
   "source": [
    "print(a)\n",
    "print(b)"
   ]
  },
  {
   "cell_type": "code",
   "execution_count": 10,
   "id": "f99ba828",
   "metadata": {
    "collapsed": true
   },
   "outputs": [
    {
     "name": "stdout",
     "output_type": "stream",
     "text": [
      "[2, 3, 5, 4, 6, 7, 123]\n",
      "[2, 3, 5, 4, 6, 7, 123]\n"
     ]
    }
   ],
   "source": [
    "c.append(123)\n",
    "print(a)\n",
    "print(c)"
   ]
  },
  {
   "cell_type": "code",
   "execution_count": 1,
   "id": "388d5988",
   "metadata": {},
   "outputs": [
    {
     "data": {
      "text/plain": [
       "[3, 4, 5, 6, 7]"
      ]
     },
     "execution_count": 1,
     "metadata": {},
     "output_type": "execute_result"
    }
   ],
   "source": [
    "#insert\n",
    "li=[3,4,5,6,7]\n",
    "li"
   ]
  },
  {
   "cell_type": "code",
   "execution_count": 2,
   "id": "b13dbd4a",
   "metadata": {},
   "outputs": [],
   "source": [
    "li.insert(2,112)"
   ]
  },
  {
   "cell_type": "code",
   "execution_count": 3,
   "id": "4588a958",
   "metadata": {},
   "outputs": [
    {
     "data": {
      "text/plain": [
       "[3, 4, 112, 5, 6, 7]"
      ]
     },
     "execution_count": 3,
     "metadata": {},
     "output_type": "execute_result"
    }
   ],
   "source": [
    "li"
   ]
  },
  {
   "cell_type": "code",
   "execution_count": 4,
   "id": "3641daa8",
   "metadata": {},
   "outputs": [],
   "source": [
    "li[2]=12"
   ]
  },
  {
   "cell_type": "code",
   "execution_count": 5,
   "id": "c480ccee",
   "metadata": {},
   "outputs": [
    {
     "data": {
      "text/plain": [
       "[3, 4, 12, 5, 6, 7]"
      ]
     },
     "execution_count": 5,
     "metadata": {},
     "output_type": "execute_result"
    }
   ],
   "source": [
    "li"
   ]
  },
  {
   "cell_type": "code",
   "execution_count": 7,
   "id": "07f3d51b",
   "metadata": {},
   "outputs": [
    {
     "data": {
      "text/plain": [
       "[3, 4, 12, 5]"
      ]
     },
     "execution_count": 7,
     "metadata": {},
     "output_type": "execute_result"
    }
   ],
   "source": [
    "#pop\n",
    "li.pop()\n",
    "li"
   ]
  },
  {
   "cell_type": "code",
   "execution_count": 8,
   "id": "3646bd9d",
   "metadata": {},
   "outputs": [
    {
     "data": {
      "text/plain": [
       "12"
      ]
     },
     "execution_count": 8,
     "metadata": {},
     "output_type": "execute_result"
    }
   ],
   "source": [
    "li.pop(2)  #index position"
   ]
  },
  {
   "cell_type": "code",
   "execution_count": 9,
   "id": "4a415e5d",
   "metadata": {},
   "outputs": [
    {
     "data": {
      "text/plain": [
       "[3, 4, 5]"
      ]
     },
     "execution_count": 9,
     "metadata": {},
     "output_type": "execute_result"
    }
   ],
   "source": [
    "li"
   ]
  },
  {
   "cell_type": "code",
   "execution_count": 13,
   "id": "96d3bbbe",
   "metadata": {
    "collapsed": true
   },
   "outputs": [
    {
     "ename": "ValueError",
     "evalue": "list.remove(x): x not in list",
     "output_type": "error",
     "traceback": [
      "\u001b[1;31m---------------------------------------------------------------------------\u001b[0m",
      "\u001b[1;31mValueError\u001b[0m                                Traceback (most recent call last)",
      "\u001b[1;32m<ipython-input-13-0f7bc24b18a6>\u001b[0m in \u001b[0;36m<module>\u001b[1;34m\u001b[0m\n\u001b[1;32m----> 1\u001b[1;33m \u001b[0mli\u001b[0m\u001b[1;33m.\u001b[0m\u001b[0mremove\u001b[0m\u001b[1;33m(\u001b[0m\u001b[1;36m4\u001b[0m\u001b[1;33m)\u001b[0m\u001b[1;33m\u001b[0m\u001b[1;33m\u001b[0m\u001b[0m\n\u001b[0m",
      "\u001b[1;31mValueError\u001b[0m: list.remove(x): x not in list"
     ]
    }
   ],
   "source": [
    "li.remove(4)"
   ]
  },
  {
   "cell_type": "code",
   "execution_count": 11,
   "id": "1d9f11b8",
   "metadata": {},
   "outputs": [
    {
     "data": {
      "text/plain": [
       "[3, 5]"
      ]
     },
     "execution_count": 11,
     "metadata": {},
     "output_type": "execute_result"
    }
   ],
   "source": [
    "li"
   ]
  },
  {
   "cell_type": "code",
   "execution_count": 12,
   "id": "8b0244be",
   "metadata": {
    "collapsed": true
   },
   "outputs": [
    {
     "ename": "IndexError",
     "evalue": "pop index out of range",
     "output_type": "error",
     "traceback": [
      "\u001b[1;31m---------------------------------------------------------------------------\u001b[0m",
      "\u001b[1;31mIndexError\u001b[0m                                Traceback (most recent call last)",
      "\u001b[1;32m<ipython-input-12-6ab7b9c6dc5c>\u001b[0m in \u001b[0;36m<module>\u001b[1;34m\u001b[0m\n\u001b[1;32m----> 1\u001b[1;33m \u001b[0mli\u001b[0m\u001b[1;33m.\u001b[0m\u001b[0mpop\u001b[0m\u001b[1;33m(\u001b[0m\u001b[1;36m4\u001b[0m\u001b[1;33m)\u001b[0m\u001b[1;33m\u001b[0m\u001b[1;33m\u001b[0m\u001b[0m\n\u001b[0m",
      "\u001b[1;31mIndexError\u001b[0m: pop index out of range"
     ]
    }
   ],
   "source": [
    "li.pop(4)"
   ]
  },
  {
   "cell_type": "code",
   "execution_count": 14,
   "id": "e1d77f4e",
   "metadata": {},
   "outputs": [],
   "source": [
    "li.clear()"
   ]
  },
  {
   "cell_type": "code",
   "execution_count": 15,
   "id": "1e6118c2",
   "metadata": {},
   "outputs": [
    {
     "data": {
      "text/plain": [
       "[]"
      ]
     },
     "execution_count": 15,
     "metadata": {},
     "output_type": "execute_result"
    }
   ],
   "source": [
    "li"
   ]
  },
  {
   "cell_type": "code",
   "execution_count": 17,
   "id": "c15b88df",
   "metadata": {},
   "outputs": [],
   "source": [
    "a = [1,2,3]\n",
    "del a"
   ]
  },
  {
   "cell_type": "code",
   "execution_count": 18,
   "id": "e608389b",
   "metadata": {
    "collapsed": true
   },
   "outputs": [
    {
     "ename": "NameError",
     "evalue": "name 'a' is not defined",
     "output_type": "error",
     "traceback": [
      "\u001b[1;31m---------------------------------------------------------------------------\u001b[0m",
      "\u001b[1;31mNameError\u001b[0m                                 Traceback (most recent call last)",
      "\u001b[1;32m<ipython-input-18-3f786850e387>\u001b[0m in \u001b[0;36m<module>\u001b[1;34m\u001b[0m\n\u001b[1;32m----> 1\u001b[1;33m \u001b[0ma\u001b[0m\u001b[1;33m\u001b[0m\u001b[1;33m\u001b[0m\u001b[0m\n\u001b[0m",
      "\u001b[1;31mNameError\u001b[0m: name 'a' is not defined"
     ]
    }
   ],
   "source": [
    "a"
   ]
  },
  {
   "cell_type": "code",
   "execution_count": 24,
   "id": "9db1f29c",
   "metadata": {},
   "outputs": [
    {
     "data": {
      "text/plain": [
       "[76, 56, 10, 7, 6, 3]"
      ]
     },
     "execution_count": 24,
     "metadata": {},
     "output_type": "execute_result"
    }
   ],
   "source": [
    "#sort()\n",
    "li=[6,7,10,3,56,76]\n",
    "li.sort(reverse=True)\n",
    "li"
   ]
  },
  {
   "cell_type": "code",
   "execution_count": 20,
   "id": "cc57a377",
   "metadata": {},
   "outputs": [],
   "source": [
    "li.reverse()"
   ]
  },
  {
   "cell_type": "code",
   "execution_count": 21,
   "id": "ea6300db",
   "metadata": {},
   "outputs": [
    {
     "data": {
      "text/plain": [
       "[76, 56, 10, 7, 6, 3]"
      ]
     },
     "execution_count": 21,
     "metadata": {},
     "output_type": "execute_result"
    }
   ],
   "source": [
    "li"
   ]
  },
  {
   "cell_type": "markdown",
   "id": "40c9babd",
   "metadata": {},
   "source": [
    "- print all unique values in a given list\n",
    "````\n",
    "I/P: [1,2,5,0,6,0,1,2,4]\n",
    "o/p: [5,6,4]\n",
    "````\n",
    "- WAP to print all duplicate values in a given list\n",
    "````\n",
    "I/P: [1,2,5,0,6,0,1,2,4]\n",
    "o/p: [1,2,0]\n",
    "````\n",
    "- WAP to print all elements after removing all duplicate values\n",
    "````\n",
    "I/P: [1,2,5,0,6,0,1,2,4]\n",
    "o/p: [1,2,5,0,6,4]\n",
    "````\n"
   ]
  },
  {
   "cell_type": "markdown",
   "id": "63f3fe40",
   "metadata": {},
   "source": [
    "- WAP to print kth largest value in a given list.(may contains negative values)\n",
    "- WAP to nth minimum value in a given list.(may contains negative values)\n",
    "- WAP to print all strings which contains aleast two vowels.\n",
    "````\n",
    "Example: i/p: ['abc','ishh','idea','print','input']\n",
    "         o/p: ['idea','input']\n",
    "````"
   ]
  },
  {
   "cell_type": "code",
   "execution_count": 26,
   "id": "b17b4288",
   "metadata": {},
   "outputs": [
    {
     "name": "stdout",
     "output_type": "stream",
     "text": [
      "[5, 6, 4]\n"
     ]
    }
   ],
   "source": [
    "# Task-1\n",
    "li = [1,2,5,0,6,0,1,2,4]\n",
    "d_l = []\n",
    "for i in li:\n",
    "    if li.count(i)== 1:\n",
    "        d_l.append(i)\n",
    "print(d_l)      "
   ]
  },
  {
   "cell_type": "code",
   "execution_count": 25,
   "id": "221bf314",
   "metadata": {},
   "outputs": [
    {
     "name": "stdout",
     "output_type": "stream",
     "text": [
      "[1, 2, 0]\n"
     ]
    }
   ],
   "source": [
    "# Task-2\n",
    "\n",
    "li = [1,2,5,0,6,0,1,2,4]\n",
    "d_l = []\n",
    "for i in li:\n",
    "    if li.count(i) > 1:\n",
    "        if d_l.count(i) < 1:\n",
    "            d_l.append(i)\n",
    "print(d_l)"
   ]
  },
  {
   "cell_type": "code",
   "execution_count": 28,
   "id": "9b532040",
   "metadata": {},
   "outputs": [
    {
     "name": "stdout",
     "output_type": "stream",
     "text": [
      "[1, 2, 0]\n"
     ]
    }
   ],
   "source": [
    "duplicate = []\n",
    "for i in li:\n",
    "    if li.count(i) >=2:\n",
    "        if i not in duplicate:\n",
    "            duplicate.append(i)\n",
    "print(duplicate)"
   ]
  },
  {
   "cell_type": "code",
   "execution_count": 27,
   "id": "92da7e92",
   "metadata": {},
   "outputs": [
    {
     "name": "stdout",
     "output_type": "stream",
     "text": [
      "[1, 2, 5, 0, 6, 4]\n"
     ]
    }
   ],
   "source": [
    "# Task-3\n",
    "li = [1,2,5,0,6,0,1,2,4]\n",
    "d_l = []\n",
    "for i in li:\n",
    "    if d_l.count(i) < 1:\n",
    "        d_l.append(i)\n",
    "print(d_l)"
   ]
  },
  {
   "cell_type": "code",
   "execution_count": 29,
   "id": "ad6fe2ca",
   "metadata": {},
   "outputs": [
    {
     "name": "stdout",
     "output_type": "stream",
     "text": [
      "[1, 2, 5, 0, 6, 4]\n"
     ]
    }
   ],
   "source": [
    "d = []\n",
    "for i in li:\n",
    "    if i not in d:\n",
    "        d.append(i)\n",
    "print(d)"
   ]
  },
  {
   "cell_type": "code",
   "execution_count": null,
   "id": "cc978162",
   "metadata": {},
   "outputs": [],
   "source": [
    "# Task-4"
   ]
  },
  {
   "cell_type": "code",
   "execution_count": null,
   "id": "5e0d5c2f",
   "metadata": {},
   "outputs": [],
   "source": [
    "# Task-5"
   ]
  },
  {
   "cell_type": "code",
   "execution_count": 33,
   "id": "a1724a91",
   "metadata": {
    "collapsed": true
   },
   "outputs": [
    {
     "name": "stdout",
     "output_type": "stream",
     "text": [
      "['idea', 'input']\n"
     ]
    }
   ],
   "source": [
    "# Task-6\n",
    "li = ['abc','ishh','idea','print','input']\n",
    "result = []\n",
    "for element in li:\n",
    "    vc=0\n",
    "    for ch in element:\n",
    "        if ch in 'aeiou':\n",
    "            vc += 1\n",
    "    if vc>=2:\n",
    "        result.append(element)\n",
    "print(result)"
   ]
  },
  {
   "cell_type": "markdown",
   "id": "cce8274a",
   "metadata": {},
   "source": [
    "## Tuple\n",
    "\n",
    "- It is an immutable DS\n",
    "- indexing slicing same as list\n",
    "- we can store homogeneous or heteregeneous data\n",
    "- declared by using ()\n",
    "- tuple()"
   ]
  },
  {
   "cell_type": "code",
   "execution_count": 34,
   "id": "96e236dc",
   "metadata": {},
   "outputs": [
    {
     "name": "stdout",
     "output_type": "stream",
     "text": [
      "('java', 'c', 'c++', 'python', 'c')\n"
     ]
    }
   ],
   "source": [
    "pro_lang = ('java','c','c++','python','c')\n",
    "print(pro_lang)"
   ]
  },
  {
   "cell_type": "code",
   "execution_count": 35,
   "id": "14942ecd",
   "metadata": {},
   "outputs": [
    {
     "data": {
      "text/plain": [
       "'java'"
      ]
     },
     "execution_count": 35,
     "metadata": {},
     "output_type": "execute_result"
    }
   ],
   "source": [
    "# indexing & slicing\n",
    "pro_lang[0]"
   ]
  },
  {
   "cell_type": "code",
   "execution_count": 36,
   "id": "10824a67",
   "metadata": {},
   "outputs": [
    {
     "data": {
      "text/plain": [
       "('java', 'c', 'c++')"
      ]
     },
     "execution_count": 36,
     "metadata": {},
     "output_type": "execute_result"
    }
   ],
   "source": [
    "pro_lang[:3] # slicing"
   ]
  },
  {
   "cell_type": "code",
   "execution_count": 37,
   "id": "8830d6c8",
   "metadata": {},
   "outputs": [
    {
     "data": {
      "text/plain": [
       "('c', 'python', 'c++', 'c', 'java')"
      ]
     },
     "execution_count": 37,
     "metadata": {},
     "output_type": "execute_result"
    }
   ],
   "source": [
    "pro_lang[::-1]"
   ]
  },
  {
   "cell_type": "code",
   "execution_count": 38,
   "id": "0d76db1a",
   "metadata": {},
   "outputs": [
    {
     "name": "stdout",
     "output_type": "stream",
     "text": [
      "2 8 24 5\n"
     ]
    }
   ],
   "source": [
    "t = (5,6,3,2,8)\n",
    "print(min(t),max(t),sum(t),len(t))"
   ]
  },
  {
   "cell_type": "code",
   "execution_count": 39,
   "id": "d4e2b2d2",
   "metadata": {
    "collapsed": true
   },
   "outputs": [
    {
     "ename": "TypeError",
     "evalue": "'tuple' object does not support item assignment",
     "output_type": "error",
     "traceback": [
      "\u001b[1;31m---------------------------------------------------------------------------\u001b[0m",
      "\u001b[1;31mTypeError\u001b[0m                                 Traceback (most recent call last)",
      "\u001b[1;32m<ipython-input-39-1ed54fc31084>\u001b[0m in \u001b[0;36m<module>\u001b[1;34m\u001b[0m\n\u001b[1;32m----> 1\u001b[1;33m \u001b[0mt\u001b[0m\u001b[1;33m[\u001b[0m\u001b[1;36m3\u001b[0m\u001b[1;33m]\u001b[0m \u001b[1;33m=\u001b[0m \u001b[1;36m45\u001b[0m\u001b[1;33m\u001b[0m\u001b[1;33m\u001b[0m\u001b[0m\n\u001b[0m\u001b[0;32m      2\u001b[0m \u001b[0mprint\u001b[0m\u001b[1;33m(\u001b[0m\u001b[0mt\u001b[0m\u001b[1;33m)\u001b[0m\u001b[1;33m\u001b[0m\u001b[1;33m\u001b[0m\u001b[0m\n",
      "\u001b[1;31mTypeError\u001b[0m: 'tuple' object does not support item assignment"
     ]
    }
   ],
   "source": [
    "t[3] = 45\n",
    "print(t)"
   ]
  },
  {
   "cell_type": "code",
   "execution_count": 40,
   "id": "2b02dd1f",
   "metadata": {},
   "outputs": [
    {
     "name": "stdout",
     "output_type": "stream",
     "text": [
      "['__add__', '__class__', '__contains__', '__delattr__', '__dir__', '__doc__', '__eq__', '__format__', '__ge__', '__getattribute__', '__getitem__', '__getnewargs__', '__gt__', '__hash__', '__init__', '__init_subclass__', '__iter__', '__le__', '__len__', '__lt__', '__mul__', '__ne__', '__new__', '__reduce__', '__reduce_ex__', '__repr__', '__rmul__', '__setattr__', '__sizeof__', '__str__', '__subclasshook__', 'count', 'index']\n"
     ]
    }
   ],
   "source": [
    "print(dir(tuple))"
   ]
  },
  {
   "cell_type": "code",
   "execution_count": 41,
   "id": "1c0bed0d",
   "metadata": {},
   "outputs": [
    {
     "data": {
      "text/plain": [
       "0"
      ]
     },
     "execution_count": 41,
     "metadata": {},
     "output_type": "execute_result"
    }
   ],
   "source": [
    "t.index(5)"
   ]
  },
  {
   "cell_type": "code",
   "execution_count": 42,
   "id": "b51bfee9",
   "metadata": {},
   "outputs": [
    {
     "data": {
      "text/plain": [
       "1"
      ]
     },
     "execution_count": 42,
     "metadata": {},
     "output_type": "execute_result"
    }
   ],
   "source": [
    "t.count(5)"
   ]
  },
  {
   "cell_type": "markdown",
   "id": "43777d0c",
   "metadata": {},
   "source": [
    "- WAP to print cumulative sum and cumulative product of a tuple elements.\n",
    "````\n",
    "example:\n",
    "    i/p: (6,2,8,9,4,3)\n",
    "    o/p1: 6 8 16 25 29 32\n",
    "    o/p2: 6 12 96 ..\n",
    "````"
   ]
  },
  {
   "cell_type": "code",
   "execution_count": 49,
   "id": "427e28df",
   "metadata": {
    "collapsed": true
   },
   "outputs": [
    {
     "name": "stdout",
     "output_type": "stream",
     "text": [
      "6 8 16 25 29 32 \n",
      "6 12 96 864 3456 10368 "
     ]
    }
   ],
   "source": [
    "n = (6,2,8,9,4,3)\n",
    "op = 0\n",
    "for i in n:\n",
    "    op += i\n",
    "    print(op,end=\" \")\n",
    "print()\n",
    "op = 1\n",
    "for i in n:\n",
    "    op *= i\n",
    "    print(op,end=\" \")"
   ]
  },
  {
   "cell_type": "markdown",
   "id": "60f08f6e",
   "metadata": {},
   "source": [
    "## Sets\n",
    "\n",
    "- it is an mutable DS which is unordered.\n",
    "- Indexing and slicing are not possible.\n",
    "- represented by using {}\n",
    "- doesn't allow duplicate values.\n",
    "- set()\n",
    "\n",
    "- Set Operations\n",
    "\n",
    "   - \n",
    "   - \n",
    "   - \n",
    "   - \n",
    "- Set methods\n",
    "    - dir(set)"
   ]
  },
  {
   "cell_type": "code",
   "execution_count": 50,
   "id": "616ab2c8",
   "metadata": {},
   "outputs": [
    {
     "data": {
      "text/plain": [
       "set"
      ]
     },
     "execution_count": 50,
     "metadata": {},
     "output_type": "execute_result"
    }
   ],
   "source": [
    "s=set()\n",
    "type(s)"
   ]
  },
  {
   "cell_type": "code",
   "execution_count": 51,
   "id": "6c326f31",
   "metadata": {},
   "outputs": [
    {
     "data": {
      "text/plain": [
       "{2, 3, 4, 7, 9, 12, 54}"
      ]
     },
     "execution_count": 51,
     "metadata": {},
     "output_type": "execute_result"
    }
   ],
   "source": [
    "s={2,3,4,7,9,12,54,3,4,7,9}   #remove duplicate elements\n",
    "s"
   ]
  },
  {
   "cell_type": "code",
   "execution_count": 54,
   "id": "652a4f78",
   "metadata": {},
   "outputs": [
    {
     "name": "stdout",
     "output_type": "stream",
     "text": [
      "<class 'list'>\n",
      "<class 'str'>\n",
      "<class 'tuple'>\n",
      "<class 'set'>\n"
     ]
    }
   ],
   "source": [
    "li=[23]\n",
    "s='s'\n",
    "t=(45,)\n",
    "p={7}\n",
    "print(type(li))\n",
    "print(type(s))\n",
    "print(type(t))\n",
    "print(type(p))"
   ]
  },
  {
   "cell_type": "code",
   "execution_count": 65,
   "id": "a5ed5600",
   "metadata": {
    "scrolled": true
   },
   "outputs": [
    {
     "name": "stdout",
     "output_type": "stream",
     "text": [
      "<class 'list'>\n",
      "<class 'tuple'>\n",
      "<class 'dict'>\n"
     ]
    }
   ],
   "source": [
    "li=[]\n",
    "print(type(li))\n",
    "t=()\n",
    "print(type(t))\n",
    "s={}\n",
    "print(type(s))"
   ]
  },
  {
   "cell_type": "code",
   "execution_count": 57,
   "id": "68ba7654",
   "metadata": {},
   "outputs": [
    {
     "name": "stdout",
     "output_type": "stream",
     "text": [
      "[34, 12, 76, 45, 54, 87]\n",
      "(34, 12, 76, 45, 54, 87)\n"
     ]
    }
   ],
   "source": [
    "set={54,34,87,12,34,76,45}\n",
    "print(list(set))\n",
    "print(tuple(set))"
   ]
  },
  {
   "cell_type": "code",
   "execution_count": 70,
   "id": "7843be52",
   "metadata": {},
   "outputs": [
    {
     "data": {
      "text/plain": [
       "{12, 34, 45, 54, 76, 87}"
      ]
     },
     "execution_count": 70,
     "metadata": {},
     "output_type": "execute_result"
    }
   ],
   "source": [
    "s={54,34,87,12,34,76,45}   #unordered\n",
    "s"
   ]
  },
  {
   "cell_type": "code",
   "execution_count": 75,
   "id": "6978560b",
   "metadata": {
    "collapsed": true
   },
   "outputs": [
    {
     "ename": "TypeError",
     "evalue": "unhashable type: 'list'",
     "output_type": "error",
     "traceback": [
      "\u001b[1;31m---------------------------------------------------------------------------\u001b[0m",
      "\u001b[1;31mTypeError\u001b[0m                                 Traceback (most recent call last)",
      "\u001b[1;32m<ipython-input-75-7cdc5f343d8e>\u001b[0m in \u001b[0;36m<module>\u001b[1;34m\u001b[0m\n\u001b[0;32m      1\u001b[0m \u001b[1;31m#doesnt allow Nested set\u001b[0m\u001b[1;33m\u001b[0m\u001b[1;33m\u001b[0m\u001b[1;33m\u001b[0m\u001b[0m\n\u001b[1;32m----> 2\u001b[1;33m \u001b[0ms1\u001b[0m\u001b[1;33m=\u001b[0m\u001b[1;33m{\u001b[0m\u001b[1;36m23\u001b[0m\u001b[1;33m,\u001b[0m\u001b[1;36m43\u001b[0m\u001b[1;33m,\u001b[0m\u001b[1;36m65\u001b[0m\u001b[1;33m,\u001b[0m\u001b[1;36m45\u001b[0m\u001b[1;33m,\u001b[0m\u001b[1;36m98\u001b[0m\u001b[1;33m,\u001b[0m\u001b[1;33m[\u001b[0m\u001b[1;36m87\u001b[0m\u001b[1;33m,\u001b[0m\u001b[1;36m92\u001b[0m\u001b[1;33m]\u001b[0m\u001b[1;33m}\u001b[0m\u001b[1;33m\u001b[0m\u001b[1;33m\u001b[0m\u001b[0m\n\u001b[0m\u001b[0;32m      3\u001b[0m \u001b[0ms1\u001b[0m\u001b[1;33m\u001b[0m\u001b[1;33m\u001b[0m\u001b[0m\n",
      "\u001b[1;31mTypeError\u001b[0m: unhashable type: 'list'"
     ]
    }
   ],
   "source": [
    "#doesnt allow Nested set\n",
    "s1={23,43,65,45,98,[87,92]}\n",
    "s1"
   ]
  },
  {
   "cell_type": "code",
   "execution_count": 76,
   "id": "67849812",
   "metadata": {},
   "outputs": [
    {
     "data": {
      "text/plain": [
       "{12, 34, 45, 54, 76, 87}"
      ]
     },
     "execution_count": 76,
     "metadata": {},
     "output_type": "execute_result"
    }
   ],
   "source": [
    "s"
   ]
  },
  {
   "cell_type": "code",
   "execution_count": 78,
   "id": "278ab84d",
   "metadata": {},
   "outputs": [
    {
     "name": "stdout",
     "output_type": "stream",
     "text": [
      "['__and__', '__class__', '__contains__', '__delattr__', '__dir__', '__doc__', '__eq__', '__format__', '__ge__', '__getattribute__', '__gt__', '__hash__', '__iand__', '__init__', '__init_subclass__', '__ior__', '__isub__', '__iter__', '__ixor__', '__le__', '__len__', '__lt__', '__ne__', '__new__', '__or__', '__rand__', '__reduce__', '__reduce_ex__', '__repr__', '__ror__', '__rsub__', '__rxor__', '__setattr__', '__sizeof__', '__str__', '__sub__', '__subclasshook__', '__xor__', 'add', 'clear', 'copy', 'difference', 'difference_update', 'discard', 'intersection', 'intersection_update', 'isdisjoint', 'issubset', 'issuperset', 'pop', 'remove', 'symmetric_difference', 'symmetric_difference_update', 'union', 'update']\n"
     ]
    }
   ],
   "source": [
    "print(dir(set))"
   ]
  },
  {
   "cell_type": "code",
   "execution_count": 81,
   "id": "1c070832",
   "metadata": {},
   "outputs": [
    {
     "name": "stdout",
     "output_type": "stream",
     "text": [
      "{34, 12, 76, 45, 54, 87}\n",
      "{98, 12, 45, 15, 23, 87}\n"
     ]
    }
   ],
   "source": [
    "s1={12,98,23,87,45,23,15}\n",
    "print(s)\n",
    "print(s1)"
   ]
  },
  {
   "cell_type": "code",
   "execution_count": 87,
   "id": "56503f4a",
   "metadata": {},
   "outputs": [],
   "source": [
    "x = {34, 12, 76, 45, 54, 87}\n",
    "y = {98, 12, 45, 15, 23, 87}"
   ]
  },
  {
   "cell_type": "code",
   "execution_count": 88,
   "id": "cfed63f7",
   "metadata": {},
   "outputs": [
    {
     "name": "stdout",
     "output_type": "stream",
     "text": [
      "{34, 98, 12, 45, 76, 15, 23, 54, 87}\n",
      "{34, 98, 12, 45, 76, 15, 23, 54, 87}\n"
     ]
    }
   ],
   "source": [
    "# union operation\n",
    "print(x|y)\n",
    "print(x.union(y))"
   ]
  },
  {
   "cell_type": "code",
   "execution_count": 89,
   "id": "42bb2c5b",
   "metadata": {},
   "outputs": [
    {
     "name": "stdout",
     "output_type": "stream",
     "text": [
      "{12, 45, 87}\n",
      "{12, 45, 87}\n"
     ]
    }
   ],
   "source": [
    "# intersection operation\n",
    "print(x&y)\n",
    "print(x.intersection(y))"
   ]
  },
  {
   "cell_type": "code",
   "execution_count": 90,
   "id": "3a6b7a37",
   "metadata": {},
   "outputs": [
    {
     "name": "stdout",
     "output_type": "stream",
     "text": [
      "{34, 76, 54}\n",
      "{34, 76, 54}\n"
     ]
    }
   ],
   "source": [
    "# difference operation\n",
    "print(x-y)\n",
    "print(x.difference(y))"
   ]
  },
  {
   "cell_type": "code",
   "execution_count": 91,
   "id": "b869c332",
   "metadata": {},
   "outputs": [
    {
     "name": "stdout",
     "output_type": "stream",
     "text": [
      "{98, 34, 23, 54, 76, 15}\n",
      "{98, 34, 23, 54, 76, 15}\n"
     ]
    }
   ],
   "source": [
    "# Symmetric difference\n",
    "print(x^y)\n",
    "print(x.symmetric_difference(y))"
   ]
  },
  {
   "cell_type": "code",
   "execution_count": 94,
   "id": "c01aa4e9",
   "metadata": {},
   "outputs": [
    {
     "data": {
      "text/plain": [
       "True"
      ]
     },
     "execution_count": 94,
     "metadata": {},
     "output_type": "execute_result"
    }
   ],
   "source": [
    "(x|y == y|x) or (x-y != y-x)"
   ]
  },
  {
   "cell_type": "code",
   "execution_count": 95,
   "id": "098b0e3f",
   "metadata": {
    "collapsed": true
   },
   "outputs": [
    {
     "name": "stdout",
     "output_type": "stream",
     "text": [
      "{34, 12, 45, 76, 54, 87}\n",
      "{98, 12, 45, 15, 87, 23}\n"
     ]
    }
   ],
   "source": [
    "print(x)\n",
    "print(y)"
   ]
  },
  {
   "cell_type": "code",
   "execution_count": 96,
   "id": "2ca5bb4f",
   "metadata": {},
   "outputs": [],
   "source": [
    "# difference_update()\n",
    "x.difference_update(y)"
   ]
  },
  {
   "cell_type": "code",
   "execution_count": 97,
   "id": "f02597e8",
   "metadata": {
    "collapsed": true
   },
   "outputs": [
    {
     "name": "stdout",
     "output_type": "stream",
     "text": [
      "{34, 76, 54}\n",
      "{98, 12, 45, 15, 87, 23}\n"
     ]
    }
   ],
   "source": [
    "print(x)\n",
    "print(y)"
   ]
  },
  {
   "cell_type": "code",
   "execution_count": 98,
   "id": "d781c04d",
   "metadata": {},
   "outputs": [],
   "source": [
    "y.intersection_update(x)"
   ]
  },
  {
   "cell_type": "code",
   "execution_count": 99,
   "id": "8808061e",
   "metadata": {
    "collapsed": true
   },
   "outputs": [
    {
     "name": "stdout",
     "output_type": "stream",
     "text": [
      "{34, 76, 54}\n",
      "set()\n"
     ]
    }
   ],
   "source": [
    "print(x)\n",
    "print(y)"
   ]
  },
  {
   "cell_type": "code",
   "execution_count": 101,
   "id": "c8502b73",
   "metadata": {},
   "outputs": [],
   "source": [
    "a = {10,4,27,12,32,87,1,7}"
   ]
  },
  {
   "cell_type": "code",
   "execution_count": 102,
   "id": "3f5221bc",
   "metadata": {},
   "outputs": [],
   "source": [
    "# add() 15\n",
    "a.add(15)"
   ]
  },
  {
   "cell_type": "code",
   "execution_count": 103,
   "id": "346f37b2",
   "metadata": {},
   "outputs": [
    {
     "name": "stdout",
     "output_type": "stream",
     "text": [
      "{32, 1, 4, 7, 10, 12, 15, 87, 27}\n"
     ]
    }
   ],
   "source": [
    "print(a)"
   ]
  },
  {
   "cell_type": "code",
   "execution_count": 104,
   "id": "ce14aa98",
   "metadata": {},
   "outputs": [
    {
     "name": "stdout",
     "output_type": "stream",
     "text": [
      "{32, 1, 4, 7, 40, 10, 12, 15, 20, 87, 27, 30}\n"
     ]
    }
   ],
   "source": [
    "# update()\n",
    "a.update([20,30,40])\n",
    "print(a)"
   ]
  },
  {
   "cell_type": "code",
   "execution_count": null,
   "id": "325b0260",
   "metadata": {},
   "outputs": [],
   "source": [
    "# copy()"
   ]
  },
  {
   "cell_type": "code",
   "execution_count": 106,
   "id": "e6385b6d",
   "metadata": {},
   "outputs": [
    {
     "data": {
      "text/plain": [
       "1"
      ]
     },
     "execution_count": 106,
     "metadata": {},
     "output_type": "execute_result"
    }
   ],
   "source": [
    "# pop()\n",
    "a.pop()"
   ]
  },
  {
   "cell_type": "code",
   "execution_count": 107,
   "id": "fe64549c",
   "metadata": {},
   "outputs": [
    {
     "name": "stdout",
     "output_type": "stream",
     "text": [
      "{4, 7, 40, 10, 12, 15, 20, 87, 27, 30}\n"
     ]
    }
   ],
   "source": [
    "print(a)"
   ]
  },
  {
   "cell_type": "code",
   "execution_count": 112,
   "id": "1f0d6d3e",
   "metadata": {},
   "outputs": [],
   "source": [
    "# discard()\n",
    "a.discard(10)"
   ]
  },
  {
   "cell_type": "code",
   "execution_count": 109,
   "id": "ae0cf083",
   "metadata": {},
   "outputs": [
    {
     "name": "stdout",
     "output_type": "stream",
     "text": [
      "{4, 7, 40, 12, 15, 20, 87, 27, 30}\n"
     ]
    }
   ],
   "source": [
    "print(a)"
   ]
  },
  {
   "cell_type": "code",
   "execution_count": 113,
   "id": "3ad19988",
   "metadata": {
    "collapsed": true
   },
   "outputs": [
    {
     "ename": "KeyError",
     "evalue": "15",
     "output_type": "error",
     "traceback": [
      "\u001b[1;31m---------------------------------------------------------------------------\u001b[0m",
      "\u001b[1;31mKeyError\u001b[0m                                  Traceback (most recent call last)",
      "\u001b[1;32m<ipython-input-113-039a8656f1ef>\u001b[0m in \u001b[0;36m<module>\u001b[1;34m\u001b[0m\n\u001b[0;32m      1\u001b[0m \u001b[1;31m# remove()\u001b[0m\u001b[1;33m\u001b[0m\u001b[1;33m\u001b[0m\u001b[1;33m\u001b[0m\u001b[0m\n\u001b[1;32m----> 2\u001b[1;33m \u001b[0ma\u001b[0m\u001b[1;33m.\u001b[0m\u001b[0mremove\u001b[0m\u001b[1;33m(\u001b[0m\u001b[1;36m15\u001b[0m\u001b[1;33m)\u001b[0m\u001b[1;33m\u001b[0m\u001b[1;33m\u001b[0m\u001b[0m\n\u001b[0m",
      "\u001b[1;31mKeyError\u001b[0m: 15"
     ]
    }
   ],
   "source": [
    "# remove()\n",
    "a.remove(15)"
   ]
  },
  {
   "cell_type": "code",
   "execution_count": 111,
   "id": "bc18a8bd",
   "metadata": {},
   "outputs": [
    {
     "name": "stdout",
     "output_type": "stream",
     "text": [
      "{4, 7, 40, 12, 20, 87, 27, 30}\n"
     ]
    }
   ],
   "source": [
    "print(a)"
   ]
  },
  {
   "cell_type": "code",
   "execution_count": null,
   "id": "d2526ca2",
   "metadata": {},
   "outputs": [],
   "source": [
    "# clear()"
   ]
  },
  {
   "cell_type": "markdown",
   "id": "504222d4",
   "metadata": {},
   "source": [
    "- WAP to print sum of two digit numbers in a given set.\n",
    "```\n",
    "i/p: {4, 7, 40, 2, 20, 8, 7, 30}\n",
    "o/p: 90\n",
    "```"
   ]
  },
  {
   "cell_type": "code",
   "execution_count": null,
   "id": "42dceffa",
   "metadata": {},
   "outputs": [],
   "source": []
  }
 ],
 "metadata": {
  "kernelspec": {
   "display_name": "Python 3",
   "language": "python",
   "name": "python3"
  },
  "language_info": {
   "codemirror_mode": {
    "name": "ipython",
    "version": 3
   },
   "file_extension": ".py",
   "mimetype": "text/x-python",
   "name": "python",
   "nbconvert_exporter": "python",
   "pygments_lexer": "ipython3",
   "version": "3.8.8"
  }
 },
 "nbformat": 4,
 "nbformat_minor": 5
}
