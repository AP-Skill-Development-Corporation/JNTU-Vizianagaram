{
 "cells": [
  {
   "cell_type": "markdown",
   "id": "4ad782a2",
   "metadata": {},
   "source": [
    "### Today Objectives:\n",
    "- Comprehensions\n",
    "- Oops\n",
    "- Iterators&Generators\n",
    "- Functional Programming\n",
    "- FileHandling\n",
    "- Regular Expressions\n"
   ]
  },
  {
   "cell_type": "markdown",
   "id": "0f4e00cd",
   "metadata": {},
   "source": [
    "- Task--> Create a package with 2 or more modules"
   ]
  },
  {
   "cell_type": "markdown",
   "id": "f7b6ccc9",
   "metadata": {},
   "source": [
    "### Oops\n",
    "\n"
   ]
  },
  {
   "cell_type": "code",
   "execution_count": 1,
   "id": "5d2d6892",
   "metadata": {},
   "outputs": [],
   "source": [
    "class Student: # class\n",
    "    pass"
   ]
  },
  {
   "cell_type": "code",
   "execution_count": 2,
   "id": "ad4bc009",
   "metadata": {},
   "outputs": [],
   "source": [
    "yonus = Student() # object"
   ]
  },
  {
   "cell_type": "code",
   "execution_count": 12,
   "id": "eb0e347f",
   "metadata": {},
   "outputs": [],
   "source": [
    "class Student:\n",
    "    name=\"mouni\" # class variables\n",
    "    branch=\"M.tech\"\n",
    "    def __init__(self):\n",
    "        pass\n",
    "    def details(self):\n",
    "        print(\"This is method \")"
   ]
  },
  {
   "cell_type": "code",
   "execution_count": 8,
   "id": "b518b916",
   "metadata": {},
   "outputs": [],
   "source": [
    "s1 = Student()\n",
    "s2 = Student()"
   ]
  },
  {
   "cell_type": "code",
   "execution_count": 9,
   "id": "b6cd930f",
   "metadata": {},
   "outputs": [
    {
     "name": "stdout",
     "output_type": "stream",
     "text": [
      "This is method \n"
     ]
    }
   ],
   "source": [
    "s1.details()"
   ]
  },
  {
   "cell_type": "code",
   "execution_count": 10,
   "id": "2f097003",
   "metadata": {},
   "outputs": [
    {
     "data": {
      "text/plain": [
       "'mouni'"
      ]
     },
     "execution_count": 10,
     "metadata": {},
     "output_type": "execute_result"
    }
   ],
   "source": [
    "s1.name"
   ]
  },
  {
   "cell_type": "code",
   "execution_count": 11,
   "id": "9170b550",
   "metadata": {},
   "outputs": [
    {
     "data": {
      "text/plain": [
       "'M.tech'"
      ]
     },
     "execution_count": 11,
     "metadata": {},
     "output_type": "execute_result"
    }
   ],
   "source": [
    "s1.branch"
   ]
  },
  {
   "cell_type": "code",
   "execution_count": 14,
   "id": "b4f3f4db",
   "metadata": {},
   "outputs": [],
   "source": [
    "# non-parameterized or default constructor\n",
    "class Employee:\n",
    "    def __init__(self):\n",
    "        self.name=\"harsha\"\n",
    "        self.salary = 10000\n",
    "        self.age = 24\n",
    "    def display_info(self):\n",
    "        print(\"Name : \",self.name)\n",
    "        print(self.salary)\n",
    "        print(self.age)"
   ]
  },
  {
   "cell_type": "code",
   "execution_count": 15,
   "id": "d56557c3",
   "metadata": {},
   "outputs": [],
   "source": [
    "e1 = Employee()"
   ]
  },
  {
   "cell_type": "code",
   "execution_count": 16,
   "id": "3ef8a59e",
   "metadata": {},
   "outputs": [
    {
     "name": "stdout",
     "output_type": "stream",
     "text": [
      "Name :  harsha\n",
      "10000\n",
      "24\n"
     ]
    }
   ],
   "source": [
    "e1.display_info()"
   ]
  },
  {
   "cell_type": "code",
   "execution_count": 42,
   "id": "9fe72a1d",
   "metadata": {},
   "outputs": [],
   "source": [
    "# parameterized constructor\n",
    "class Math:\n",
    "    def __init__(self,n1,n2):\n",
    "        self.n1 = n1\n",
    "        self.n2 = n2\n",
    "    def add(self):\n",
    "        print(self.n1+self.n2)\n",
    "    def mul(self):\n",
    "        print(self.n1*self.n2)\n",
    "    def div(self,a,b):\n",
    "        print(a/b)\n",
    "        print(self.n1/self.n2)"
   ]
  },
  {
   "cell_type": "code",
   "execution_count": 43,
   "id": "e4880cff",
   "metadata": {},
   "outputs": [],
   "source": [
    "obj1 = Math(10,11)"
   ]
  },
  {
   "cell_type": "code",
   "execution_count": 44,
   "id": "02157e86",
   "metadata": {},
   "outputs": [
    {
     "name": "stdout",
     "output_type": "stream",
     "text": [
      "21\n"
     ]
    }
   ],
   "source": [
    "obj1.add()"
   ]
  },
  {
   "cell_type": "code",
   "execution_count": 75,
   "id": "3f63a292",
   "metadata": {},
   "outputs": [
    {
     "name": "stdout",
     "output_type": "stream",
     "text": [
      "110\n"
     ]
    }
   ],
   "source": [
    "obj1.mul()"
   ]
  },
  {
   "cell_type": "code",
   "execution_count": 47,
   "id": "eeb107fe",
   "metadata": {
    "scrolled": true
   },
   "outputs": [
    {
     "name": "stdout",
     "output_type": "stream",
     "text": [
      "2.4\n",
      "0.9090909090909091\n"
     ]
    }
   ],
   "source": [
    "obj1.div(12,5)"
   ]
  },
  {
   "cell_type": "code",
   "execution_count": 64,
   "id": "ce0312fe",
   "metadata": {},
   "outputs": [],
   "source": [
    "class Parent:\n",
    "    def p_method(self):\n",
    "        print(\"This is parent class\")\n",
    "class Child:\n",
    "    def c_method(self):\n",
    "        print(\"this is child class\")\n",
    "class G_child(Parent,Child):\n",
    "    def gc_method(self):\n",
    "        print(\"This is grand child class\")"
   ]
  },
  {
   "cell_type": "code",
   "execution_count": 65,
   "id": "7271bacd",
   "metadata": {},
   "outputs": [],
   "source": [
    "p = Parent()\n",
    "c = Child()\n",
    "gc = G_child()"
   ]
  },
  {
   "cell_type": "code",
   "execution_count": 66,
   "id": "da27a859",
   "metadata": {
    "collapsed": true
   },
   "outputs": [
    {
     "ename": "AttributeError",
     "evalue": "'Parent' object has no attribute 'c_method'",
     "output_type": "error",
     "traceback": [
      "\u001b[1;31m---------------------------------------------------------------------------\u001b[0m",
      "\u001b[1;31mAttributeError\u001b[0m                            Traceback (most recent call last)",
      "\u001b[1;32m<ipython-input-66-53daac6deb21>\u001b[0m in \u001b[0;36m<module>\u001b[1;34m\u001b[0m\n\u001b[1;32m----> 1\u001b[1;33m \u001b[0mp\u001b[0m\u001b[1;33m.\u001b[0m\u001b[0mc_method\u001b[0m\u001b[1;33m(\u001b[0m\u001b[1;33m)\u001b[0m\u001b[1;33m\u001b[0m\u001b[1;33m\u001b[0m\u001b[0m\n\u001b[0m",
      "\u001b[1;31mAttributeError\u001b[0m: 'Parent' object has no attribute 'c_method'"
     ]
    }
   ],
   "source": [
    "p.c_method()"
   ]
  },
  {
   "cell_type": "code",
   "execution_count": 67,
   "id": "61264d43",
   "metadata": {
    "collapsed": true
   },
   "outputs": [
    {
     "ename": "AttributeError",
     "evalue": "'Child' object has no attribute 'p_method'",
     "output_type": "error",
     "traceback": [
      "\u001b[1;31m---------------------------------------------------------------------------\u001b[0m",
      "\u001b[1;31mAttributeError\u001b[0m                            Traceback (most recent call last)",
      "\u001b[1;32m<ipython-input-67-37c80f829345>\u001b[0m in \u001b[0;36m<module>\u001b[1;34m\u001b[0m\n\u001b[1;32m----> 1\u001b[1;33m \u001b[0mc\u001b[0m\u001b[1;33m.\u001b[0m\u001b[0mp_method\u001b[0m\u001b[1;33m(\u001b[0m\u001b[1;33m)\u001b[0m\u001b[1;33m\u001b[0m\u001b[1;33m\u001b[0m\u001b[0m\n\u001b[0m",
      "\u001b[1;31mAttributeError\u001b[0m: 'Child' object has no attribute 'p_method'"
     ]
    }
   ],
   "source": [
    "c.p_method()"
   ]
  },
  {
   "cell_type": "code",
   "execution_count": 71,
   "id": "b426c924",
   "metadata": {},
   "outputs": [
    {
     "name": "stdout",
     "output_type": "stream",
     "text": [
      "this is child class\n"
     ]
    }
   ],
   "source": [
    "gc.c_method()"
   ]
  },
  {
   "cell_type": "code",
   "execution_count": 72,
   "id": "d032231b",
   "metadata": {},
   "outputs": [
    {
     "name": "stdout",
     "output_type": "stream",
     "text": [
      "This is parent class\n"
     ]
    }
   ],
   "source": [
    "gc.p_method()"
   ]
  },
  {
   "cell_type": "code",
   "execution_count": 73,
   "id": "315b2f6d",
   "metadata": {},
   "outputs": [
    {
     "name": "stdout",
     "output_type": "stream",
     "text": [
      "This is grand child class\n"
     ]
    }
   ],
   "source": [
    "gc.gc_method()"
   ]
  },
  {
   "cell_type": "markdown",
   "id": "cadbf076",
   "metadata": {},
   "source": [
    "### Comprehensions:\n",
    "- It is a program for creating new sequence from existing sequence\n",
    "- Less code & Easy to understood\n",
    "- easy way to create ,more efficient and run faster\n",
    "- 4types:\n",
    "    - List Comprehension[]\n",
    "        - Syntax:[expression for item in sequence if condition]\n",
    "    - Dictionary Comprehension{key:value}\n",
    "        - Syntax:{expression for item in sequence if condition}\n",
    "    - Set Comprehension{}\n",
    "        - Syntax:{expression for item in sequence if condition}\n",
    "    - Generator Comprehension()\n",
    "        - Syntax:(expression for item in sequence if condition)"
   ]
  },
  {
   "cell_type": "code",
   "execution_count": 3,
   "id": "60e6a7ec",
   "metadata": {},
   "outputs": [
    {
     "name": "stdout",
     "output_type": "stream",
     "text": [
      "1 2 3 4 5 6 7 8 9 "
     ]
    }
   ],
   "source": [
    "for i in range(1,10):\n",
    "    print(i,end=\" \")"
   ]
  },
  {
   "cell_type": "code",
   "execution_count": 4,
   "id": "402ec631",
   "metadata": {},
   "outputs": [
    {
     "name": "stdout",
     "output_type": "stream",
     "text": [
      "[1, 2, 3, 4, 5, 6, 7, 8, 9, 10]\n"
     ]
    }
   ],
   "source": [
    "#list\n",
    "li=[]\n",
    "for i in range(1,11):\n",
    "    li.append(i)\n",
    "print(li)"
   ]
  },
  {
   "cell_type": "code",
   "execution_count": 5,
   "id": "b0a83d0b",
   "metadata": {},
   "outputs": [
    {
     "data": {
      "text/plain": [
       "[1, 2, 3, 4, 5, 6, 7, 8, 9, 10]"
      ]
     },
     "execution_count": 5,
     "metadata": {},
     "output_type": "execute_result"
    }
   ],
   "source": [
    "li=[i for i in range(1,11)]\n",
    "li"
   ]
  },
  {
   "cell_type": "code",
   "execution_count": 6,
   "id": "5c82ab38",
   "metadata": {},
   "outputs": [
    {
     "data": {
      "text/plain": [
       "[2, 4, 6, 8, 10, 12, 14, 16, 18]"
      ]
     },
     "execution_count": 6,
     "metadata": {},
     "output_type": "execute_result"
    }
   ],
   "source": [
    "li=[i*2 for i in range(1,10)]\n",
    "li"
   ]
  },
  {
   "cell_type": "code",
   "execution_count": 7,
   "id": "b10bc943",
   "metadata": {},
   "outputs": [
    {
     "name": "stdout",
     "output_type": "stream",
     "text": [
      "[2, 4, 6, 8, 10]\n"
     ]
    }
   ],
   "source": [
    "#Even nums\n",
    "li=[]\n",
    "for i in range(1,11):\n",
    "    if i%2==0:\n",
    "        li.append(i)\n",
    "print(li)"
   ]
  },
  {
   "cell_type": "code",
   "execution_count": 8,
   "id": "5f40d70b",
   "metadata": {},
   "outputs": [
    {
     "data": {
      "text/plain": [
       "[2, 4, 6, 8, 10]"
      ]
     },
     "execution_count": 8,
     "metadata": {},
     "output_type": "execute_result"
    }
   ],
   "source": [
    "even=[i for i in range(1,11) if i%2==0]\n",
    "even"
   ]
  },
  {
   "cell_type": "markdown",
   "id": "2097af0c",
   "metadata": {},
   "source": [
    "-  [(1,'odd'),(2,'even'),(3,'odd')....]"
   ]
  },
  {
   "cell_type": "code",
   "execution_count": 9,
   "id": "7ba5b3a2",
   "metadata": {},
   "outputs": [
    {
     "name": "stdout",
     "output_type": "stream",
     "text": [
      "[(1, 'odd'), (2, 'even'), (3, 'odd'), (4, 'even'), (5, 'odd'), (6, 'even'), (7, 'odd'), (8, 'even'), (9, 'odd'), (10, 'even')]\n"
     ]
    }
   ],
   "source": [
    "li=[]\n",
    "for i in range(1,11):\n",
    "    if i%2==0:\n",
    "        li.append((i,'even'))\n",
    "    else:\n",
    "        li.append((i,'odd'))\n",
    "print(li)"
   ]
  },
  {
   "cell_type": "code",
   "execution_count": 10,
   "id": "a1a5e303",
   "metadata": {},
   "outputs": [
    {
     "name": "stdout",
     "output_type": "stream",
     "text": [
      "[(1, 'odd'), (2, 'even'), (3, 'odd'), (4, 'even'), (5, 'odd'), (6, 'even'), (7, 'odd'), (8, 'even'), (9, 'odd'), (10, 'even')]\n"
     ]
    }
   ],
   "source": [
    "li=[(i,'even') if i%2==0 else (i,'odd') for i in range(1,11)]\n",
    "print(li)"
   ]
  },
  {
   "cell_type": "markdown",
   "id": "140e284e",
   "metadata": {},
   "source": [
    "- Task-2\n",
    "    - i/p: a=['jntuk','python workshop','mca mtech']\n",
    "    \n",
    "    - o/p: ['jntuk','python','workshop','mca','mtech']"
   ]
  },
  {
   "cell_type": "code",
   "execution_count": 12,
   "id": "0e2ef095",
   "metadata": {},
   "outputs": [
    {
     "name": "stdout",
     "output_type": "stream",
     "text": [
      "['jntuk', 'python', 'workshop', 'mca', 'mtech']\n"
     ]
    }
   ],
   "source": [
    "a=['jntuk','python workshop','mca mtech']\n",
    "li=[]\n",
    "for i in a:\n",
    "    for j in i.split():\n",
    "        li.append(j)\n",
    "print(li)"
   ]
  },
  {
   "cell_type": "code",
   "execution_count": 13,
   "id": "9d17815f",
   "metadata": {},
   "outputs": [
    {
     "data": {
      "text/plain": [
       "['jntuk', 'python', 'workshop', 'mca', 'mtech']"
      ]
     },
     "execution_count": 13,
     "metadata": {},
     "output_type": "execute_result"
    }
   ],
   "source": [
    "li=[j for i in a for j in i.split()]\n",
    "li"
   ]
  },
  {
   "cell_type": "code",
   "execution_count": 14,
   "id": "87680210",
   "metadata": {},
   "outputs": [
    {
     "data": {
      "text/plain": [
       "{'o': 3, 'p': 2, 'y': 2, 't': 1}"
      ]
     },
     "execution_count": 14,
     "metadata": {},
     "output_type": "execute_result"
    }
   ],
   "source": [
    "a=['o','p','y','t','o','p','y','o']\n",
    "d={i:a.count(i) for i in a}\n",
    "d"
   ]
  },
  {
   "cell_type": "code",
   "execution_count": 19,
   "id": "76888d1b",
   "metadata": {},
   "outputs": [
    {
     "data": {
      "text/plain": [
       "<generator object <genexpr> at 0x00000223D2DB1660>"
      ]
     },
     "execution_count": 19,
     "metadata": {},
     "output_type": "execute_result"
    }
   ],
   "source": [
    "#Generator comprehension\n",
    "g=(i*3 for i in range(10))\n",
    "g\n",
    "#for i in g:\n",
    "#    print(i,end=\" \")"
   ]
  },
  {
   "cell_type": "markdown",
   "id": "821d86b4",
   "metadata": {},
   "source": [
    "#### Iterators & Generators:\n",
    "- Iterator is an object in python\n",
    "- Genarators uses in place of 'Yield'\n",
    "- list,set,dictonaries all are iterable objects.\n",
    "- 2methods\n",
    "    - Iter()keyword is used to create an iterator containing an iterable object\n",
    "    - next()-->next keyword is used to call the next element in the iterable"
   ]
  },
  {
   "cell_type": "code",
   "execution_count": 4,
   "id": "8fdff68f",
   "metadata": {},
   "outputs": [
    {
     "data": {
      "text/plain": [
       "'p'"
      ]
     },
     "execution_count": 4,
     "metadata": {},
     "output_type": "execute_result"
    }
   ],
   "source": [
    "a='python'\n",
    "b=next(iter(a))\n",
    "b"
   ]
  },
  {
   "cell_type": "code",
   "execution_count": 8,
   "id": "424f179a",
   "metadata": {},
   "outputs": [
    {
     "name": "stdout",
     "output_type": "stream",
     "text": [
      "1\n",
      "2\n",
      "[3, 4]\n"
     ]
    }
   ],
   "source": [
    "b=iter([1,2,[3,4]])\n",
    "print(next(b))\n",
    "print(next(b))\n",
    "print(next(b))"
   ]
  },
  {
   "cell_type": "code",
   "execution_count": 10,
   "id": "a1aa176f",
   "metadata": {},
   "outputs": [
    {
     "data": {
      "text/plain": [
       "'i'"
      ]
     },
     "execution_count": 10,
     "metadata": {},
     "output_type": "execute_result"
    }
   ],
   "source": [
    "def printing():\n",
    "    return 'i'\n",
    "    return 'o'\n",
    "    return 'y'\n",
    "printing()"
   ]
  },
  {
   "cell_type": "code",
   "execution_count": 16,
   "id": "aacc3eb3",
   "metadata": {},
   "outputs": [
    {
     "name": "stdout",
     "output_type": "stream",
     "text": [
      "a e i o u "
     ]
    }
   ],
   "source": [
    "def vowels():\n",
    "    yield 'a'\n",
    "    yield 'e'\n",
    "    yield 'i'\n",
    "    yield 'o'\n",
    "    yield 'u'\n",
    "#vowels()\n",
    "for i in vowels():\n",
    "    print(i,end=\" \")"
   ]
  },
  {
   "cell_type": "markdown",
   "id": "54d76dd8",
   "metadata": {},
   "source": [
    "### Functional Programming\n",
    "- lambda\n",
    "    - lambda is an anonymous function or single line function\n",
    "    - its having num of arguments,only single expression\n",
    "    - syntax:lambda arguments:expression\n",
    "- map\n",
    "    - map(function,iterable nums)\n",
    "- filter\n",
    "    - filter(function,iterable nums)\n",
    "- Reduce\n",
    "    - it returns single value\n",
    "    - Syntax:reduce(function,iterable nums)\n",
    "    - from functool to import reduce"
   ]
  },
  {
   "cell_type": "code",
   "execution_count": 17,
   "id": "eeb0bdae",
   "metadata": {},
   "outputs": [
    {
     "data": {
      "text/plain": [
       "7"
      ]
     },
     "execution_count": 17,
     "metadata": {},
     "output_type": "execute_result"
    }
   ],
   "source": [
    "def add(a,b):\n",
    "    return a+b\n",
    "add(3,4)"
   ]
  },
  {
   "cell_type": "code",
   "execution_count": 21,
   "id": "552a0cfb",
   "metadata": {},
   "outputs": [
    {
     "data": {
      "text/plain": [
       "7"
      ]
     },
     "execution_count": 21,
     "metadata": {},
     "output_type": "execute_result"
    }
   ],
   "source": [
    "l=lambda a,b:a+b\n",
    "l(3,4)"
   ]
  },
  {
   "cell_type": "code",
   "execution_count": 22,
   "id": "34282c90",
   "metadata": {},
   "outputs": [
    {
     "data": {
      "text/plain": [
       "8"
      ]
     },
     "execution_count": 22,
     "metadata": {},
     "output_type": "execute_result"
    }
   ],
   "source": [
    "a=lambda i:i*2\n",
    "a(4)"
   ]
  },
  {
   "cell_type": "code",
   "execution_count": 27,
   "id": "82c3c9ca",
   "metadata": {},
   "outputs": [
    {
     "name": "stdout",
     "output_type": "stream",
     "text": [
      "{4, 6, 8, 10, 12}\n"
     ]
    }
   ],
   "source": [
    "#map-->map(function,iterable nums)\n",
    "def mul(a):\n",
    "    return a*2\n",
    "a=set(map(mul,[2,3,4,5,6]))\n",
    "print(a)"
   ]
  },
  {
   "cell_type": "code",
   "execution_count": 28,
   "id": "845800b8",
   "metadata": {},
   "outputs": [
    {
     "data": {
      "text/plain": [
       "[4, 9, 16, 25]"
      ]
     },
     "execution_count": 28,
     "metadata": {},
     "output_type": "execute_result"
    }
   ],
   "source": [
    "p=list(map(lambda i:i**2,[2,3,4,5]))\n",
    "p"
   ]
  },
  {
   "cell_type": "code",
   "execution_count": 29,
   "id": "d6fd8b1f",
   "metadata": {},
   "outputs": [
    {
     "name": "stdout",
     "output_type": "stream",
     "text": [
      "['python', 'java']\n"
     ]
    }
   ],
   "source": [
    "s=['PYTHON','JAVA']\n",
    "a=list(map(str.lower,s))\n",
    "print(a)"
   ]
  },
  {
   "cell_type": "code",
   "execution_count": 34,
   "id": "c40fa6fa",
   "metadata": {},
   "outputs": [],
   "source": [
    "#Filter-->filter(function,iterable nums)\n",
    "def Greater(a):\n",
    "    if a>50:\n",
    "        return True\n",
    "    else:\n",
    "        return False"
   ]
  },
  {
   "cell_type": "code",
   "execution_count": 36,
   "id": "8f86b362",
   "metadata": {},
   "outputs": [
    {
     "data": {
      "text/plain": [
       "[56, 78, 90]"
      ]
     },
     "execution_count": 36,
     "metadata": {},
     "output_type": "execute_result"
    }
   ],
   "source": [
    "n=list(filter(Greater,[34,56,78,12,23,90]))\n",
    "#for i in n:\n",
    "#    print(i)\n",
    "n"
   ]
  },
  {
   "cell_type": "code",
   "execution_count": 38,
   "id": "70c4b77f",
   "metadata": {},
   "outputs": [],
   "source": [
    "#reduce\n",
    "import functools"
   ]
  },
  {
   "cell_type": "code",
   "execution_count": 43,
   "id": "d0d8dd42",
   "metadata": {},
   "outputs": [
    {
     "data": {
      "text/plain": [
       "120"
      ]
     },
     "execution_count": 43,
     "metadata": {},
     "output_type": "execute_result"
    }
   ],
   "source": [
    "f=functools.reduce(lambda a,b:a*b,[1,2,3,4,5])\n",
    "f"
   ]
  },
  {
   "cell_type": "markdown",
   "id": "b7094a8a",
   "metadata": {},
   "source": [
    "### File Handling\n",
    "\n",
    "- File definition: collection of data.\n",
    "\n",
    "- File operations: read,write \n",
    "\n",
    "- File modes: read(r),write(w),append(a)\n",
    "\n",
    "- File Methods: \n",
    "    - file_object = open('filepath or filename',mode)\n",
    "    - read()\n",
    "    - write('text')\n",
    "    - close()\n",
    "    \n",
    "- with open(filename) as file_object:\n",
    "    - statements"
   ]
  },
  {
   "cell_type": "code",
   "execution_count": 49,
   "id": "cee323cc",
   "metadata": {
    "collapsed": true
   },
   "outputs": [
    {
     "name": "stdout",
     "output_type": "stream",
     "text": [
      "This is th\n"
     ]
    },
    {
     "data": {
      "text/plain": [
       "'thon workshop.\\nGood bye everyone.\\nTake care.\\nMeet you on Monday.'"
      ]
     },
     "execution_count": 49,
     "metadata": {},
     "output_type": "execute_result"
    }
   ],
   "source": [
    "f = open('jntuv.txt')\n",
    "data = f.read(10)\n",
    "f.read(16)\n",
    "print(data)\n",
    "f.read()"
   ]
  },
  {
   "cell_type": "code",
   "execution_count": 57,
   "id": "64fad2f5",
   "metadata": {
    "collapsed": true
   },
   "outputs": [
    {
     "name": "stdout",
     "output_type": "stream",
     "text": [
      "This \n",
      "5\n",
      "25\n",
      "ython work\n",
      "\n"
     ]
    }
   ],
   "source": [
    "with open('jntuv.txt') as f:\n",
    "    data = f.read(5)\n",
    "    print(data)\n",
    "    print(f.tell()) # to know the current cursor position\n",
    "    f.seek(25) # to change the cursor position\n",
    "    print(f.tell())\n",
    "    print(f.read(10))\n",
    "    f.seek(100)\n",
    "    print(f.read())"
   ]
  },
  {
   "cell_type": "code",
   "execution_count": 60,
   "id": "be117479",
   "metadata": {},
   "outputs": [
    {
     "name": "stdout",
     "output_type": "stream",
     "text": [
      "This is the\n"
     ]
    }
   ],
   "source": [
    "f = open(\"jntuv.txt\",'r')\n",
    "print(f.read(11))\n",
    "f.close()"
   ]
  },
  {
   "cell_type": "code",
   "execution_count": 61,
   "id": "bcb357cd",
   "metadata": {
    "collapsed": true
   },
   "outputs": [
    {
     "ename": "ValueError",
     "evalue": "I/O operation on closed file.",
     "output_type": "error",
     "traceback": [
      "\u001b[1;31m---------------------------------------------------------------------------\u001b[0m",
      "\u001b[1;31mValueError\u001b[0m                                Traceback (most recent call last)",
      "\u001b[1;32m<ipython-input-61-571e9fb02258>\u001b[0m in \u001b[0;36m<module>\u001b[1;34m\u001b[0m\n\u001b[1;32m----> 1\u001b[1;33m \u001b[0mf\u001b[0m\u001b[1;33m.\u001b[0m\u001b[0mread\u001b[0m\u001b[1;33m(\u001b[0m\u001b[1;33m)\u001b[0m\u001b[1;33m\u001b[0m\u001b[1;33m\u001b[0m\u001b[0m\n\u001b[0m",
      "\u001b[1;31mValueError\u001b[0m: I/O operation on closed file."
     ]
    }
   ],
   "source": [
    "f.read()"
   ]
  },
  {
   "cell_type": "code",
   "execution_count": 70,
   "id": "a91508e4",
   "metadata": {},
   "outputs": [
    {
     "name": "stdout",
     "output_type": "stream",
     "text": [
      "17\n"
     ]
    }
   ],
   "source": [
    "with open(\"data.txt\",'w') as f:\n",
    "    data = f.write(\"This is new file.\")\n",
    "    print(data)"
   ]
  },
  {
   "cell_type": "code",
   "execution_count": 73,
   "id": "6cb6297b",
   "metadata": {},
   "outputs": [],
   "source": [
    "with open('data.txt','a') as f:\n",
    "    data = f.write(\"\\ntext using append mode..\")"
   ]
  },
  {
   "cell_type": "code",
   "execution_count": 76,
   "id": "911f685d",
   "metadata": {},
   "outputs": [
    {
     "name": "stdout",
     "output_type": "stream",
     "text": [
      "This is the last day of python workshop.\n",
      "\n",
      "Good bye everyone.\n",
      "\n"
     ]
    }
   ],
   "source": [
    "# reading the data line by line\n",
    "with open(\"jntuv.txt\",'r') as f:\n",
    "    print(f.readline())\n",
    "    print(f.readline())"
   ]
  },
  {
   "cell_type": "code",
   "execution_count": 80,
   "id": "7122bde3",
   "metadata": {},
   "outputs": [
    {
     "name": "stdout",
     "output_type": "stream",
     "text": [
      "T h i s   i s   t h e   l a s t   d a y   o f   p y t h o n   w o r k s h o p . \n",
      " "
     ]
    }
   ],
   "source": [
    "with open(\"jntuv.txt\",'r') as f:\n",
    "    data = f.readline()\n",
    "    for i in data:\n",
    "        print(i,end=\" \")"
   ]
  },
  {
   "cell_type": "code",
   "execution_count": 82,
   "id": "45c0e0ea",
   "metadata": {
    "scrolled": false
   },
   "outputs": [
    {
     "name": "stdout",
     "output_type": "stream",
     "text": [
      "['This is the last day of python workshop.\\n', 'Good bye everyone.\\n', 'Take care.\\n', 'Meet you on Monday.']\n",
      "Number of lines are:  4\n"
     ]
    }
   ],
   "source": [
    "with open(\"jntuv.txt\",'r') as f:\n",
    "    data = f.readlines()\n",
    "    print(data)\n",
    "    print(\"Number of lines are: \",len(data))"
   ]
  },
  {
   "cell_type": "markdown",
   "id": "f028483b",
   "metadata": {},
   "source": [
    "### Tasks on Files"
   ]
  },
  {
   "cell_type": "markdown",
   "id": "2d104bce",
   "metadata": {},
   "source": [
    "- number of words\n",
    "- create  a dictionary which contains word as a key and it's frequency as value."
   ]
  },
  {
   "cell_type": "code",
   "execution_count": null,
   "id": "1b83c2eb",
   "metadata": {},
   "outputs": [],
   "source": [
    "# Task-1"
   ]
  },
  {
   "cell_type": "code",
   "execution_count": null,
   "id": "0e6d59d1",
   "metadata": {},
   "outputs": [],
   "source": [
    "# Task-2"
   ]
  }
 ],
 "metadata": {
  "kernelspec": {
   "display_name": "Python 3",
   "language": "python",
   "name": "python3"
  },
  "language_info": {
   "codemirror_mode": {
    "name": "ipython",
    "version": 3
   },
   "file_extension": ".py",
   "mimetype": "text/x-python",
   "name": "python",
   "nbconvert_exporter": "python",
   "pygments_lexer": "ipython3",
   "version": "3.8.8"
  }
 },
 "nbformat": 4,
 "nbformat_minor": 5
}
