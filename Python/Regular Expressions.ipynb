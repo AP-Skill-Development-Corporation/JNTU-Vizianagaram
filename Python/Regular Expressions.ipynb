{
 "cells": [
  {
   "cell_type": "markdown",
   "id": "1d53add6",
   "metadata": {},
   "source": [
    "### Regular Expressions\n",
    "\n",
    "- Definition --> It is a character sequence which defines a search pattern.\n",
    "- Special characters\n",
    "\n",
    "- Special Sequences\n",
    "\n",
    "- Methods\n",
    "    - match()\n",
    "    - search()\n",
    "    - findall()\n",
    "    - sub()\n",
    "    - split()"
   ]
  },
  {
   "cell_type": "code",
   "execution_count": null,
   "id": "24fc4fe2",
   "metadata": {},
   "outputs": [],
   "source": [
    "### Regular Expressions\n",
    "\n",
    "- Definition --> It is a character sequence which defines a search pattern.\n",
    "- Special characters\n",
    "\n",
    "- Special Sequences\n",
    "\n",
    "- Methods\n",
    "    - match()\n",
    "    - search()\n",
    "    - findall()\n",
    "    - sub()\n",
    "    - split()"
   ]
  },
  {
   "cell_type": "code",
   "execution_count": null,
   "id": "d3a56fe9",
   "metadata": {},
   "outputs": [],
   "source": []
  },
  {
   "cell_type": "code",
   "execution_count": null,
   "id": "bcb94786",
   "metadata": {},
   "outputs": [],
   "source": [
    "'ab+'  ==> a, ab,abb,abbbbbbbbbbbb "
   ]
  },
  {
   "cell_type": "code",
   "execution_count": 7,
   "id": "08dcd352",
   "metadata": {},
   "outputs": [
    {
     "name": "stdout",
     "output_type": "stream",
     "text": [
      "sdjksd\n"
     ]
    },
    {
     "data": {
      "text/plain": [
       "[]"
      ]
     },
     "execution_count": 7,
     "metadata": {},
     "output_type": "execute_result"
    }
   ],
   "source": [
    "import re\n",
    "s = input()\n",
    "re.findall('ab?',s)"
   ]
  },
  {
   "cell_type": "code",
   "execution_count": null,
   "id": "3ff914b3",
   "metadata": {},
   "outputs": [],
   "source": [
    "text = input()\n",
    "re.split('')"
   ]
  },
  {
   "cell_type": "markdown",
   "id": "91af2296",
   "metadata": {},
   "source": [
    "'^s...a$' --> this is will any 5 length strings starts with s and ends with a\n",
    "[0-9] --> matches any single digit numbers\n",
    "[0-9]{3} --> 100-999\n",
    "[a-zA-Z] --> \n",
    "[0-9a-zA-Z] --> this will match any alpha or  numeric values.\n",
    "[2468]{1,2} --> single or two digit 3 multiples\n",
    "[1-9][0-9]*[0] -->\n",
    "[a-zA-Z]{1,3} --> a,ab,abc, aBc"
   ]
  },
  {
   "cell_type": "code",
   "execution_count": 11,
   "id": "7866f8a9",
   "metadata": {},
   "outputs": [
    {
     "data": {
      "text/plain": [
       "<re.Match object; span=(1, 2), match='v'>"
      ]
     },
     "execution_count": 11,
     "metadata": {},
     "output_type": "execute_result"
    }
   ],
   "source": [
    "re.search('[t-z]','kvitha')"
   ]
  },
  {
   "cell_type": "code",
   "execution_count": 13,
   "id": "515ed872",
   "metadata": {
    "collapsed": true
   },
   "outputs": [
    {
     "name": "stdout",
     "output_type": "stream",
     "text": [
      "swara\n",
      "shera\n",
      "saraa\n"
     ]
    }
   ],
   "source": [
    "li = ['swarna','swara','shera','salsi','sarada','saraa']\n",
    "pattern = '^s...a$'\n",
    "for i in li:\n",
    "    if re.search(pattern,i):\n",
    "        print(i)"
   ]
  },
  {
   "cell_type": "code",
   "execution_count": 15,
   "id": "39fdfea5",
   "metadata": {},
   "outputs": [
    {
     "data": {
      "text/plain": [
       "['hello', 'every', 'one good morning !!']"
      ]
     },
     "execution_count": 15,
     "metadata": {},
     "output_type": "execute_result"
    }
   ],
   "source": [
    "info = \"hello every one good morning !!\"\n",
    "re.split(' ',info,2)"
   ]
  },
  {
   "cell_type": "code",
   "execution_count": 19,
   "id": "fbb0cde8",
   "metadata": {},
   "outputs": [
    {
     "data": {
      "text/plain": [
       "'hEllo EvEry onE good morning !!'"
      ]
     },
     "execution_count": 19,
     "metadata": {},
     "output_type": "execute_result"
    }
   ],
   "source": [
    "re.sub('e','E',info,10)"
   ]
  },
  {
   "cell_type": "code",
   "execution_count": 23,
   "id": "40bb723b",
   "metadata": {},
   "outputs": [
    {
     "name": "stdout",
     "output_type": "stream",
     "text": [
      "Enter ur phone number: 9951676602\n"
     ]
    },
    {
     "data": {
      "text/plain": [
       "'Valid'"
      ]
     },
     "execution_count": 23,
     "metadata": {},
     "output_type": "execute_result"
    }
   ],
   "source": [
    "# WA function for Phone number validation\n",
    "def is_valid(phn):\n",
    "    pattern = '^[6-9][0-9]{9}$|^[+][9][1][6-9][0-9]{9}$'\n",
    "    if re.match(pattern,phn):\n",
    "        return \"Valid\"\n",
    "    else:\n",
    "        return \"Invalid\"\n",
    "phone_num = input(\"Enter ur phone number: \")\n",
    "is_valid(phone_num)"
   ]
  },
  {
   "cell_type": "code",
   "execution_count": null,
   "id": "4c9bab98",
   "metadata": {},
   "outputs": [],
   "source": [
    "# pattern for email validation."
   ]
  }
 ],
 "metadata": {
  "kernelspec": {
   "display_name": "Python 3",
   "language": "python",
   "name": "python3"
  },
  "language_info": {
   "codemirror_mode": {
    "name": "ipython",
    "version": 3
   },
   "file_extension": ".py",
   "mimetype": "text/x-python",
   "name": "python",
   "nbconvert_exporter": "python",
   "pygments_lexer": "ipython3",
   "version": "3.8.8"
  }
 },
 "nbformat": 4,
 "nbformat_minor": 5
}
