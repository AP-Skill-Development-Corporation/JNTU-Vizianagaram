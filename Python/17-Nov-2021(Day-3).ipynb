{
 "cells": [
  {
   "cell_type": "markdown",
   "id": "c7762392",
   "metadata": {},
   "source": [
    "### Strings\n",
    "\n",
    "- Definition: \n",
    "    - sequence of characters\n",
    "    - defined with double, single or triple quotes.\n",
    "    - it is an immutable type.\n",
    "- String Operations : \n",
    "    - concatination (+)\n",
    "    - repetetion (*)\n",
    "    - memebership operators (in , not in )\n",
    "- String indexing :\n",
    "    - Forward or positive indexing\n",
    "        - 0 to ending\n",
    "    - backward or negative indexing\n",
    "        - -1 to beginning of the string\n",
    "- String Slicing :\n",
    "    - str_name[start:stop:step]\n",
    "- String Methods:\n",
    "    - dir(str)\n",
    "    - str_name.method_name(parameters)"
   ]
  },
  {
   "cell_type": "code",
   "execution_count": 6,
   "id": "1b6db742",
   "metadata": {},
   "outputs": [],
   "source": [
    "s1 = 'first string'\n",
    "s2 = \"second string\"\n",
    "s3 = '''third\n",
    "strin\n",
    "g'''"
   ]
  },
  {
   "cell_type": "code",
   "execution_count": 7,
   "id": "95eb0ea6",
   "metadata": {
    "collapsed": true
   },
   "outputs": [
    {
     "name": "stdout",
     "output_type": "stream",
     "text": [
      "first string\n",
      "second string\n",
      "third\n",
      "strin\n",
      "g\n"
     ]
    }
   ],
   "source": [
    "print(s1)\n",
    "print(s2)\n",
    "print(s3)"
   ]
  },
  {
   "cell_type": "code",
   "execution_count": 8,
   "id": "ce8dc10b",
   "metadata": {},
   "outputs": [
    {
     "data": {
      "text/plain": [
       "True"
      ]
     },
     "execution_count": 8,
     "metadata": {},
     "output_type": "execute_result"
    }
   ],
   "source": [
    "a = \"john smith\"\n",
    "'o' in a"
   ]
  },
  {
   "cell_type": "code",
   "execution_count": 9,
   "id": "fa01a8da",
   "metadata": {},
   "outputs": [
    {
     "data": {
      "text/plain": [
       "True"
      ]
     },
     "execution_count": 9,
     "metadata": {},
     "output_type": "execute_result"
    }
   ],
   "source": [
    "'n' in a"
   ]
  },
  {
   "cell_type": "code",
   "execution_count": 12,
   "id": "1fc25683",
   "metadata": {},
   "outputs": [
    {
     "data": {
      "text/plain": [
       "True"
      ]
     },
     "execution_count": 12,
     "metadata": {},
     "output_type": "execute_result"
    }
   ],
   "source": [
    "'n s' in a"
   ]
  },
  {
   "cell_type": "code",
   "execution_count": 21,
   "id": "daee96cf",
   "metadata": {},
   "outputs": [
    {
     "data": {
      "text/plain": [
       "'g'"
      ]
     },
     "execution_count": 21,
     "metadata": {},
     "output_type": "execute_result"
    }
   ],
   "source": [
    "text = \"jntuk college of engineering\"\n",
    "text[0]\n",
    "text[4]\n",
    "text[9]\n",
    "text[-1] # 'g'\n",
    "text[len(text)-1] # 'g'"
   ]
  },
  {
   "cell_type": "code",
   "execution_count": 22,
   "id": "15de6b94",
   "metadata": {},
   "outputs": [
    {
     "data": {
      "text/plain": [
       "'college'"
      ]
     },
     "execution_count": 22,
     "metadata": {},
     "output_type": "execute_result"
    }
   ],
   "source": [
    "text[6:13]\n"
   ]
  },
  {
   "cell_type": "code",
   "execution_count": 23,
   "id": "b18d801d",
   "metadata": {},
   "outputs": [
    {
     "name": "stdout",
     "output_type": "stream",
     "text": [
      "jntuk college of engineering\n"
     ]
    }
   ],
   "source": [
    "print(text)"
   ]
  },
  {
   "cell_type": "code",
   "execution_count": 24,
   "id": "542c5300",
   "metadata": {},
   "outputs": [
    {
     "data": {
      "text/plain": [
       "'jntuk college of engineering'"
      ]
     },
     "execution_count": 24,
     "metadata": {},
     "output_type": "execute_result"
    }
   ],
   "source": [
    "text[:]"
   ]
  },
  {
   "cell_type": "code",
   "execution_count": 25,
   "id": "7d041da4",
   "metadata": {},
   "outputs": [
    {
     "data": {
      "text/plain": [
       "'jtkcleeo niern'"
      ]
     },
     "execution_count": 25,
     "metadata": {},
     "output_type": "execute_result"
    }
   ],
   "source": [
    "# jtkclee ...\n",
    "text[::2]"
   ]
  },
  {
   "cell_type": "code",
   "execution_count": 27,
   "id": "909595df",
   "metadata": {},
   "outputs": [
    {
     "data": {
      "text/plain": [
       "'nu olg fegneig'"
      ]
     },
     "execution_count": 27,
     "metadata": {},
     "output_type": "execute_result"
    }
   ],
   "source": [
    "text[1::2]"
   ]
  },
  {
   "cell_type": "code",
   "execution_count": 28,
   "id": "48805f3d",
   "metadata": {},
   "outputs": [
    {
     "data": {
      "text/plain": [
       "'giengef glo un'"
      ]
     },
     "execution_count": 28,
     "metadata": {},
     "output_type": "execute_result"
    }
   ],
   "source": [
    "text[::-2]  # "
   ]
  },
  {
   "cell_type": "code",
   "execution_count": 29,
   "id": "ca2deca0",
   "metadata": {},
   "outputs": [
    {
     "data": {
      "text/plain": [
       "'gnireenigne fo egelloc kutnj'"
      ]
     },
     "execution_count": 29,
     "metadata": {},
     "output_type": "execute_result"
    }
   ],
   "source": [
    "text[::-1]"
   ]
  },
  {
   "cell_type": "code",
   "execution_count": 30,
   "id": "4eb06bba",
   "metadata": {},
   "outputs": [
    {
     "name": "stdout",
     "output_type": "stream",
     "text": [
      "Enter a string: level\n",
      "True\n"
     ]
    }
   ],
   "source": [
    "s = input(\"Enter a string: \")\n",
    "if s==s[::-1]:\n",
    "    print(True)\n",
    "else:\n",
    "    print(False)"
   ]
  },
  {
   "cell_type": "markdown",
   "id": "cc5259ac",
   "metadata": {},
   "source": [
    "- WAP to check whether a given number is palindrome or not.\n",
    "```\n",
    "Example:\n",
    "    i/p: 1234\n",
    "    o/p: False\n",
    "    \n",
    "    i/p: 12321\n",
    "    o/p: True\n",
    "```"
   ]
  },
  {
   "cell_type": "code",
   "execution_count": 32,
   "id": "44596f9d",
   "metadata": {},
   "outputs": [
    {
     "name": "stdout",
     "output_type": "stream",
     "text": [
      "['__add__', '__class__', '__contains__', '__delattr__', '__dir__', '__doc__', '__eq__', '__format__', '__ge__', '__getattribute__', '__getitem__', '__getnewargs__', '__gt__', '__hash__', '__init__', '__init_subclass__', '__iter__', '__le__', '__len__', '__lt__', '__mod__', '__mul__', '__ne__', '__new__', '__reduce__', '__reduce_ex__', '__repr__', '__rmod__', '__rmul__', '__setattr__', '__sizeof__', '__str__', '__subclasshook__', 'capitalize', 'casefold', 'center', 'count', 'encode', 'endswith', 'expandtabs', 'find', 'format', 'format_map', 'index', 'isalnum', 'isalpha', 'isascii', 'isdecimal', 'isdigit', 'isidentifier', 'islower', 'isnumeric', 'isprintable', 'isspace', 'istitle', 'isupper', 'join', 'ljust', 'lower', 'lstrip', 'maketrans', 'partition', 'replace', 'rfind', 'rindex', 'rjust', 'rpartition', 'rsplit', 'rstrip', 'split', 'splitlines', 'startswith', 'strip', 'swapcase', 'title', 'translate', 'upper', 'zfill']\n"
     ]
    }
   ],
   "source": [
    "print(dir(str))"
   ]
  },
  {
   "cell_type": "code",
   "execution_count": 39,
   "id": "0239b2a5",
   "metadata": {
    "collapsed": true
   },
   "outputs": [
    {
     "data": {
      "text/plain": [
       "3"
      ]
     },
     "execution_count": 39,
     "metadata": {},
     "output_type": "execute_result"
    }
   ],
   "source": [
    "s = 'JnTuk viZiaNaGAraM'\n",
    "# Z\n",
    "s.index('Z')\n",
    "s.index(' ')\n",
    "s.index('uk')"
   ]
  },
  {
   "cell_type": "code",
   "execution_count": 40,
   "id": "611c3bd2",
   "metadata": {
    "collapsed": true
   },
   "outputs": [
    {
     "data": {
      "text/plain": [
       "8"
      ]
     },
     "execution_count": 40,
     "metadata": {},
     "output_type": "execute_result"
    }
   ],
   "source": [
    "s.find('Z')"
   ]
  },
  {
   "cell_type": "markdown",
   "id": "dc5a64f8",
   "metadata": {},
   "source": [
    "- Difference b/w index() & find() method is find returns -1 if we search for a non-existing character where index method will raise an error."
   ]
  },
  {
   "cell_type": "code",
   "execution_count": 41,
   "id": "cbe39da3",
   "metadata": {
    "collapsed": true
   },
   "outputs": [
    {
     "data": {
      "text/plain": [
       "7"
      ]
     },
     "execution_count": 41,
     "metadata": {},
     "output_type": "execute_result"
    }
   ],
   "source": [
    "s.find('i')"
   ]
  },
  {
   "cell_type": "code",
   "execution_count": 42,
   "id": "004ff427",
   "metadata": {
    "collapsed": true
   },
   "outputs": [
    {
     "data": {
      "text/plain": [
       "9"
      ]
     },
     "execution_count": 42,
     "metadata": {},
     "output_type": "execute_result"
    }
   ],
   "source": [
    "s.rfind('i')"
   ]
  },
  {
   "cell_type": "code",
   "execution_count": 43,
   "id": "476abf1b",
   "metadata": {
    "collapsed": true
   },
   "outputs": [
    {
     "data": {
      "text/plain": [
       "2"
      ]
     },
     "execution_count": 43,
     "metadata": {},
     "output_type": "execute_result"
    }
   ],
   "source": [
    "# count()\n",
    "s.count('i')"
   ]
  },
  {
   "cell_type": "code",
   "execution_count": 44,
   "id": "ae923f2f",
   "metadata": {
    "collapsed": true
   },
   "outputs": [
    {
     "data": {
      "text/plain": [
       "0"
      ]
     },
     "execution_count": 44,
     "metadata": {},
     "output_type": "execute_result"
    }
   ],
   "source": [
    "s.count('y')"
   ]
  },
  {
   "cell_type": "code",
   "execution_count": 45,
   "id": "e3e2abe1",
   "metadata": {
    "collapsed": true
   },
   "outputs": [
    {
     "data": {
      "text/plain": [
       "'JnTuk viZiaNaGAraM'"
      ]
     },
     "execution_count": 45,
     "metadata": {},
     "output_type": "execute_result"
    }
   ],
   "source": [
    "s"
   ]
  },
  {
   "cell_type": "code",
   "execution_count": 48,
   "id": "2faa3e8e",
   "metadata": {
    "collapsed": true
   },
   "outputs": [
    {
     "data": {
      "text/plain": [
       "['JnTuk viZi', 'N', 'GAr', 'M']"
      ]
     },
     "execution_count": 48,
     "metadata": {},
     "output_type": "execute_result"
    }
   ],
   "source": [
    "s.split('a')"
   ]
  },
  {
   "cell_type": "code",
   "execution_count": 52,
   "id": "ceca910e",
   "metadata": {
    "collapsed": true
   },
   "outputs": [
    {
     "data": {
      "text/plain": [
       "['a@c*d', 'e*r', 'y']"
      ]
     },
     "execution_count": 52,
     "metadata": {},
     "output_type": "execute_result"
    }
   ],
   "source": [
    "s1 = 'a@c*d@*e*r@*y'\n",
    "s1.split('@*')"
   ]
  },
  {
   "cell_type": "markdown",
   "id": "b46207ae",
   "metadata": {},
   "source": [
    "### Afternoon Session"
   ]
  },
  {
   "cell_type": "code",
   "execution_count": 9,
   "id": "47b1bc65",
   "metadata": {},
   "outputs": [],
   "source": [
    "v = 'mTeCH mCa CSe jnTUk'"
   ]
  },
  {
   "cell_type": "code",
   "execution_count": 10,
   "id": "56383c68",
   "metadata": {},
   "outputs": [
    {
     "data": {
      "text/plain": [
       "'Mtech mca cse jntuk'"
      ]
     },
     "execution_count": 10,
     "metadata": {},
     "output_type": "execute_result"
    }
   ],
   "source": [
    "# capitalize() --> it converts first character to uppercase and remaining letters to lowercase\n",
    "v.capitalize()"
   ]
  },
  {
   "cell_type": "code",
   "execution_count": 11,
   "id": "8b50c13b",
   "metadata": {},
   "outputs": [
    {
     "data": {
      "text/plain": [
       "'mtech mca cse jntuk'"
      ]
     },
     "execution_count": 11,
     "metadata": {},
     "output_type": "execute_result"
    }
   ],
   "source": [
    "# lower() --> converts entire string to lowercase\n",
    "v.lower()"
   ]
  },
  {
   "cell_type": "code",
   "execution_count": 12,
   "id": "bab1b83f",
   "metadata": {
    "collapsed": true
   },
   "outputs": [
    {
     "data": {
      "text/plain": [
       "'MTECH MCA CSE JNTUK'"
      ]
     },
     "execution_count": 12,
     "metadata": {},
     "output_type": "execute_result"
    }
   ],
   "source": [
    "# upper() --> converts entire string to uppercase\n",
    "v.upper()"
   ]
  },
  {
   "cell_type": "code",
   "execution_count": 14,
   "id": "6a806a74",
   "metadata": {
    "collapsed": true
   },
   "outputs": [
    {
     "data": {
      "text/plain": [
       "'python workshop'"
      ]
     },
     "execution_count": 14,
     "metadata": {},
     "output_type": "execute_result"
    }
   ],
   "source": [
    "# strip() --> it removes leading and trailing spaces in a given string.\n",
    "s = \"   python workshop   \"\n",
    "s.strip()"
   ]
  },
  {
   "cell_type": "code",
   "execution_count": 17,
   "id": "53d93ac8",
   "metadata": {
    "collapsed": true
   },
   "outputs": [
    {
     "name": "stdout",
     "output_type": "stream",
     "text": [
      "python workshop   \n",
      "   python workshop\n"
     ]
    }
   ],
   "source": [
    "# lstrip() --> removes only leading or left-side spaces\n",
    "print(s.lstrip())\n",
    "# rstrip() --> removes only trailing or right-side spaces\n",
    "print(s.rstrip())"
   ]
  },
  {
   "cell_type": "code",
   "execution_count": 24,
   "id": "7e3ec540",
   "metadata": {},
   "outputs": [
    {
     "data": {
      "text/plain": [
       "'javaython'"
      ]
     },
     "execution_count": 24,
     "metadata": {},
     "output_type": "execute_result"
    }
   ],
   "source": [
    "# replace() --> replaces an old string or character with new string or char\n",
    "s = 'python'\n",
    "s.replace(\"p\",'java')"
   ]
  },
  {
   "cell_type": "code",
   "execution_count": 22,
   "id": "adad9239",
   "metadata": {},
   "outputs": [
    {
     "data": {
      "text/plain": [
       "'p*y*t*h*o*n'"
      ]
     },
     "execution_count": 22,
     "metadata": {},
     "output_type": "execute_result"
    }
   ],
   "source": [
    "# join() --> to join a new string or character to entire string.\n",
    "'*'.join('python')"
   ]
  },
  {
   "cell_type": "code",
   "execution_count": 25,
   "id": "2d7cfd8a",
   "metadata": {},
   "outputs": [
    {
     "data": {
      "text/plain": [
       "['welcome', 'to python', 'workshop']"
      ]
     },
     "execution_count": 25,
     "metadata": {},
     "output_type": "execute_result"
    }
   ],
   "source": [
    "# splitlines() --> it splits the entire string into list of elements based on new line.\n",
    "info = '''welcome\n",
    "to python\n",
    "workshop'''\n",
    "info.splitlines()"
   ]
  },
  {
   "cell_type": "code",
   "execution_count": 29,
   "id": "9fc0db05",
   "metadata": {},
   "outputs": [
    {
     "data": {
      "text/plain": [
       "'This Is Title Method'"
      ]
     },
     "execution_count": 29,
     "metadata": {},
     "output_type": "execute_result"
    }
   ],
   "source": [
    "# title() --> it coverts each word's first character to uppercase remaining characters to lowercase\n",
    "s = \"this is title method\"\n",
    "s.title()"
   ]
  },
  {
   "cell_type": "code",
   "execution_count": 35,
   "id": "4a22923a",
   "metadata": {},
   "outputs": [
    {
     "data": {
      "text/plain": [
       "'ooooothis is title methodooooo'"
      ]
     },
     "execution_count": 35,
     "metadata": {},
     "output_type": "execute_result"
    }
   ],
   "source": [
    "# center() --> to adjust the string to a particular length by ajusting the main string at center.\n",
    "s.center(30,'o')\n",
    "#s.center(10)"
   ]
  },
  {
   "cell_type": "code",
   "execution_count": 36,
   "id": "fe3a5e34",
   "metadata": {},
   "outputs": [
    {
     "data": {
      "text/plain": [
       "'0000000000this is title method'"
      ]
     },
     "execution_count": 36,
     "metadata": {},
     "output_type": "execute_result"
    }
   ],
   "source": [
    "# zfill() --> it will adjust the string to a particular length by adding 0's from left side.\n",
    "s.zfill(30)"
   ]
  },
  {
   "cell_type": "markdown",
   "id": "1a5329c4",
   "metadata": {},
   "source": [
    "- WAP to create a new string by changing lower letters to upper and vice-versa.\n",
    "````\n",
    "Example:\n",
    "    i/p: PYthOn\n",
    "    o/p: pyTHoN\n",
    "````"
   ]
  },
  {
   "cell_type": "code",
   "execution_count": 39,
   "id": "8727549b",
   "metadata": {
    "scrolled": true
   },
   "outputs": [
    {
     "name": "stdout",
     "output_type": "stream",
     "text": [
      "pyTHoN\n"
     ]
    }
   ],
   "source": [
    "res=''\n",
    "for i in 'PYthOn':\n",
    "    if i.islower():\n",
    "        res += i.upper()\n",
    "    else:\n",
    "        res += i.lower()\n",
    "print(res)"
   ]
  },
  {
   "cell_type": "code",
   "execution_count": 49,
   "id": "9561a898",
   "metadata": {},
   "outputs": [
    {
     "data": {
      "text/plain": [
       "False"
      ]
     },
     "execution_count": 49,
     "metadata": {},
     "output_type": "execute_result"
    }
   ],
   "source": [
    "# startswith()\n",
    "a = 'jnTuk'\n",
    "a.startswith('jN')\n",
    "# endswith()\n",
    "a.endswith('uk')\n",
    "# islower() # returns true if the entire string in lowercase\n",
    "a.islower()\n",
    "# isupper()\n",
    "a.isupper()"
   ]
  },
  {
   "cell_type": "code",
   "execution_count": 41,
   "id": "b62c745a",
   "metadata": {},
   "outputs": [
    {
     "data": {
      "text/plain": [
       "'pYThON'"
      ]
     },
     "execution_count": 41,
     "metadata": {},
     "output_type": "execute_result"
    }
   ],
   "source": [
    "s='PytHon'\n",
    "s.swapcase()"
   ]
  },
  {
   "cell_type": "code",
   "execution_count": null,
   "id": "ed8b6224",
   "metadata": {},
   "outputs": [],
   "source": [
    "# isalpha() --> returns true if all are characters are alphabets\n",
    "# isdigit() --> returns true if entire contains only digits\n",
    "# isalnum() --> true if string is the combination only alphabets and digits\n",
    "# istitle() --> returns true if it is a title\n",
    "# isspace() --> returns True if the character is a space."
   ]
  },
  {
   "cell_type": "code",
   "execution_count": 50,
   "id": "266ad691",
   "metadata": {},
   "outputs": [
    {
     "data": {
      "text/plain": [
       "False"
      ]
     },
     "execution_count": 50,
     "metadata": {},
     "output_type": "execute_result"
    }
   ],
   "source": [
    "'python3'.isalpha()"
   ]
  },
  {
   "cell_type": "code",
   "execution_count": 51,
   "id": "5c2ee369",
   "metadata": {},
   "outputs": [
    {
     "data": {
      "text/plain": [
       "True"
      ]
     },
     "execution_count": 51,
     "metadata": {},
     "output_type": "execute_result"
    }
   ],
   "source": [
    "'python3'.isalnum()"
   ]
  },
  {
   "cell_type": "code",
   "execution_count": 52,
   "id": "1ca0878a",
   "metadata": {},
   "outputs": [
    {
     "data": {
      "text/plain": [
       "True"
      ]
     },
     "execution_count": 52,
     "metadata": {},
     "output_type": "execute_result"
    }
   ],
   "source": [
    "'123'.isdigit()"
   ]
  },
  {
   "cell_type": "code",
   "execution_count": 54,
   "id": "79758a81",
   "metadata": {},
   "outputs": [
    {
     "data": {
      "text/plain": [
       "False"
      ]
     },
     "execution_count": 54,
     "metadata": {},
     "output_type": "execute_result"
    }
   ],
   "source": [
    "'12 34'.isdigit()"
   ]
  },
  {
   "cell_type": "markdown",
   "id": "26bf1e8e",
   "metadata": {},
   "source": [
    "### Tasks on Strings\n",
    "\n",
    "- Take a string from the user and print\n",
    "    - lowercase characters count\n",
    "    - uppercase characters count\n",
    "    - characters count\n",
    "    - digits count\n",
    "    - spaces count\n",
    "- WAP to print vowels count and consonants count using string methods.\n",
    "- Third Task:\n",
    "````\n",
    "Example: i/p: a P s S D c\n",
    "        o/p: Apssdc\n",
    "````"
   ]
  },
  {
   "cell_type": "code",
   "execution_count": 61,
   "id": "58a2029d",
   "metadata": {
    "collapsed": true
   },
   "outputs": [
    {
     "name": "stdout",
     "output_type": "stream",
     "text": [
      "Enter a string: python@123\n",
      "1 5\n"
     ]
    }
   ],
   "source": [
    "# Task-2\n",
    "s = input(\"Enter a string: \")\n",
    "vowel=con=0\n",
    "for i in s.lower():\n",
    "    if i.isalpha():\n",
    "        if i in 'aeiou':\n",
    "            vowel += 1\n",
    "        else:\n",
    "            con += 1\n",
    "print(vowel,con)"
   ]
  },
  {
   "cell_type": "code",
   "execution_count": 60,
   "id": "709f460b",
   "metadata": {
    "collapsed": true
   },
   "outputs": [
    {
     "name": "stdout",
     "output_type": "stream",
     "text": [
      "Enter a string: a P S s D c\n"
     ]
    },
    {
     "data": {
      "text/plain": [
       "'Apssdc'"
      ]
     },
     "execution_count": 60,
     "metadata": {},
     "output_type": "execute_result"
    }
   ],
   "source": [
    "# Task3\n",
    "s = input(\"Enter a string: \")\n",
    "''.join((s.split())).capitalize()"
   ]
  },
  {
   "cell_type": "markdown",
   "id": "70a19cbd",
   "metadata": {},
   "source": [
    "### Python Built-in Data Structures.\n",
    "- List\n",
    "    - It is an ordered and mutable data structure.\n",
    "    - declared by using []\n",
    "    - we can store heterogeneous values.\n",
    "    - It allows duplicate values.\n",
    "- Tuple\n",
    "- Set\n",
    "- Dictionary"
   ]
  },
  {
   "cell_type": "code",
   "execution_count": null,
   "id": "2459d1ae",
   "metadata": {},
   "outputs": [],
   "source": []
  }
 ],
 "metadata": {
  "kernelspec": {
   "display_name": "Python 3",
   "language": "python",
   "name": "python3"
  },
  "language_info": {
   "codemirror_mode": {
    "name": "ipython",
    "version": 3
   },
   "file_extension": ".py",
   "mimetype": "text/x-python",
   "name": "python",
   "nbconvert_exporter": "python",
   "pygments_lexer": "ipython3",
   "version": "3.8.8"
  }
 },
 "nbformat": 4,
 "nbformat_minor": 5
}
