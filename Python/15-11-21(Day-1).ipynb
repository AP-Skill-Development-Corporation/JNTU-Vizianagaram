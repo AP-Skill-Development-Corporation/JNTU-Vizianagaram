{
 "cells": [
  {
   "cell_type": "markdown",
   "id": "fa205154",
   "metadata": {},
   "source": [
    "# Day-1\n",
    "\n",
    "## h2\n",
    "\n",
    "### h3\n",
    "\n",
    "\n",
    "\n",
    "###### h6"
   ]
  },
  {
   "cell_type": "markdown",
   "id": "b91842ed",
   "metadata": {},
   "source": [
    "**Bold content**\n",
    "\n",
    "*italic text*\n",
    "\n",
    "***Bold and italix text***\n",
    "\n",
    "- main list1\n",
    "    - sub_list-1\n",
    "        - sub_sub_list\n",
    "    - sub_list-2\n",
    "- main liost2\n",
    "    - sub_list-3\n",
    "    - sub_list-4\n",
    "    \n",
    "1. Ordered list-1\n",
    "    1. ord-sublist\n",
    "        1. second sublist\n",
    "    2. ord-sublist\n",
    "2. Ordered list-2\n",
    "\n",
    "\n",
    "[gmail](https://www.gmail.com)\n",
    "\n",
    "\n",
    "![Random Image](amica.jpg)"
   ]
  },
  {
   "cell_type": "code",
   "execution_count": 1,
   "id": "9ca88f56",
   "metadata": {
    "scrolled": true
   },
   "outputs": [
    {
     "name": "stdout",
     "output_type": "stream",
     "text": [
      "Welcome all\n"
     ]
    }
   ],
   "source": [
    "print(\"Welcome all\")"
   ]
  },
  {
   "cell_type": "code",
   "execution_count": 26,
   "id": "1763ebad",
   "metadata": {
    "collapsed": true
   },
   "outputs": [
    {
     "ename": "NameError",
     "evalue": "name 'day' is not defined",
     "output_type": "error",
     "traceback": [
      "\u001b[1;31m---------------------------------------------------------------------------\u001b[0m",
      "\u001b[1;31mNameError\u001b[0m                                 Traceback (most recent call last)",
      "\u001b[1;32m<ipython-input-26-35d0a740cc44>\u001b[0m in \u001b[0;36m<module>\u001b[1;34m\u001b[0m\n\u001b[1;32m----> 1\u001b[1;33m \u001b[0mday\u001b[0m\u001b[1;33m-\u001b[0m\u001b[1;36m1\u001b[0m\u001b[1;33m\u001b[0m\u001b[1;33m\u001b[0m\u001b[0m\n\u001b[0m",
      "\u001b[1;31mNameError\u001b[0m: name 'day' is not defined"
     ]
    }
   ],
   "source": [
    "day-1"
   ]
  },
  {
   "cell_type": "code",
   "execution_count": 2,
   "id": "9c405f09",
   "metadata": {
    "scrolled": true
   },
   "outputs": [
    {
     "name": "stdout",
     "output_type": "stream",
     "text": [
      "150\n",
      "150\n"
     ]
    }
   ],
   "source": [
    "# 150\n",
    "print(\"150\")\n",
    "print(150)"
   ]
  },
  {
   "cell_type": "code",
   "execution_count": 4,
   "id": "75639e9c",
   "metadata": {
    "collapsed": true
   },
   "outputs": [
    {
     "ename": "NameError",
     "evalue": "name 'abc' is not defined",
     "output_type": "error",
     "traceback": [
      "\u001b[1;31m---------------------------------------------------------------------------\u001b[0m",
      "\u001b[1;31mNameError\u001b[0m                                 Traceback (most recent call last)",
      "\u001b[1;32m<ipython-input-4-5a0fe726361e>\u001b[0m in \u001b[0;36m<module>\u001b[1;34m\u001b[0m\n\u001b[1;32m----> 1\u001b[1;33m \u001b[0mprint\u001b[0m\u001b[1;33m(\u001b[0m\u001b[0mabc\u001b[0m\u001b[1;33m)\u001b[0m\u001b[1;33m\u001b[0m\u001b[1;33m\u001b[0m\u001b[0m\n\u001b[0m",
      "\u001b[1;31mNameError\u001b[0m: name 'abc' is not defined"
     ]
    }
   ],
   "source": [
    "print(abc)"
   ]
  },
  {
   "cell_type": "code",
   "execution_count": 6,
   "id": "e744a46e",
   "metadata": {},
   "outputs": [
    {
     "name": "stdout",
     "output_type": "stream",
     "text": [
      "100\n"
     ]
    },
    {
     "data": {
      "text/plain": [
       "100"
      ]
     },
     "execution_count": 6,
     "metadata": {},
     "output_type": "execute_result"
    }
   ],
   "source": [
    "number = 100\n",
    "print(number)\n",
    "number"
   ]
  },
  {
   "cell_type": "code",
   "execution_count": 7,
   "id": "5e434afc",
   "metadata": {},
   "outputs": [],
   "source": [
    "s = \"python\"\n",
    "i = 32\n",
    "f = 12.6"
   ]
  },
  {
   "cell_type": "code",
   "execution_count": 10,
   "id": "bc15842e",
   "metadata": {},
   "outputs": [
    {
     "data": {
      "text/plain": [
       "12.6"
      ]
     },
     "execution_count": 10,
     "metadata": {},
     "output_type": "execute_result"
    }
   ],
   "source": [
    "s\n",
    "i\n",
    "f"
   ]
  },
  {
   "cell_type": "code",
   "execution_count": 12,
   "id": "b928aca7",
   "metadata": {},
   "outputs": [
    {
     "name": "stdout",
     "output_type": "stream",
     "text": [
      "python 32 12.6\n"
     ]
    }
   ],
   "source": [
    "print(s,i,f)"
   ]
  },
  {
   "cell_type": "code",
   "execution_count": 13,
   "id": "581269c3",
   "metadata": {},
   "outputs": [
    {
     "name": "stdout",
     "output_type": "stream",
     "text": [
      "python\n",
      "12.6\n",
      "32\n"
     ]
    }
   ],
   "source": [
    "print(s)\n",
    "print(f)\n",
    "print(i)"
   ]
  },
  {
   "cell_type": "markdown",
   "id": "d534ed98",
   "metadata": {},
   "source": [
    "### Data Conversions\n",
    "\n",
    "- int  --> float,str\n",
    "- float -->int, str\n",
    "- str --> we can't"
   ]
  },
  {
   "cell_type": "code",
   "execution_count": 14,
   "id": "fe0c9138",
   "metadata": {
    "collapsed": true
   },
   "outputs": [
    {
     "ename": "ValueError",
     "evalue": "invalid literal for int() with base 10: 'python'",
     "output_type": "error",
     "traceback": [
      "\u001b[1;31m---------------------------------------------------------------------------\u001b[0m",
      "\u001b[1;31mValueError\u001b[0m                                Traceback (most recent call last)",
      "\u001b[1;32m<ipython-input-14-f509577f5d61>\u001b[0m in \u001b[0;36m<module>\u001b[1;34m\u001b[0m\n\u001b[0;32m      1\u001b[0m \u001b[1;31m# int(variable_name)\u001b[0m\u001b[1;33m\u001b[0m\u001b[1;33m\u001b[0m\u001b[1;33m\u001b[0m\u001b[0m\n\u001b[1;32m----> 2\u001b[1;33m \u001b[0mint\u001b[0m\u001b[1;33m(\u001b[0m\u001b[0ms\u001b[0m\u001b[1;33m)\u001b[0m\u001b[1;33m\u001b[0m\u001b[1;33m\u001b[0m\u001b[0m\n\u001b[0m",
      "\u001b[1;31mValueError\u001b[0m: invalid literal for int() with base 10: 'python'"
     ]
    }
   ],
   "source": [
    "# int(variable_name)\n",
    "int(s)"
   ]
  },
  {
   "cell_type": "code",
   "execution_count": 16,
   "id": "11a22e05",
   "metadata": {},
   "outputs": [
    {
     "data": {
      "text/plain": [
       "123.0"
      ]
     },
     "execution_count": 16,
     "metadata": {},
     "output_type": "execute_result"
    }
   ],
   "source": [
    "n = \"123\"\n",
    "int(n)\n",
    "float(n)"
   ]
  },
  {
   "cell_type": "code",
   "execution_count": 17,
   "id": "57471bcf",
   "metadata": {},
   "outputs": [
    {
     "data": {
      "text/plain": [
       "12"
      ]
     },
     "execution_count": 17,
     "metadata": {},
     "output_type": "execute_result"
    }
   ],
   "source": [
    "int(12.9)"
   ]
  },
  {
   "cell_type": "code",
   "execution_count": 18,
   "id": "1c1e68b5",
   "metadata": {},
   "outputs": [
    {
     "data": {
      "text/plain": [
       "16.0"
      ]
     },
     "execution_count": 18,
     "metadata": {},
     "output_type": "execute_result"
    }
   ],
   "source": [
    "float(16)"
   ]
  },
  {
   "cell_type": "code",
   "execution_count": 20,
   "id": "b0c8882a",
   "metadata": {},
   "outputs": [
    {
     "data": {
      "text/plain": [
       "int"
      ]
     },
     "execution_count": 20,
     "metadata": {},
     "output_type": "execute_result"
    }
   ],
   "source": [
    "# if we want to know the type of any variable then we use type()\n",
    "a = 19\n",
    "b = \"jntuk\"\n",
    "type(b)\n",
    "type(a)"
   ]
  },
  {
   "cell_type": "code",
   "execution_count": 21,
   "id": "15885f6c",
   "metadata": {},
   "outputs": [
    {
     "name": "stdout",
     "output_type": "stream",
     "text": [
      "abcd\n"
     ]
    }
   ],
   "source": [
    "a = \"abcd\"\n",
    "print(a)"
   ]
  },
  {
   "cell_type": "code",
   "execution_count": 25,
   "id": "742df550",
   "metadata": {
    "collapsed": true
   },
   "outputs": [
    {
     "ename": "ValueError",
     "evalue": "too many values to unpack (expected 4)",
     "output_type": "error",
     "traceback": [
      "\u001b[1;31m---------------------------------------------------------------------------\u001b[0m",
      "\u001b[1;31mValueError\u001b[0m                                Traceback (most recent call last)",
      "\u001b[1;32m<ipython-input-25-5f643b41440f>\u001b[0m in \u001b[0;36m<module>\u001b[1;34m\u001b[0m\n\u001b[0;32m      1\u001b[0m \u001b[1;31m# multi variable assignment\u001b[0m\u001b[1;33m\u001b[0m\u001b[1;33m\u001b[0m\u001b[1;33m\u001b[0m\u001b[0m\n\u001b[1;32m----> 2\u001b[1;33m \u001b[0ma\u001b[0m\u001b[1;33m,\u001b[0m\u001b[0mb\u001b[0m\u001b[1;33m,\u001b[0m\u001b[0mc\u001b[0m\u001b[1;33m,\u001b[0m\u001b[0md\u001b[0m \u001b[1;33m=\u001b[0m \u001b[1;36m10\u001b[0m\u001b[1;33m,\u001b[0m\u001b[1;34m'jntu'\u001b[0m\u001b[1;33m,\u001b[0m\u001b[1;36m30\u001b[0m\u001b[1;33m,\u001b[0m\u001b[1;36m3\u001b[0m\u001b[1;33m,\u001b[0m\u001b[1;36m4\u001b[0m\u001b[1;33m\u001b[0m\u001b[1;33m\u001b[0m\u001b[0m\n\u001b[0m\u001b[0;32m      3\u001b[0m \u001b[0mprint\u001b[0m\u001b[1;33m(\u001b[0m\u001b[0ma\u001b[0m\u001b[1;33m,\u001b[0m\u001b[0mb\u001b[0m\u001b[1;33m,\u001b[0m\u001b[0mc\u001b[0m\u001b[1;33m,\u001b[0m\u001b[0md\u001b[0m\u001b[1;33m)\u001b[0m\u001b[1;33m\u001b[0m\u001b[1;33m\u001b[0m\u001b[0m\n",
      "\u001b[1;31mValueError\u001b[0m: too many values to unpack (expected 4)"
     ]
    }
   ],
   "source": [
    "# multi variable assignment\n",
    "a,b,c,d = 10,'jntu',30,3,4\n",
    "print(a,b,c,d)"
   ]
  },
  {
   "cell_type": "code",
   "execution_count": 23,
   "id": "3d9c9e1c",
   "metadata": {
    "collapsed": true
   },
   "outputs": [
    {
     "name": "stdout",
     "output_type": "stream",
     "text": [
      "10 jntu 30\n"
     ]
    }
   ],
   "source": [
    "print(a,b,c)"
   ]
  },
  {
   "cell_type": "markdown",
   "id": "7a8ca513",
   "metadata": {},
   "source": [
    "### Operators\n",
    "\n",
    "- Arithmetic operators (+,-,*,/,//,%,**)\n",
    "- Assignment operators\n",
    "- comparison op\n",
    "- Logical operators\n",
    "- Bitwise operators\n",
    "- membership \n",
    "- identity\n"
   ]
  },
  {
   "cell_type": "code",
   "execution_count": 2,
   "id": "236d5ceb",
   "metadata": {},
   "outputs": [
    {
     "name": "stdout",
     "output_type": "stream",
     "text": [
      "19 9 70 2.8 2 4 537824\n"
     ]
    }
   ],
   "source": [
    "# take any two values and perform all arithmetic operations.\n",
    "a = 14\n",
    "b = 5\n",
    "print(a+b,a-b,a*b,a/b,a//b,a%b,a**b)"
   ]
  },
  {
   "cell_type": "markdown",
   "id": "314787a6",
   "metadata": {},
   "source": [
    "- here the difference b/w floor division and normal division is \n",
    "    - floor division gives an integer value as output\n",
    "    - normal division gives you an floating value.\n",
    "    \n",
    "    when both are integers"
   ]
  },
  {
   "cell_type": "markdown",
   "id": "b08ff592",
   "metadata": {},
   "source": [
    "### Assignment operators\n",
    "- ="
   ]
  },
  {
   "cell_type": "code",
   "execution_count": 3,
   "id": "34e7ee1d",
   "metadata": {},
   "outputs": [
    {
     "name": "stdout",
     "output_type": "stream",
     "text": [
      "21\n"
     ]
    }
   ],
   "source": [
    "# add 7 to a\n",
    "a += 7\n",
    "print(a)\n"
   ]
  },
  {
   "cell_type": "code",
   "execution_count": 5,
   "id": "dd46b86e",
   "metadata": {},
   "outputs": [
    {
     "name": "stdout",
     "output_type": "stream",
     "text": [
      "0\n"
     ]
    }
   ],
   "source": [
    "a *=10\n",
    "a //= 21\n",
    "a %= 5\n",
    "print(a)"
   ]
  },
  {
   "cell_type": "code",
   "execution_count": 6,
   "id": "8f5ce16a",
   "metadata": {},
   "outputs": [
    {
     "name": "stdout",
     "output_type": "stream",
     "text": [
      "False True False True\n"
     ]
    }
   ],
   "source": [
    "## Comparision operators (<,>,<=,>=,==,!=)\n",
    "c,d = 15,1\n",
    "\n",
    "print(d>c,d<c,c==d,d!=29)"
   ]
  },
  {
   "cell_type": "code",
   "execution_count": 7,
   "id": "baad5525",
   "metadata": {},
   "outputs": [
    {
     "name": "stdout",
     "output_type": "stream",
     "text": [
      "False False False True True True\n"
     ]
    }
   ],
   "source": [
    "m=n=15\n",
    "print(m<n,m>n,m!=n,n<=m,m>=n,m==n)"
   ]
  },
  {
   "cell_type": "code",
   "execution_count": 8,
   "id": "3dcab690",
   "metadata": {
    "scrolled": true
   },
   "outputs": [
    {
     "data": {
      "text/plain": [
       "False"
      ]
     },
     "execution_count": 8,
     "metadata": {},
     "output_type": "execute_result"
    }
   ],
   "source": [
    "10 > 20"
   ]
  },
  {
   "cell_type": "code",
   "execution_count": 12,
   "id": "551bccea",
   "metadata": {},
   "outputs": [
    {
     "data": {
      "text/plain": [
       "False"
      ]
     },
     "execution_count": 12,
     "metadata": {},
     "output_type": "execute_result"
    }
   ],
   "source": [
    "# Logical Operators (and,or,not)\n",
    "m=n=15\n",
    "\n",
    "not(m!=n or n<=m)"
   ]
  },
  {
   "cell_type": "markdown",
   "id": "77fdb934",
   "metadata": {},
   "source": [
    "### Bitwise Operators\n",
    "- &,|,<<,>>,^"
   ]
  },
  {
   "cell_type": "code",
   "execution_count": 19,
   "id": "4f06a09d",
   "metadata": {},
   "outputs": [
    {
     "data": {
      "text/plain": [
       "8"
      ]
     },
     "execution_count": 19,
     "metadata": {},
     "output_type": "execute_result"
    }
   ],
   "source": [
    "14&8"
   ]
  },
  {
   "cell_type": "code",
   "execution_count": 20,
   "id": "e4574cd0",
   "metadata": {},
   "outputs": [
    {
     "data": {
      "text/plain": [
       "6818"
      ]
     },
     "execution_count": 20,
     "metadata": {},
     "output_type": "execute_result"
    }
   ],
   "source": [
    "int('1101010100010',2)"
   ]
  },
  {
   "cell_type": "code",
   "execution_count": 16,
   "id": "fbfc4c94",
   "metadata": {},
   "outputs": [
    {
     "data": {
      "text/plain": [
       "'0b1000'"
      ]
     },
     "execution_count": 16,
     "metadata": {},
     "output_type": "execute_result"
    }
   ],
   "source": [
    "bin(8)"
   ]
  },
  {
   "cell_type": "markdown",
   "id": "b829404a",
   "metadata": {},
   "source": [
    "### Membership and ideintity operators\n",
    "\n",
    "- in , not in \n",
    "- is , is not"
   ]
  },
  {
   "cell_type": "code",
   "execution_count": 31,
   "id": "a49182e9",
   "metadata": {},
   "outputs": [
    {
     "name": "stdout",
     "output_type": "stream",
     "text": [
      "Enter ur name: jntuk\n",
      "Enter a number: 189\n"
     ]
    }
   ],
   "source": [
    "# Taking input from the user.\n",
    "b = input(\"Enter ur name: \")\n",
    "num = int(input(\"Enter a number: \"))"
   ]
  },
  {
   "cell_type": "code",
   "execution_count": 25,
   "id": "b40ca9b6",
   "metadata": {
    "scrolled": true
   },
   "outputs": [
    {
     "data": {
      "text/plain": [
       "False"
      ]
     },
     "execution_count": 25,
     "metadata": {},
     "output_type": "execute_result"
    }
   ],
   "source": [
    "'K' in 'jntuk python'\n",
    "\n",
    "'j' not in 'jntuk python'"
   ]
  },
  {
   "cell_type": "code",
   "execution_count": 27,
   "id": "92f2ec94",
   "metadata": {},
   "outputs": [
    {
     "data": {
      "text/plain": [
       "True"
      ]
     },
     "execution_count": 27,
     "metadata": {},
     "output_type": "execute_result"
    }
   ],
   "source": [
    "a = 10\n",
    "c = a\n",
    "\n",
    "a is c"
   ]
  },
  {
   "cell_type": "markdown",
   "id": "638c8a89",
   "metadata": {},
   "source": [
    "### Conditional Statements\n",
    "- if\n",
    "\n",
    "    if condition:\n",
    "        statements\n",
    "- if - else\n",
    "\n",
    "    if condition:\n",
    "        statements\n",
    "    else:\n",
    "        statements\n",
    "- if elif else\n",
    "\n",
    "    if condition:\n",
    "        statement\n",
    "    elif condition:\n",
    "        statements\n",
    "    elif condition:\n",
    "       statements\n",
    "    .\n",
    "    \n",
    "    .\n",
    "    \n",
    "    else:\n",
    "        statemets\n",
    "- nested if\n",
    "\n",
    "    if conditon:\n",
    "        if condition:\n",
    "            statement\n",
    "        else:\n",
    "            statement\n",
    "    else:\n",
    "        statement"
   ]
  },
  {
   "cell_type": "code",
   "execution_count": 34,
   "id": "2f2fe9c7",
   "metadata": {
    "collapsed": true
   },
   "outputs": [
    {
     "name": "stdout",
     "output_type": "stream",
     "text": [
      "Enter ur age: 18\n",
      "Eligible\n"
     ]
    }
   ],
   "source": [
    "# if\n",
    "age = int(input(\"Enter ur age: \"))\n",
    "if age>=18:\n",
    "    print(\"Eligible\")\n",
    "else:\n",
    "    print(\"Not eligible\")\n",
    "    "
   ]
  },
  {
   "cell_type": "code",
   "execution_count": null,
   "id": "26b163ab",
   "metadata": {},
   "outputs": [],
   "source": [
    "# pass or fail\n",
    "# even or odd\n",
    "# profit or loss\n",
    "# positive number or negative number\n",
    "# debit or credit\n"
   ]
  },
  {
   "cell_type": "code",
   "execution_count": 36,
   "id": "41381a44",
   "metadata": {},
   "outputs": [
    {
     "name": "stdout",
     "output_type": "stream",
     "text": [
      "Enter number of persons: 10\n",
      "Enter number of books: 21\n",
      "9 books needed..\n"
     ]
    }
   ],
   "source": [
    "# no persons\n",
    "# no books\n",
    "# print the needed books or any items\n",
    "\n",
    "no_of_persons = int(input(\"Enter number of persons: \"))\n",
    "no_of_books = int(input(\"Enter number of books: \"))\n",
    "if no_of_books%no_of_persons==0:\n",
    "    print(\"Distributed succefully..\")\n",
    "else:\n",
    "    print(no_of_persons-(no_of_books%no_of_persons),\"books needed..\")"
   ]
  },
  {
   "cell_type": "code",
   "execution_count": null,
   "id": "44c60c69",
   "metadata": {},
   "outputs": [],
   "source": [
    "# maximum of four numbers.\n",
    "# Grading system implementation\n",
    "# credentials check"
   ]
  }
 ],
 "metadata": {
  "kernelspec": {
   "display_name": "Python 3",
   "language": "python",
   "name": "python3"
  },
  "language_info": {
   "codemirror_mode": {
    "name": "ipython",
    "version": 3
   },
   "file_extension": ".py",
   "mimetype": "text/x-python",
   "name": "python",
   "nbconvert_exporter": "python",
   "pygments_lexer": "ipython3",
   "version": "3.8.8"
  }
 },
 "nbformat": 4,
 "nbformat_minor": 5
}
