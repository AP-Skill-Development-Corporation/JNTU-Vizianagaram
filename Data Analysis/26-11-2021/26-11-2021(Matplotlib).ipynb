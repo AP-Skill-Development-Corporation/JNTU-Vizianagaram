{
 "cells": [
  {
   "cell_type": "code",
   "execution_count": 1,
   "id": "d01b8688",
   "metadata": {
    "collapsed": true
   },
   "outputs": [
    {
     "data": {
      "text/html": [
       "<div>\n",
       "<style scoped>\n",
       "    .dataframe tbody tr th:only-of-type {\n",
       "        vertical-align: middle;\n",
       "    }\n",
       "\n",
       "    .dataframe tbody tr th {\n",
       "        vertical-align: top;\n",
       "    }\n",
       "\n",
       "    .dataframe thead th {\n",
       "        text-align: right;\n",
       "    }\n",
       "</style>\n",
       "<table border=\"1\" class=\"dataframe\">\n",
       "  <thead>\n",
       "    <tr style=\"text-align: right;\">\n",
       "      <th></th>\n",
       "      <th>animal</th>\n",
       "      <th>age</th>\n",
       "      <th>visits</th>\n",
       "      <th>priority</th>\n",
       "    </tr>\n",
       "  </thead>\n",
       "  <tbody>\n",
       "    <tr>\n",
       "      <th>a</th>\n",
       "      <td>cat</td>\n",
       "      <td>2.5</td>\n",
       "      <td>1</td>\n",
       "      <td>yes</td>\n",
       "    </tr>\n",
       "    <tr>\n",
       "      <th>b</th>\n",
       "      <td>cat</td>\n",
       "      <td>3.0</td>\n",
       "      <td>3</td>\n",
       "      <td>yes</td>\n",
       "    </tr>\n",
       "    <tr>\n",
       "      <th>c</th>\n",
       "      <td>snake</td>\n",
       "      <td>0.5</td>\n",
       "      <td>2</td>\n",
       "      <td>no</td>\n",
       "    </tr>\n",
       "    <tr>\n",
       "      <th>d</th>\n",
       "      <td>dog</td>\n",
       "      <td>NaN</td>\n",
       "      <td>3</td>\n",
       "      <td>yes</td>\n",
       "    </tr>\n",
       "    <tr>\n",
       "      <th>e</th>\n",
       "      <td>dog</td>\n",
       "      <td>5.0</td>\n",
       "      <td>2</td>\n",
       "      <td>no</td>\n",
       "    </tr>\n",
       "    <tr>\n",
       "      <th>f</th>\n",
       "      <td>cat</td>\n",
       "      <td>2.0</td>\n",
       "      <td>3</td>\n",
       "      <td>no</td>\n",
       "    </tr>\n",
       "    <tr>\n",
       "      <th>g</th>\n",
       "      <td>snake</td>\n",
       "      <td>4.5</td>\n",
       "      <td>1</td>\n",
       "      <td>no</td>\n",
       "    </tr>\n",
       "    <tr>\n",
       "      <th>h</th>\n",
       "      <td>cat</td>\n",
       "      <td>NaN</td>\n",
       "      <td>1</td>\n",
       "      <td>yes</td>\n",
       "    </tr>\n",
       "    <tr>\n",
       "      <th>i</th>\n",
       "      <td>dog</td>\n",
       "      <td>7.0</td>\n",
       "      <td>2</td>\n",
       "      <td>no</td>\n",
       "    </tr>\n",
       "    <tr>\n",
       "      <th>j</th>\n",
       "      <td>dog</td>\n",
       "      <td>3.0</td>\n",
       "      <td>1</td>\n",
       "      <td>no</td>\n",
       "    </tr>\n",
       "  </tbody>\n",
       "</table>\n",
       "</div>"
      ],
      "text/plain": [
       "  animal  age  visits priority\n",
       "a    cat  2.5       1      yes\n",
       "b    cat  3.0       3      yes\n",
       "c  snake  0.5       2       no\n",
       "d    dog  NaN       3      yes\n",
       "e    dog  5.0       2       no\n",
       "f    cat  2.0       3       no\n",
       "g  snake  4.5       1       no\n",
       "h    cat  NaN       1      yes\n",
       "i    dog  7.0       2       no\n",
       "j    dog  3.0       1       no"
      ]
     },
     "execution_count": 1,
     "metadata": {},
     "output_type": "execute_result"
    }
   ],
   "source": [
    "import numpy as np\n",
    "import pandas as pd\n",
    "data = {'animal': ['cat', 'cat', 'snake', 'dog', 'dog', 'cat', 'snake', 'cat', 'dog', 'dog'],\n",
    "        'age': [2.5, 3, 0.5, np.nan, 5, 2, 4.5, np.nan, 7, 3],\n",
    "        'visits': [1, 3, 2, 3, 2, 3, 1, 1, 2, 1],\n",
    "        'priority': ['yes', 'yes', 'no', 'yes', 'no', 'no', 'no', 'yes', 'no', 'no']}\n",
    "\n",
    "labels = ['a', 'b', 'c', 'd', 'e', 'f', 'g', 'h', 'i', 'j']\n",
    "\n",
    "df = pd.DataFrame(data, index=labels)\n",
    "df"
   ]
  },
  {
   "cell_type": "code",
   "execution_count": 3,
   "id": "f46a80d5",
   "metadata": {},
   "outputs": [
    {
     "data": {
      "text/html": [
       "<div>\n",
       "<style scoped>\n",
       "    .dataframe tbody tr th:only-of-type {\n",
       "        vertical-align: middle;\n",
       "    }\n",
       "\n",
       "    .dataframe tbody tr th {\n",
       "        vertical-align: top;\n",
       "    }\n",
       "\n",
       "    .dataframe thead th {\n",
       "        text-align: right;\n",
       "    }\n",
       "</style>\n",
       "<table border=\"1\" class=\"dataframe\">\n",
       "  <thead>\n",
       "    <tr style=\"text-align: right;\">\n",
       "      <th></th>\n",
       "      <th>animal</th>\n",
       "      <th>age</th>\n",
       "      <th>visits</th>\n",
       "      <th>priority</th>\n",
       "    </tr>\n",
       "  </thead>\n",
       "  <tbody>\n",
       "  </tbody>\n",
       "</table>\n",
       "</div>"
      ],
      "text/plain": [
       "Empty DataFrame\n",
       "Columns: [animal, age, visits, priority]\n",
       "Index: []"
      ]
     },
     "execution_count": 3,
     "metadata": {},
     "output_type": "execute_result"
    }
   ],
   "source": [
    "# Select only the rows where the number of visits is greater than 3.\n",
    "df[df['visits'] > 3]"
   ]
  },
  {
   "cell_type": "code",
   "execution_count": 4,
   "id": "b4c1dc03",
   "metadata": {
    "collapsed": true
   },
   "outputs": [
    {
     "data": {
      "text/html": [
       "<div>\n",
       "<style scoped>\n",
       "    .dataframe tbody tr th:only-of-type {\n",
       "        vertical-align: middle;\n",
       "    }\n",
       "\n",
       "    .dataframe tbody tr th {\n",
       "        vertical-align: top;\n",
       "    }\n",
       "\n",
       "    .dataframe thead th {\n",
       "        text-align: right;\n",
       "    }\n",
       "</style>\n",
       "<table border=\"1\" class=\"dataframe\">\n",
       "  <thead>\n",
       "    <tr style=\"text-align: right;\">\n",
       "      <th></th>\n",
       "      <th>animal</th>\n",
       "      <th>age</th>\n",
       "      <th>visits</th>\n",
       "      <th>priority</th>\n",
       "    </tr>\n",
       "  </thead>\n",
       "  <tbody>\n",
       "    <tr>\n",
       "      <th>a</th>\n",
       "      <td>cat</td>\n",
       "      <td>2.5</td>\n",
       "      <td>1</td>\n",
       "      <td>yes</td>\n",
       "    </tr>\n",
       "    <tr>\n",
       "      <th>f</th>\n",
       "      <td>cat</td>\n",
       "      <td>2.0</td>\n",
       "      <td>3</td>\n",
       "      <td>no</td>\n",
       "    </tr>\n",
       "  </tbody>\n",
       "</table>\n",
       "</div>"
      ],
      "text/plain": [
       "  animal  age  visits priority\n",
       "a    cat  2.5       1      yes\n",
       "f    cat  2.0       3       no"
      ]
     },
     "execution_count": 4,
     "metadata": {},
     "output_type": "execute_result"
    }
   ],
   "source": [
    "#Select the rows where the animal is a cat and the age is less than 3\n",
    "df[(df['animal'] == 'cat') & (df['age'] < 3)]"
   ]
  },
  {
   "cell_type": "code",
   "execution_count": 9,
   "id": "b3c13eef",
   "metadata": {},
   "outputs": [
    {
     "data": {
      "text/plain": [
       "3.4375"
      ]
     },
     "execution_count": 9,
     "metadata": {},
     "output_type": "execute_result"
    }
   ],
   "source": [
    "df['age'].mean()"
   ]
  },
  {
   "cell_type": "code",
   "execution_count": 8,
   "id": "477a02d8",
   "metadata": {
    "collapsed": true
   },
   "outputs": [
    {
     "data": {
      "text/plain": [
       "a    2.5000\n",
       "b    3.0000\n",
       "c    0.5000\n",
       "d    3.4375\n",
       "e    5.0000\n",
       "f    2.0000\n",
       "g    4.5000\n",
       "h    3.4375\n",
       "i    7.0000\n",
       "j    3.0000\n",
       "Name: age, dtype: float64"
      ]
     },
     "execution_count": 8,
     "metadata": {},
     "output_type": "execute_result"
    }
   ],
   "source": [
    "# Replace the nan values of age column with mean-age.\n",
    "df['age'].fillna(df['age'].mean())"
   ]
  },
  {
   "cell_type": "code",
   "execution_count": 10,
   "id": "5f5f9a47",
   "metadata": {},
   "outputs": [
    {
     "data": {
      "text/plain": [
       "19"
      ]
     },
     "execution_count": 10,
     "metadata": {},
     "output_type": "execute_result"
    }
   ],
   "source": [
    "# Calculate the sum of all visits in df (i.e. the total number of visits).\n",
    "df['visits'].sum()"
   ]
  },
  {
   "cell_type": "code",
   "execution_count": 11,
   "id": "1ace56a0",
   "metadata": {
    "collapsed": true
   },
   "outputs": [
    {
     "data": {
      "text/plain": [
       "dog      4\n",
       "cat      4\n",
       "snake    2\n",
       "Name: animal, dtype: int64"
      ]
     },
     "execution_count": 11,
     "metadata": {},
     "output_type": "execute_result"
    }
   ],
   "source": [
    "# Count the number of each type of animal in df.\n",
    "df['animal'].value_counts()"
   ]
  },
  {
   "cell_type": "code",
   "execution_count": 17,
   "id": "cd29b829",
   "metadata": {},
   "outputs": [],
   "source": [
    "# Change yes or no values in priority column with true or false values.\n",
    "df['priority']=df['priority'].replace({'yes':True, 'no':False})"
   ]
  },
  {
   "cell_type": "code",
   "execution_count": 18,
   "id": "c1c159a0",
   "metadata": {
    "collapsed": true
   },
   "outputs": [
    {
     "data": {
      "text/html": [
       "<div>\n",
       "<style scoped>\n",
       "    .dataframe tbody tr th:only-of-type {\n",
       "        vertical-align: middle;\n",
       "    }\n",
       "\n",
       "    .dataframe tbody tr th {\n",
       "        vertical-align: top;\n",
       "    }\n",
       "\n",
       "    .dataframe thead th {\n",
       "        text-align: right;\n",
       "    }\n",
       "</style>\n",
       "<table border=\"1\" class=\"dataframe\">\n",
       "  <thead>\n",
       "    <tr style=\"text-align: right;\">\n",
       "      <th></th>\n",
       "      <th>animal</th>\n",
       "      <th>age</th>\n",
       "      <th>visits</th>\n",
       "      <th>priority</th>\n",
       "    </tr>\n",
       "  </thead>\n",
       "  <tbody>\n",
       "    <tr>\n",
       "      <th>a</th>\n",
       "      <td>cat</td>\n",
       "      <td>2.5</td>\n",
       "      <td>1</td>\n",
       "      <td>True</td>\n",
       "    </tr>\n",
       "    <tr>\n",
       "      <th>b</th>\n",
       "      <td>cat</td>\n",
       "      <td>3.0</td>\n",
       "      <td>3</td>\n",
       "      <td>True</td>\n",
       "    </tr>\n",
       "    <tr>\n",
       "      <th>c</th>\n",
       "      <td>snake</td>\n",
       "      <td>0.5</td>\n",
       "      <td>2</td>\n",
       "      <td>False</td>\n",
       "    </tr>\n",
       "    <tr>\n",
       "      <th>d</th>\n",
       "      <td>dog</td>\n",
       "      <td>NaN</td>\n",
       "      <td>3</td>\n",
       "      <td>True</td>\n",
       "    </tr>\n",
       "    <tr>\n",
       "      <th>e</th>\n",
       "      <td>dog</td>\n",
       "      <td>5.0</td>\n",
       "      <td>2</td>\n",
       "      <td>False</td>\n",
       "    </tr>\n",
       "    <tr>\n",
       "      <th>f</th>\n",
       "      <td>cat</td>\n",
       "      <td>2.0</td>\n",
       "      <td>3</td>\n",
       "      <td>False</td>\n",
       "    </tr>\n",
       "    <tr>\n",
       "      <th>g</th>\n",
       "      <td>snake</td>\n",
       "      <td>4.5</td>\n",
       "      <td>1</td>\n",
       "      <td>False</td>\n",
       "    </tr>\n",
       "    <tr>\n",
       "      <th>h</th>\n",
       "      <td>cat</td>\n",
       "      <td>NaN</td>\n",
       "      <td>1</td>\n",
       "      <td>True</td>\n",
       "    </tr>\n",
       "    <tr>\n",
       "      <th>i</th>\n",
       "      <td>dog</td>\n",
       "      <td>7.0</td>\n",
       "      <td>2</td>\n",
       "      <td>False</td>\n",
       "    </tr>\n",
       "    <tr>\n",
       "      <th>j</th>\n",
       "      <td>dog</td>\n",
       "      <td>3.0</td>\n",
       "      <td>1</td>\n",
       "      <td>False</td>\n",
       "    </tr>\n",
       "  </tbody>\n",
       "</table>\n",
       "</div>"
      ],
      "text/plain": [
       "  animal  age  visits  priority\n",
       "a    cat  2.5       1      True\n",
       "b    cat  3.0       3      True\n",
       "c  snake  0.5       2     False\n",
       "d    dog  NaN       3      True\n",
       "e    dog  5.0       2     False\n",
       "f    cat  2.0       3     False\n",
       "g  snake  4.5       1     False\n",
       "h    cat  NaN       1      True\n",
       "i    dog  7.0       2     False\n",
       "j    dog  3.0       1     False"
      ]
     },
     "execution_count": 18,
     "metadata": {},
     "output_type": "execute_result"
    }
   ],
   "source": [
    "df"
   ]
  },
  {
   "cell_type": "code",
   "execution_count": 25,
   "id": "d007303d",
   "metadata": {
    "collapsed": true
   },
   "outputs": [
    {
     "data": {
      "text/html": [
       "<div>\n",
       "<style scoped>\n",
       "    .dataframe tbody tr th:only-of-type {\n",
       "        vertical-align: middle;\n",
       "    }\n",
       "\n",
       "    .dataframe tbody tr th {\n",
       "        vertical-align: top;\n",
       "    }\n",
       "\n",
       "    .dataframe thead th {\n",
       "        text-align: right;\n",
       "    }\n",
       "</style>\n",
       "<table border=\"1\" class=\"dataframe\">\n",
       "  <thead>\n",
       "    <tr style=\"text-align: right;\">\n",
       "      <th></th>\n",
       "      <th>animal</th>\n",
       "    </tr>\n",
       "  </thead>\n",
       "  <tbody>\n",
       "    <tr>\n",
       "      <th>b</th>\n",
       "      <td>cat</td>\n",
       "    </tr>\n",
       "    <tr>\n",
       "      <th>d</th>\n",
       "      <td>dog</td>\n",
       "    </tr>\n",
       "    <tr>\n",
       "      <th>f</th>\n",
       "      <td>cat</td>\n",
       "    </tr>\n",
       "  </tbody>\n",
       "</table>\n",
       "</div>"
      ],
      "text/plain": [
       "  animal\n",
       "b    cat\n",
       "d    dog\n",
       "f    cat"
      ]
     },
     "execution_count": 25,
     "metadata": {},
     "output_type": "execute_result"
    }
   ],
   "source": [
    "# print the animal names which are having maximum visits like data frame.\n",
    "df[df['visits'] == df['visits'].max()][['animal']]"
   ]
  },
  {
   "cell_type": "code",
   "execution_count": 26,
   "id": "ea6277cf",
   "metadata": {},
   "outputs": [
    {
     "data": {
      "text/plain": [
       "pandas.core.series.Series"
      ]
     },
     "execution_count": 26,
     "metadata": {},
     "output_type": "execute_result"
    }
   ],
   "source": [
    "type(df[df['visits'] == df['visits'].max()]['animal'])"
   ]
  },
  {
   "cell_type": "code",
   "execution_count": 27,
   "id": "ade1ca55",
   "metadata": {},
   "outputs": [
    {
     "data": {
      "text/plain": [
       "pandas.core.frame.DataFrame"
      ]
     },
     "execution_count": 27,
     "metadata": {},
     "output_type": "execute_result"
    }
   ],
   "source": [
    "type(df[df['visits'] == df['visits'].max()][['animal']])"
   ]
  },
  {
   "cell_type": "code",
   "execution_count": null,
   "id": "b5df3e48",
   "metadata": {},
   "outputs": [],
   "source": []
  },
  {
   "cell_type": "code",
   "execution_count": null,
   "id": "2f6caeb7",
   "metadata": {},
   "outputs": [],
   "source": []
  },
  {
   "cell_type": "code",
   "execution_count": null,
   "id": "0632d27c",
   "metadata": {},
   "outputs": [],
   "source": []
  },
  {
   "cell_type": "markdown",
   "id": "81cdd60f",
   "metadata": {},
   "source": [
    "### Matplotlib\n",
    "\n",
    "- This is one of the data science libraries in python.\n",
    "- Used for Data Visualization for 2D plotting.\n",
    "- It is free and open source library.\n",
    "- Types of plots:\n",
    "    - Line plot or linear plot\n",
    "    - Bar plot\n",
    "    - Scatter plot\n",
    "    - Histogram\n",
    "    - Pie chart ...\n",
    "    \n",
    "**Pyplot**  \n",
    "    - it is also one of the popular module in matplotlib. It is simple and easy UI for constructing different types of plots"
   ]
  },
  {
   "cell_type": "markdown",
   "id": "8a819482",
   "metadata": {},
   "source": [
    "**for installation**\n",
    "\n",
    "pip install matplotlib"
   ]
  },
  {
   "cell_type": "code",
   "execution_count": null,
   "id": "9fd45011",
   "metadata": {},
   "outputs": [],
   "source": []
  },
  {
   "cell_type": "code",
   "execution_count": 2,
   "id": "c805167b",
   "metadata": {},
   "outputs": [],
   "source": [
    "import matplotlib.pyplot as plt"
   ]
  },
  {
   "cell_type": "code",
   "execution_count": 7,
   "id": "080243f3",
   "metadata": {
    "collapsed": true
   },
   "outputs": [
    {
     "data": {
      "text/plain": [
       "[<matplotlib.lines.Line2D at 0x2a0d59c0a00>]"
      ]
     },
     "execution_count": 7,
     "metadata": {},
     "output_type": "execute_result"
    },
    {
     "data": {
      "image/png": "[encoded data removed]",
      "text/plain": [
       "<Figure size 432x288 with 1 Axes>"
      ]
     },
     "metadata": {
      "needs_background": "light"
     },
     "output_type": "display_data"
    }
   ],
   "source": [
    "#(3,6)\n",
    "x = [3,4]\n",
    "y = [6,9]\n",
    "plt.plot(x,y)"
   ]
  },
  {
   "cell_type": "code",
   "execution_count": 11,
   "id": "845728fc",
   "metadata": {
    "collapsed": true
   },
   "outputs": [
    {
     "data": {
      "image/png": "[encoded data removed]",
      "text/plain": [
       "<Figure size 432x288 with 1 Axes>"
      ]
     },
     "metadata": {
      "needs_background": "light"
     },
     "output_type": "display_data"
    }
   ],
   "source": [
    "# line plot\n",
    "import numpy as np\n",
    "even = np.arange(0,20,2)\n",
    "odd = np.arange(1,20,2)\n",
    "plt.plot(even,odd)\n",
    "plt.text(10,10,'(10,10)')\n",
    "plt.show()"
   ]
  },
  {
   "cell_type": "code",
   "execution_count": 20,
   "id": "603cbe18",
   "metadata": {
    "collapsed": true
   },
   "outputs": [
    {
     "data": {
      "image/png": "[encoded data removed]",
      "text/plain": [
       "<Figure size 432x288 with 1 Axes>"
      ]
     },
     "metadata": {
      "needs_background": "light"
     },
     "output_type": "display_data"
    }
   ],
   "source": [
    "x = np.arange(10,30,3)\n",
    "y = x**2\n",
    "plt.plot(x,y)\n",
    "\n",
    "f1 = {'fontfamily':'Arial','size':20,'color':'green'}\n",
    "f2 = {'fontfamily':'serif','size':30,'color':'red'}\n",
    "\n",
    "plt.xlabel(\"X values\",fontdict=f1)\n",
    "plt.ylabel(\"X**2 Values\",fontdict=f1)\n",
    "\n",
    "plt.title(\"Line plot\",loc = 'left',fontdict=f2)\n",
    "plt.show()"
   ]
  },
  {
   "cell_type": "code",
   "execution_count": 17,
   "id": "89792424",
   "metadata": {
    "collapsed": true
   },
   "outputs": [
    {
     "name": "stdout",
     "output_type": "stream",
     "text": [
      "Help on function title in module matplotlib.pyplot:\n",
      "\n",
      "title(label, fontdict=None, loc=None, pad=None, *, y=None, **kwargs)\n",
      "    Set a title for the axes.\n",
      "    \n",
      "    Set one of the three available axes titles. The available titles\n",
      "    are positioned above the axes in the center, flush with the left\n",
      "    edge, and flush with the right edge.\n",
      "    \n",
      "    Parameters\n",
      "    ----------\n",
      "    label : str\n",
      "        Text to use for the title\n",
      "    \n",
      "    fontdict : dict\n",
      "        A dictionary controlling the appearance of the title text,\n",
      "        the default *fontdict* is::\n",
      "    \n",
      "           {'fontsize': rcParams['axes.titlesize'],\n",
      "            'fontweight': rcParams['axes.titleweight'],\n",
      "            'color': rcParams['axes.titlecolor'],\n",
      "            'verticalalignment': 'baseline',\n",
      "            'horizontalalignment': loc}\n",
      "    \n",
      "    loc : {'center', 'left', 'right'}, default: :rc:`axes.titlelocation`\n",
      "        Which title to set.\n",
      "    \n",
      "    y : float, default: :rc:`axes.titley`\n",
      "        Vertical axes loation for the title (1.0 is the top).  If\n",
      "        None (the default), y is determined automatically to avoid\n",
      "        decorators on the axes.\n",
      "    \n",
      "    pad : float, default: :rc:`axes.titlepad`\n",
      "        The offset of the title from the top of the axes, in points.\n",
      "    \n",
      "    Returns\n",
      "    -------\n",
      "    `.Text`\n",
      "        The matplotlib text instance representing the title\n",
      "    \n",
      "    Other Parameters\n",
      "    ----------------\n",
      "    **kwargs : `.Text` properties\n",
      "        Other keyword arguments are text properties, see `.Text` for a list\n",
      "        of valid text properties.\n",
      "\n"
     ]
    }
   ],
   "source": [
    "help(plt.title)"
   ]
  },
  {
   "cell_type": "code",
   "execution_count": 37,
   "id": "f8f06f8f",
   "metadata": {
    "collapsed": true
   },
   "outputs": [
    {
     "data": {
      "image/png": "[encoded data removed]",
      "text/plain": [
       "<Figure size 432x288 with 1 Axes>"
      ]
     },
     "metadata": {
      "needs_background": "light"
     },
     "output_type": "display_data"
    }
   ],
   "source": [
    "x = [1,2,3,4,5]\n",
    "y = [1,8,27,64,125]\n",
    "plt.plot(x,y,marker='D',color='orange',mec = 'red',ms=10,mfc='green')\n",
    "plt.grid()"
   ]
  },
  {
   "cell_type": "markdown",
   "id": "60ab37d4",
   "metadata": {},
   "source": [
    "- Other attributes\n",
    "    - markerfacecolor or mfc\n",
    "    - markersize  or ms\n",
    "    - linestyle or ls\n",
    "    - linewidth or lw ..."
   ]
  },
  {
   "cell_type": "code",
   "execution_count": 38,
   "id": "737dd258",
   "metadata": {
    "collapsed": true
   },
   "outputs": [
    {
     "name": "stdout",
     "output_type": "stream",
     "text": [
      "Help on function grid in module matplotlib.pyplot:\n",
      "\n",
      "grid(b=None, which='major', axis='both', **kwargs)\n",
      "    Configure the grid lines.\n",
      "    \n",
      "    Parameters\n",
      "    ----------\n",
      "    b : bool or None, optional\n",
      "        Whether to show the grid lines. If any *kwargs* are supplied,\n",
      "        it is assumed you want the grid on and *b* will be set to True.\n",
      "    \n",
      "        If *b* is *None* and there are no *kwargs*, this toggles the\n",
      "        visibility of the lines.\n",
      "    \n",
      "    which : {'major', 'minor', 'both'}, optional\n",
      "        The grid lines to apply the changes on.\n",
      "    \n",
      "    axis : {'both', 'x', 'y'}, optional\n",
      "        The axis to apply the changes on.\n",
      "    \n",
      "    **kwargs : `.Line2D` properties\n",
      "        Define the line properties of the grid, e.g.::\n",
      "    \n",
      "            grid(color='r', linestyle='-', linewidth=2)\n",
      "    \n",
      "        Valid keyword arguments are:\n",
      "    \n",
      "        Properties:\n",
      "        agg_filter: a filter function, which takes a (m, n, 3) float array and a dpi value, and returns a (m, n, 3) array\n",
      "        alpha: float or None\n",
      "        animated: bool\n",
      "        antialiased or aa: bool\n",
      "        clip_box: `.Bbox`\n",
      "        clip_on: bool\n",
      "        clip_path: Patch or (Path, Transform) or None\n",
      "        color or c: color\n",
      "        contains: unknown\n",
      "        dash_capstyle: {'butt', 'round', 'projecting'}\n",
      "        dash_joinstyle: {'miter', 'round', 'bevel'}\n",
      "        dashes: sequence of floats (on/off ink in points) or (None, None)\n",
      "        data: (2, N) array or two 1D arrays\n",
      "        drawstyle or ds: {'default', 'steps', 'steps-pre', 'steps-mid', 'steps-post'}, default: 'default'\n",
      "        figure: `.Figure`\n",
      "        fillstyle: {'full', 'left', 'right', 'bottom', 'top', 'none'}\n",
      "        gid: str\n",
      "        in_layout: bool\n",
      "        label: object\n",
      "        linestyle or ls: {'-', '--', '-.', ':', '', (offset, on-off-seq), ...}\n",
      "        linewidth or lw: float\n",
      "        marker: marker style string, `~.path.Path` or `~.markers.MarkerStyle`\n",
      "        markeredgecolor or mec: color\n",
      "        markeredgewidth or mew: float\n",
      "        markerfacecolor or mfc: color\n",
      "        markerfacecoloralt or mfcalt: color\n",
      "        markersize or ms: float\n",
      "        markevery: None or int or (int, int) or slice or List[int] or float or (float, float) or List[bool]\n",
      "        path_effects: `.AbstractPathEffect`\n",
      "        picker: unknown\n",
      "        pickradius: float\n",
      "        rasterized: bool or None\n",
      "        sketch_params: (scale: float, length: float, randomness: float)\n",
      "        snap: bool or None\n",
      "        solid_capstyle: {'butt', 'round', 'projecting'}\n",
      "        solid_joinstyle: {'miter', 'round', 'bevel'}\n",
      "        transform: `matplotlib.transforms.Transform`\n",
      "        url: str\n",
      "        visible: bool\n",
      "        xdata: 1D array\n",
      "        ydata: 1D array\n",
      "        zorder: float\n",
      "    \n",
      "    Notes\n",
      "    -----\n",
      "    The axis is drawn as a unit, so the effective zorder for drawing the\n",
      "    grid is determined by the zorder of each axis, not by the zorder of the\n",
      "    `.Line2D` objects comprising the grid.  Therefore, to set grid zorder,\n",
      "    use `.set_axisbelow` or, for more control, call the\n",
      "    `~.Artist.set_zorder` method of each axis.\n",
      "\n"
     ]
    }
   ],
   "source": [
    "help(plt.grid)"
   ]
  },
  {
   "cell_type": "code",
   "execution_count": 64,
   "id": "ef057c5a",
   "metadata": {
    "collapsed": true
   },
   "outputs": [
    {
     "data": {
      "image/png": "[encoded data removed]",
      "text/plain": [
       "<Figure size 432x288 with 1 Axes>"
      ]
     },
     "metadata": {
      "needs_background": "light"
     },
     "output_type": "display_data"
    }
   ],
   "source": [
    "x = [1,2,6,9]\n",
    "y = [2,3,7,10]\n",
    "x1 = np.arange(1,12,3)\n",
    "y1 = np.arange(0,10,3)\n",
    "plt.plot(x,y,'go-',x1,y1,'rD-.')\n",
    "plt.legend(['x&y line','x1&y1 line'],loc=\"lower right\")\n",
    "plt.show()"
   ]
  },
  {
   "cell_type": "markdown",
   "id": "842f7243",
   "metadata": {},
   "source": [
    "### Bar plot\n",
    "- To represent comparison between categorical values or categories\n",
    "- bar(x,y)"
   ]
  },
  {
   "cell_type": "code",
   "execution_count": 65,
   "id": "9b922ff8",
   "metadata": {
    "collapsed": true
   },
   "outputs": [
    {
     "name": "stdout",
     "output_type": "stream",
     "text": [
      "Help on function bar in module matplotlib.pyplot:\n",
      "\n",
      "bar(x, height, width=0.8, bottom=None, *, align='center', data=None, **kwargs)\n",
      "    Make a bar plot.\n",
      "    \n",
      "    The bars are positioned at *x* with the given *align*\\ment. Their\n",
      "    dimensions are given by *height* and *width*. The vertical baseline\n",
      "    is *bottom* (default 0).\n",
      "    \n",
      "    Many parameters can take either a single value applying to all bars\n",
      "    or a sequence of values, one for each bar.\n",
      "    \n",
      "    Parameters\n",
      "    ----------\n",
      "    x : float or array-like\n",
      "        The x coordinates of the bars. See also *align* for the\n",
      "        alignment of the bars to the coordinates.\n",
      "    \n",
      "    height : float or array-like\n",
      "        The height(s) of the bars.\n",
      "    \n",
      "    width : float or array-like, default: 0.8\n",
      "        The width(s) of the bars.\n",
      "    \n",
      "    bottom : float or array-like, default: 0\n",
      "        The y coordinate(s) of the bars bases.\n",
      "    \n",
      "    align : {'center', 'edge'}, default: 'center'\n",
      "        Alignment of the bars to the *x* coordinates:\n",
      "    \n",
      "        - 'center': Center the base on the *x* positions.\n",
      "        - 'edge': Align the left edges of the bars with the *x* positions.\n",
      "    \n",
      "        To align the bars on the right edge pass a negative *width* and\n",
      "        ``align='edge'``.\n",
      "    \n",
      "    Returns\n",
      "    -------\n",
      "    `.BarContainer`\n",
      "        Container with all the bars and optionally errorbars.\n",
      "    \n",
      "    Other Parameters\n",
      "    ----------------\n",
      "    color : color or list of color, optional\n",
      "        The colors of the bar faces.\n",
      "    \n",
      "    edgecolor : color or list of color, optional\n",
      "        The colors of the bar edges.\n",
      "    \n",
      "    linewidth : float or array-like, optional\n",
      "        Width of the bar edge(s). If 0, don't draw edges.\n",
      "    \n",
      "    tick_label : str or list of str, optional\n",
      "        The tick labels of the bars.\n",
      "        Default: None (Use default numeric labels.)\n",
      "    \n",
      "    xerr, yerr : float or array-like of shape(N,) or shape(2, N), optional\n",
      "        If not *None*, add horizontal / vertical errorbars to the bar tips.\n",
      "        The values are +/- sizes relative to the data:\n",
      "    \n",
      "        - scalar: symmetric +/- values for all bars\n",
      "        - shape(N,): symmetric +/- values for each bar\n",
      "        - shape(2, N): Separate - and + values for each bar. First row\n",
      "          contains the lower errors, the second row contains the upper\n",
      "          errors.\n",
      "        - *None*: No errorbar. (Default)\n",
      "    \n",
      "        See :doc:`/gallery/statistics/errorbar_features`\n",
      "        for an example on the usage of ``xerr`` and ``yerr``.\n",
      "    \n",
      "    ecolor : color or list of color, default: 'black'\n",
      "        The line color of the errorbars.\n",
      "    \n",
      "    capsize : float, default: :rc:`errorbar.capsize`\n",
      "       The length of the error bar caps in points.\n",
      "    \n",
      "    error_kw : dict, optional\n",
      "        Dictionary of kwargs to be passed to the `~.Axes.errorbar`\n",
      "        method. Values of *ecolor* or *capsize* defined here take\n",
      "        precedence over the independent kwargs.\n",
      "    \n",
      "    log : bool, default: False\n",
      "        If *True*, set the y-axis to be log scale.\n",
      "    \n",
      "    **kwargs : `.Rectangle` properties\n",
      "    \n",
      "    Properties:\n",
      "        agg_filter: a filter function, which takes a (m, n, 3) float array and a dpi value, and returns a (m, n, 3) array\n",
      "        alpha: float or None\n",
      "        animated: bool\n",
      "        antialiased or aa: unknown\n",
      "        capstyle: {'butt', 'round', 'projecting'}\n",
      "        clip_box: `.Bbox`\n",
      "        clip_on: bool\n",
      "        clip_path: Patch or (Path, Transform) or None\n",
      "        color: color\n",
      "        contains: unknown\n",
      "        edgecolor or ec: color or None or 'auto'\n",
      "        facecolor or fc: color or None\n",
      "        figure: `.Figure`\n",
      "        fill: bool\n",
      "        gid: str\n",
      "        hatch: {'/', '\\\\', '|', '-', '+', 'x', 'o', 'O', '.', '*'}\n",
      "        in_layout: bool\n",
      "        joinstyle: {'miter', 'round', 'bevel'}\n",
      "        label: object\n",
      "        linestyle or ls: {'-', '--', '-.', ':', '', (offset, on-off-seq), ...}\n",
      "        linewidth or lw: float or None\n",
      "        path_effects: `.AbstractPathEffect`\n",
      "        picker: None or bool or callable\n",
      "        rasterized: bool or None\n",
      "        sketch_params: (scale: float, length: float, randomness: float)\n",
      "        snap: bool or None\n",
      "        transform: `.Transform`\n",
      "        url: str\n",
      "        visible: bool\n",
      "        zorder: float\n",
      "    \n",
      "    See Also\n",
      "    --------\n",
      "    barh: Plot a horizontal bar plot.\n",
      "    \n",
      "    Notes\n",
      "    -----\n",
      "    Stacked bars can be achieved by passing individual *bottom* values per\n",
      "    bar. See :doc:`/gallery/lines_bars_and_markers/bar_stacked`.\n",
      "    \n",
      "    .. note::\n",
      "        In addition to the above described arguments, this function can take\n",
      "        a *data* keyword argument. If such a *data* argument is given,\n",
      "        every other argument can also be string ``s``, which is\n",
      "        interpreted as ``data[s]`` (unless this raises an exception).\n",
      "    \n",
      "        Objects passed as **data** must support item access (``data[s]``) and\n",
      "        membership test (``s in data``).\n",
      "\n"
     ]
    }
   ],
   "source": [
    "help(plt.bar)"
   ]
  },
  {
   "cell_type": "code",
   "execution_count": 66,
   "id": "c941aaf7",
   "metadata": {
    "collapsed": true
   },
   "outputs": [
    {
     "data": {
      "text/plain": [
       "<BarContainer object of 3 artists>"
      ]
     },
     "execution_count": 66,
     "metadata": {},
     "output_type": "execute_result"
    },
    {
     "data": {
      "image/png": "[encoded data removed]",
      "text/plain": [
       "<Figure size 432x288 with 1 Axes>"
      ]
     },
     "metadata": {
      "needs_background": "light"
     },
     "output_type": "display_data"
    }
   ],
   "source": [
    "x = ['a','b','c']\n",
    "y = [5,4,6]\n",
    "plt.bar(x,y)"
   ]
  },
  {
   "cell_type": "markdown",
   "id": "e2faf88c",
   "metadata": {},
   "source": [
    "### Histogram\n",
    "- To represent the frequency of given categories.\n",
    "    - hist(x,label=labels)"
   ]
  },
  {
   "cell_type": "code",
   "execution_count": 67,
   "id": "39b84fda",
   "metadata": {
    "collapsed": true
   },
   "outputs": [
    {
     "name": "stdout",
     "output_type": "stream",
     "text": [
      "Help on function hist in module matplotlib.pyplot:\n",
      "\n",
      "hist(x, bins=None, range=None, density=False, weights=None, cumulative=False, bottom=None, histtype='bar', align='mid', orientation='vertical', rwidth=None, log=False, color=None, label=None, stacked=False, *, data=None, **kwargs)\n",
      "    Plot a histogram.\n",
      "    \n",
      "    Compute and draw the histogram of *x*.  The return value is a tuple\n",
      "    (*n*, *bins*, *patches*) or ([*n0*, *n1*, ...], *bins*, [*patches0*,\n",
      "    *patches1*, ...]) if the input contains multiple data.  See the\n",
      "    documentation of the *weights* parameter to draw a histogram of\n",
      "    already-binned data.\n",
      "    \n",
      "    Multiple data can be provided via *x* as a list of datasets\n",
      "    of potentially different length ([*x0*, *x1*, ...]), or as\n",
      "    a 2-D ndarray in which each column is a dataset.  Note that\n",
      "    the ndarray form is transposed relative to the list form.\n",
      "    \n",
      "    Masked arrays are not supported.\n",
      "    \n",
      "    The *bins*, *range*, *weights*, and *density* parameters behave as in\n",
      "    `numpy.histogram`.\n",
      "    \n",
      "    Parameters\n",
      "    ----------\n",
      "    x : (n,) array or sequence of (n,) arrays\n",
      "        Input values, this takes either a single array or a sequence of\n",
      "        arrays which are not required to be of the same length.\n",
      "    \n",
      "    bins : int or sequence or str, default: :rc:`hist.bins`\n",
      "        If *bins* is an integer, it defines the number of equal-width bins\n",
      "        in the range.\n",
      "    \n",
      "        If *bins* is a sequence, it defines the bin edges, including the\n",
      "        left edge of the first bin and the right edge of the last bin;\n",
      "        in this case, bins may be unequally spaced.  All but the last\n",
      "        (righthand-most) bin is half-open.  In other words, if *bins* is::\n",
      "    \n",
      "            [1, 2, 3, 4]\n",
      "    \n",
      "        then the first bin is ``[1, 2)`` (including 1, but excluding 2) and\n",
      "        the second ``[2, 3)``.  The last bin, however, is ``[3, 4]``, which\n",
      "        *includes* 4.\n",
      "    \n",
      "        If *bins* is a string, it is one of the binning strategies\n",
      "        supported by `numpy.histogram_bin_edges`: 'auto', 'fd', 'doane',\n",
      "        'scott', 'stone', 'rice', 'sturges', or 'sqrt'.\n",
      "    \n",
      "    range : tuple or None, default: None\n",
      "        The lower and upper range of the bins. Lower and upper outliers\n",
      "        are ignored. If not provided, *range* is ``(x.min(), x.max())``.\n",
      "        Range has no effect if *bins* is a sequence.\n",
      "    \n",
      "        If *bins* is a sequence or *range* is specified, autoscaling\n",
      "        is based on the specified bin range instead of the\n",
      "        range of x.\n",
      "    \n",
      "    density : bool, default: False\n",
      "        If ``True``, draw and return a probability density: each bin\n",
      "        will display the bin's raw count divided by the total number of\n",
      "        counts *and the bin width*\n",
      "        (``density = counts / (sum(counts) * np.diff(bins))``),\n",
      "        so that the area under the histogram integrates to 1\n",
      "        (``np.sum(density * np.diff(bins)) == 1``).\n",
      "    \n",
      "        If *stacked* is also ``True``, the sum of the histograms is\n",
      "        normalized to 1.\n",
      "    \n",
      "    weights : (n,) array-like or None, default: None\n",
      "        An array of weights, of the same shape as *x*.  Each value in\n",
      "        *x* only contributes its associated weight towards the bin count\n",
      "        (instead of 1).  If *density* is ``True``, the weights are\n",
      "        normalized, so that the integral of the density over the range\n",
      "        remains 1.\n",
      "    \n",
      "        This parameter can be used to draw a histogram of data that has\n",
      "        already been binned, e.g. using `numpy.histogram` (by treating each\n",
      "        bin as a single point with a weight equal to its count) ::\n",
      "    \n",
      "            counts, bins = np.histogram(data)\n",
      "            plt.hist(bins[:-1], bins, weights=counts)\n",
      "    \n",
      "        (or you may alternatively use `~.bar()`).\n",
      "    \n",
      "    cumulative : bool or -1, default: False\n",
      "        If ``True``, then a histogram is computed where each bin gives the\n",
      "        counts in that bin plus all bins for smaller values. The last bin\n",
      "        gives the total number of datapoints.\n",
      "    \n",
      "        If *density* is also ``True`` then the histogram is normalized such\n",
      "        that the last bin equals 1.\n",
      "    \n",
      "        If *cumulative* is a number less than 0 (e.g., -1), the direction\n",
      "        of accumulation is reversed.  In this case, if *density* is also\n",
      "        ``True``, then the histogram is normalized such that the first bin\n",
      "        equals 1.\n",
      "    \n",
      "    bottom : array-like, scalar, or None, default: None\n",
      "        Location of the bottom of each bin, ie. bins are drawn from\n",
      "        ``bottom`` to ``bottom + hist(x, bins)`` If a scalar, the bottom\n",
      "        of each bin is shifted by the same amount. If an array, each bin\n",
      "        is shifted independently and the length of bottom must match the\n",
      "        number of bins. If None, defaults to 0.\n",
      "    \n",
      "    histtype : {'bar', 'barstacked', 'step', 'stepfilled'}, default: 'bar'\n",
      "        The type of histogram to draw.\n",
      "    \n",
      "        - 'bar' is a traditional bar-type histogram.  If multiple data\n",
      "          are given the bars are arranged side by side.\n",
      "        - 'barstacked' is a bar-type histogram where multiple\n",
      "          data are stacked on top of each other.\n",
      "        - 'step' generates a lineplot that is by default unfilled.\n",
      "        - 'stepfilled' generates a lineplot that is by default filled.\n",
      "    \n",
      "    align : {'left', 'mid', 'right'}, default: 'mid'\n",
      "        The horizontal alignment of the histogram bars.\n",
      "    \n",
      "        - 'left': bars are centered on the left bin edges.\n",
      "        - 'mid': bars are centered between the bin edges.\n",
      "        - 'right': bars are centered on the right bin edges.\n",
      "    \n",
      "    orientation : {'vertical', 'horizontal'}, default: 'vertical'\n",
      "        If 'horizontal', `~.Axes.barh` will be used for bar-type histograms\n",
      "        and the *bottom* kwarg will be the left edges.\n",
      "    \n",
      "    rwidth : float or None, default: None\n",
      "        The relative width of the bars as a fraction of the bin width.  If\n",
      "        ``None``, automatically compute the width.\n",
      "    \n",
      "        Ignored if *histtype* is 'step' or 'stepfilled'.\n",
      "    \n",
      "    log : bool, default: False\n",
      "        If ``True``, the histogram axis will be set to a log scale. If\n",
      "        *log* is ``True`` and *x* is a 1D array, empty bins will be\n",
      "        filtered out and only the non-empty ``(n, bins, patches)``\n",
      "        will be returned.\n",
      "    \n",
      "    color : color or array-like of colors or None, default: None\n",
      "        Color or sequence of colors, one per dataset.  Default (``None``)\n",
      "        uses the standard line color sequence.\n",
      "    \n",
      "    label : str or None, default: None\n",
      "        String, or sequence of strings to match multiple datasets.  Bar\n",
      "        charts yield multiple patches per dataset, but only the first gets\n",
      "        the label, so that `~.Axes.legend` will work as expected.\n",
      "    \n",
      "    stacked : bool, default: False\n",
      "        If ``True``, multiple data are stacked on top of each other If\n",
      "        ``False`` multiple data are arranged side by side if histtype is\n",
      "        'bar' or on top of each other if histtype is 'step'\n",
      "    \n",
      "    Returns\n",
      "    -------\n",
      "    n : array or list of arrays\n",
      "        The values of the histogram bins. See *density* and *weights* for a\n",
      "        description of the possible semantics.  If input *x* is an array,\n",
      "        then this is an array of length *nbins*. If input is a sequence of\n",
      "        arrays ``[data1, data2, ...]``, then this is a list of arrays with\n",
      "        the values of the histograms for each of the arrays in the same\n",
      "        order.  The dtype of the array *n* (or of its element arrays) will\n",
      "        always be float even if no weighting or normalization is used.\n",
      "    \n",
      "    bins : array\n",
      "        The edges of the bins. Length nbins + 1 (nbins left edges and right\n",
      "        edge of last bin).  Always a single array even when multiple data\n",
      "        sets are passed in.\n",
      "    \n",
      "    patches : `.BarContainer` or list of a single `.Polygon` or list of such objects\n",
      "        Container of individual artists used to create the histogram\n",
      "        or list of such containers if there are multiple input datasets.\n",
      "    \n",
      "    Other Parameters\n",
      "    ----------------\n",
      "    **kwargs\n",
      "        `~matplotlib.patches.Patch` properties\n",
      "    \n",
      "    See Also\n",
      "    --------\n",
      "    hist2d : 2D histograms\n",
      "    \n",
      "    Notes\n",
      "    -----\n",
      "    For large numbers of bins (>1000), 'step' and 'stepfilled' can be\n",
      "    significantly faster than 'bar' and 'barstacked'.\n",
      "    \n",
      "    .. note::\n",
      "        In addition to the above described arguments, this function can take\n",
      "        a *data* keyword argument. If such a *data* argument is given,\n",
      "        the following arguments can also be string ``s``, which is\n",
      "        interpreted as ``data[s]`` (unless this raises an exception):\n",
      "        *x*, *weights*.\n",
      "    \n",
      "        Objects passed as **data** must support item access (``data[s]``) and\n",
      "        membership test (``s in data``).\n",
      "\n"
     ]
    }
   ],
   "source": [
    "help(plt.hist)"
   ]
  },
  {
   "cell_type": "code",
   "execution_count": 68,
   "id": "a41fc2c7",
   "metadata": {},
   "outputs": [
    {
     "data": {
      "text/plain": [
       "(array([3., 0., 4., 0., 0., 3., 0., 3., 0., 1.]),\n",
       " array([1. , 1.4, 1.8, 2.2, 2.6, 3. , 3.4, 3.8, 4.2, 4.6, 5. ]),\n",
       " <BarContainer object of 10 artists>)"
      ]
     },
     "execution_count": 68,
     "metadata": {},
     "output_type": "execute_result"
    },
    {
     "data": {
      "image/png": "[encoded data removed]",
      "text/plain": [
       "<Figure size 432x288 with 1 Axes>"
      ]
     },
     "metadata": {
      "needs_background": "light"
     },
     "output_type": "display_data"
    }
   ],
   "source": [
    "marks = [1,2,1,2,3,4,2,3,4,1,2,3,4,5]\n",
    "plt.hist(marks)"
   ]
  },
  {
   "cell_type": "code",
   "execution_count": 81,
   "id": "636e0803",
   "metadata": {
    "collapsed": true
   },
   "outputs": [
    {
     "name": "stdout",
     "output_type": "stream",
     "text": [
      "Help on function grid in module matplotlib.pyplot:\n",
      "\n",
      "grid(b=None, which='major', axis='both', **kwargs)\n",
      "    Configure the grid lines.\n",
      "    \n",
      "    Parameters\n",
      "    ----------\n",
      "    b : bool or None, optional\n",
      "        Whether to show the grid lines. If any *kwargs* are supplied,\n",
      "        it is assumed you want the grid on and *b* will be set to True.\n",
      "    \n",
      "        If *b* is *None* and there are no *kwargs*, this toggles the\n",
      "        visibility of the lines.\n",
      "    \n",
      "    which : {'major', 'minor', 'both'}, optional\n",
      "        The grid lines to apply the changes on.\n",
      "    \n",
      "    axis : {'both', 'x', 'y'}, optional\n",
      "        The axis to apply the changes on.\n",
      "    \n",
      "    **kwargs : `.Line2D` properties\n",
      "        Define the line properties of the grid, e.g.::\n",
      "    \n",
      "            grid(color='r', linestyle='-', linewidth=2)\n",
      "    \n",
      "        Valid keyword arguments are:\n",
      "    \n",
      "        Properties:\n",
      "        agg_filter: a filter function, which takes a (m, n, 3) float array and a dpi value, and returns a (m, n, 3) array\n",
      "        alpha: float or None\n",
      "        animated: bool\n",
      "        antialiased or aa: bool\n",
      "        clip_box: `.Bbox`\n",
      "        clip_on: bool\n",
      "        clip_path: Patch or (Path, Transform) or None\n",
      "        color or c: color\n",
      "        contains: unknown\n",
      "        dash_capstyle: {'butt', 'round', 'projecting'}\n",
      "        dash_joinstyle: {'miter', 'round', 'bevel'}\n",
      "        dashes: sequence of floats (on/off ink in points) or (None, None)\n",
      "        data: (2, N) array or two 1D arrays\n",
      "        drawstyle or ds: {'default', 'steps', 'steps-pre', 'steps-mid', 'steps-post'}, default: 'default'\n",
      "        figure: `.Figure`\n",
      "        fillstyle: {'full', 'left', 'right', 'bottom', 'top', 'none'}\n",
      "        gid: str\n",
      "        in_layout: bool\n",
      "        label: object\n",
      "        linestyle or ls: {'-', '--', '-.', ':', '', (offset, on-off-seq), ...}\n",
      "        linewidth or lw: float\n",
      "        marker: marker style string, `~.path.Path` or `~.markers.MarkerStyle`\n",
      "        markeredgecolor or mec: color\n",
      "        markeredgewidth or mew: float\n",
      "        markerfacecolor or mfc: color\n",
      "        markerfacecoloralt or mfcalt: color\n",
      "        markersize or ms: float\n",
      "        markevery: None or int or (int, int) or slice or List[int] or float or (float, float) or List[bool]\n",
      "        path_effects: `.AbstractPathEffect`\n",
      "        picker: unknown\n",
      "        pickradius: float\n",
      "        rasterized: bool or None\n",
      "        sketch_params: (scale: float, length: float, randomness: float)\n",
      "        snap: bool or None\n",
      "        solid_capstyle: {'butt', 'round', 'projecting'}\n",
      "        solid_joinstyle: {'miter', 'round', 'bevel'}\n",
      "        transform: `matplotlib.transforms.Transform`\n",
      "        url: str\n",
      "        visible: bool\n",
      "        xdata: 1D array\n",
      "        ydata: 1D array\n",
      "        zorder: float\n",
      "    \n",
      "    Notes\n",
      "    -----\n",
      "    The axis is drawn as a unit, so the effective zorder for drawing the\n",
      "    grid is determined by the zorder of each axis, not by the zorder of the\n",
      "    `.Line2D` objects comprising the grid.  Therefore, to set grid zorder,\n",
      "    use `.set_axisbelow` or, for more control, call the\n",
      "    `~.Artist.set_zorder` method of each axis.\n",
      "\n"
     ]
    }
   ],
   "source": [
    "help(plt.grid)"
   ]
  },
  {
   "cell_type": "code",
   "execution_count": 82,
   "id": "aed122d3",
   "metadata": {
    "collapsed": true
   },
   "outputs": [
    {
     "name": "stderr",
     "output_type": "stream",
     "text": [
      "<ipython-input-82-f53667e958e3>:3: MatplotlibDeprecationWarning: Adding an axes using the same arguments as a previous axes currently reuses the earlier instance.  In a future version, a new instance will always be created and returned.  Meanwhile, this warning can be suppressed, and the future behavior ensured, by passing a unique label to each axes instance.\n",
      "  ax = plt.axes()\n"
     ]
    },
    {
     "data": {
      "image/png": "[encoded data removed]",
      "text/plain": [
       "<Figure size 432x288 with 1 Axes>"
      ]
     },
     "metadata": {
      "needs_background": "light"
     },
     "output_type": "display_data"
    }
   ],
   "source": [
    "f = [0.5,0.2,1,2.5,2.3,1.8,3]\n",
    "plt.hist(f)\n",
    "ax = plt.axes()\n",
    "ax.set_facecolor(\"pink\")"
   ]
  },
  {
   "cell_type": "code",
   "execution_count": 83,
   "id": "23f667dd",
   "metadata": {
    "collapsed": true
   },
   "outputs": [
    {
     "name": "stdout",
     "output_type": "stream",
     "text": [
      "Help on function axes in module matplotlib.pyplot:\n",
      "\n",
      "axes(arg=None, **kwargs)\n",
      "    Add an axes to the current figure and make it the current axes.\n",
      "    \n",
      "    Call signatures::\n",
      "    \n",
      "        plt.axes()\n",
      "        plt.axes(rect, projection=None, polar=False, **kwargs)\n",
      "        plt.axes(ax)\n",
      "    \n",
      "    Parameters\n",
      "    ----------\n",
      "    arg : None or 4-tuple\n",
      "        The exact behavior of this function depends on the type:\n",
      "    \n",
      "        - *None*: A new full window axes is added using\n",
      "          ``subplot(111, **kwargs)``.\n",
      "        - 4-tuple of floats *rect* = ``[left, bottom, width, height]``.\n",
      "          A new axes is added with dimensions *rect* in normalized\n",
      "          (0, 1) units using `~.Figure.add_axes` on the current figure.\n",
      "    \n",
      "    projection : {None, 'aitoff', 'hammer', 'lambert', 'mollweide', 'polar', 'rectilinear', str}, optional\n",
      "        The projection type of the `~.axes.Axes`. *str* is the name of\n",
      "        a custom projection, see `~matplotlib.projections`. The default\n",
      "        None results in a 'rectilinear' projection.\n",
      "    \n",
      "    polar : bool, default: False\n",
      "        If True, equivalent to projection='polar'.\n",
      "    \n",
      "    sharex, sharey : `~.axes.Axes`, optional\n",
      "        Share the x or y `~matplotlib.axis` with sharex and/or sharey.\n",
      "        The axis will have the same limits, ticks, and scale as the axis\n",
      "        of the shared axes.\n",
      "    \n",
      "    label : str\n",
      "        A label for the returned axes.\n",
      "    \n",
      "    Returns\n",
      "    -------\n",
      "    `~.axes.Axes`, or a subclass of `~.axes.Axes`\n",
      "        The returned axes class depends on the projection used. It is\n",
      "        `~.axes.Axes` if rectilinear projection is used and\n",
      "        `.projections.polar.PolarAxes` if polar projection is used.\n",
      "    \n",
      "    Other Parameters\n",
      "    ----------------\n",
      "    **kwargs\n",
      "        This method also takes the keyword arguments for\n",
      "        the returned axes class. The keyword arguments for the\n",
      "        rectilinear axes class `~.axes.Axes` can be found in\n",
      "        the following table but there might also be other keyword\n",
      "        arguments if another projection is used, see the actual axes\n",
      "        class.\n",
      "    \n",
      "        Properties:\n",
      "        adjustable: {'box', 'datalim'}\n",
      "        agg_filter: a filter function, which takes a (m, n, 3) float array and a dpi value, and returns a (m, n, 3) array\n",
      "        alpha: float or None\n",
      "        anchor: 2-tuple of floats or {'C', 'SW', 'S', 'SE', ...}\n",
      "        animated: bool\n",
      "        aspect: {'auto'} or num\n",
      "        autoscale_on: bool\n",
      "        autoscalex_on: bool\n",
      "        autoscaley_on: bool\n",
      "        axes_locator: Callable[[Axes, Renderer], Bbox]\n",
      "        axisbelow: bool or 'line'\n",
      "        box_aspect: None, or a number\n",
      "        clip_box: `.Bbox`\n",
      "        clip_on: bool\n",
      "        clip_path: Patch or (Path, Transform) or None\n",
      "        contains: unknown\n",
      "        facecolor or fc: color\n",
      "        figure: `.Figure`\n",
      "        frame_on: bool\n",
      "        gid: str\n",
      "        in_layout: bool\n",
      "        label: object\n",
      "        navigate: bool\n",
      "        navigate_mode: unknown\n",
      "        path_effects: `.AbstractPathEffect`\n",
      "        picker: None or bool or callable\n",
      "        position: [left, bottom, width, height] or `~matplotlib.transforms.Bbox`\n",
      "        prop_cycle: unknown\n",
      "        rasterization_zorder: float or None\n",
      "        rasterized: bool or None\n",
      "        sketch_params: (scale: float, length: float, randomness: float)\n",
      "        snap: bool or None\n",
      "        title: str\n",
      "        transform: `.Transform`\n",
      "        url: str\n",
      "        visible: bool\n",
      "        xbound: unknown\n",
      "        xlabel: str\n",
      "        xlim: (bottom: float, top: float)\n",
      "        xmargin: float greater than -0.5\n",
      "        xscale: {\"linear\", \"log\", \"symlog\", \"logit\", ...}\n",
      "        xticklabels: unknown\n",
      "        xticks: unknown\n",
      "        ybound: unknown\n",
      "        ylabel: str\n",
      "        ylim: (bottom: float, top: float)\n",
      "        ymargin: float greater than -0.5\n",
      "        yscale: {\"linear\", \"log\", \"symlog\", \"logit\", ...}\n",
      "        yticklabels: unknown\n",
      "        yticks: unknown\n",
      "        zorder: float\n",
      "    \n",
      "    Notes\n",
      "    -----\n",
      "    If the figure already has a axes with key (*args*,\n",
      "    *kwargs*) then it will simply make that axes current and\n",
      "    return it.  This behavior is deprecated. Meanwhile, if you do\n",
      "    not want this behavior (i.e., you want to force the creation of a\n",
      "    new axes), you must use a unique set of args and kwargs.  The axes\n",
      "    *label* attribute has been exposed for this purpose: if you want\n",
      "    two axes that are otherwise identical to be added to the figure,\n",
      "    make sure you give them unique labels.\n",
      "    \n",
      "    See Also\n",
      "    --------\n",
      "    .Figure.add_axes\n",
      "    .pyplot.subplot\n",
      "    .Figure.add_subplot\n",
      "    .Figure.subplots\n",
      "    .pyplot.subplots\n",
      "    \n",
      "    Examples\n",
      "    --------\n",
      "    ::\n",
      "    \n",
      "        # Creating a new full window axes\n",
      "        plt.axes()\n",
      "    \n",
      "        # Creating a new axes with specified dimensions and some kwargs\n",
      "        plt.axes((left, bottom, width, height), facecolor='w')\n",
      "\n"
     ]
    }
   ],
   "source": [
    "help(plt.axes)"
   ]
  },
  {
   "cell_type": "markdown",
   "id": "c7b55e16",
   "metadata": {},
   "source": [
    "### Scatter plot\n",
    "- same like line plot but represented by markers.\n",
    "    - scatter()"
   ]
  },
  {
   "cell_type": "code",
   "execution_count": 84,
   "id": "da6d1a96",
   "metadata": {
    "collapsed": true
   },
   "outputs": [
    {
     "name": "stdout",
     "output_type": "stream",
     "text": [
      "Help on function scatter in module matplotlib.pyplot:\n",
      "\n",
      "scatter(x, y, s=None, c=None, marker=None, cmap=None, norm=None, vmin=None, vmax=None, alpha=None, linewidths=None, verts=<deprecated parameter>, edgecolors=None, *, plotnonfinite=False, data=None, **kwargs)\n",
      "    A scatter plot of *y* vs. *x* with varying marker size and/or color.\n",
      "    \n",
      "    Parameters\n",
      "    ----------\n",
      "    x, y : float or array-like, shape (n, )\n",
      "        The data positions.\n",
      "    \n",
      "    s : float or array-like, shape (n, ), optional\n",
      "        The marker size in points**2.\n",
      "        Default is ``rcParams['lines.markersize'] ** 2``.\n",
      "    \n",
      "    c : array-like or list of colors or color, optional\n",
      "        The marker colors. Possible values:\n",
      "    \n",
      "        - A scalar or sequence of n numbers to be mapped to colors using\n",
      "          *cmap* and *norm*.\n",
      "        - A 2-D array in which the rows are RGB or RGBA.\n",
      "        - A sequence of colors of length n.\n",
      "        - A single color format string.\n",
      "    \n",
      "        Note that *c* should not be a single numeric RGB or RGBA sequence\n",
      "        because that is indistinguishable from an array of values to be\n",
      "        colormapped. If you want to specify the same RGB or RGBA value for\n",
      "        all points, use a 2-D array with a single row.  Otherwise, value-\n",
      "        matching will have precedence in case of a size matching with *x*\n",
      "        and *y*.\n",
      "    \n",
      "        If you wish to specify a single color for all points\n",
      "        prefer the *color* keyword argument.\n",
      "    \n",
      "        Defaults to `None`. In that case the marker color is determined\n",
      "        by the value of *color*, *facecolor* or *facecolors*. In case\n",
      "        those are not specified or `None`, the marker color is determined\n",
      "        by the next color of the ``Axes``' current \"shape and fill\" color\n",
      "        cycle. This cycle defaults to :rc:`axes.prop_cycle`.\n",
      "    \n",
      "    marker : `~.markers.MarkerStyle`, default: :rc:`scatter.marker`\n",
      "        The marker style. *marker* can be either an instance of the class\n",
      "        or the text shorthand for a particular marker.\n",
      "        See :mod:`matplotlib.markers` for more information about marker\n",
      "        styles.\n",
      "    \n",
      "    cmap : str or `~matplotlib.colors.Colormap`, default: :rc:`image.cmap`\n",
      "        A `.Colormap` instance or registered colormap name. *cmap* is only\n",
      "        used if *c* is an array of floats.\n",
      "    \n",
      "    norm : `~matplotlib.colors.Normalize`, default: None\n",
      "        If *c* is an array of floats, *norm* is used to scale the color\n",
      "        data, *c*, in the range 0 to 1, in order to map into the colormap\n",
      "        *cmap*.\n",
      "        If *None*, use the default `.colors.Normalize`.\n",
      "    \n",
      "    vmin, vmax : float, default: None\n",
      "        *vmin* and *vmax* are used in conjunction with the default norm to\n",
      "        map the color array *c* to the colormap *cmap*. If None, the\n",
      "        respective min and max of the color array is used.\n",
      "        It is deprecated to use *vmin*/*vmax* when *norm* is given.\n",
      "    \n",
      "    alpha : float, default: None\n",
      "        The alpha blending value, between 0 (transparent) and 1 (opaque).\n",
      "    \n",
      "    linewidths : float or array-like, default: :rc:`lines.linewidth`\n",
      "        The linewidth of the marker edges. Note: The default *edgecolors*\n",
      "        is 'face'. You may want to change this as well.\n",
      "    \n",
      "    edgecolors : {'face', 'none', *None*} or color or sequence of color, default: :rc:`scatter.edgecolors`\n",
      "        The edge color of the marker. Possible values:\n",
      "    \n",
      "        - 'face': The edge color will always be the same as the face color.\n",
      "        - 'none': No patch boundary will be drawn.\n",
      "        - A color or sequence of colors.\n",
      "    \n",
      "        For non-filled markers, the *edgecolors* kwarg is ignored and\n",
      "        forced to 'face' internally.\n",
      "    \n",
      "    plotnonfinite : bool, default: False\n",
      "        Set to plot points with nonfinite *c*, in conjunction with\n",
      "        `~matplotlib.colors.Colormap.set_bad`.\n",
      "    \n",
      "    Returns\n",
      "    -------\n",
      "    `~matplotlib.collections.PathCollection`\n",
      "    \n",
      "    Other Parameters\n",
      "    ----------------\n",
      "    **kwargs : `~matplotlib.collections.Collection` properties\n",
      "    \n",
      "    See Also\n",
      "    --------\n",
      "    plot : To plot scatter plots when markers are identical in size and\n",
      "        color.\n",
      "    \n",
      "    Notes\n",
      "    -----\n",
      "    * The `.plot` function will be faster for scatterplots where markers\n",
      "      don't vary in size or color.\n",
      "    \n",
      "    * Any or all of *x*, *y*, *s*, and *c* may be masked arrays, in which\n",
      "      case all masks will be combined and only unmasked points will be\n",
      "      plotted.\n",
      "    \n",
      "    * Fundamentally, scatter works with 1-D arrays; *x*, *y*, *s*, and *c*\n",
      "      may be input as N-D arrays, but within scatter they will be\n",
      "      flattened. The exception is *c*, which will be flattened only if its\n",
      "      size matches the size of *x* and *y*.\n",
      "    \n",
      "    .. note::\n",
      "        In addition to the above described arguments, this function can take\n",
      "        a *data* keyword argument. If such a *data* argument is given,\n",
      "        the following arguments can also be string ``s``, which is\n",
      "        interpreted as ``data[s]`` (unless this raises an exception):\n",
      "        *x*, *y*, *s*, *linewidths*, *edgecolors*, *c*, *facecolor*, *facecolors*, *color*.\n",
      "    \n",
      "        Objects passed as **data** must support item access (``data[s]``) and\n",
      "        membership test (``s in data``).\n",
      "\n"
     ]
    }
   ],
   "source": [
    "help(plt.scatter)"
   ]
  },
  {
   "cell_type": "code",
   "execution_count": null,
   "id": "ad5c1d29",
   "metadata": {},
   "outputs": [],
   "source": []
  }
 ],
 "metadata": {
  "kernelspec": {
   "display_name": "Python 3",
   "language": "python",
   "name": "python3"
  },
  "language_info": {
   "codemirror_mode": {
    "name": "ipython",
    "version": 3
   },
   "file_extension": ".py",
   "mimetype": "text/x-python",
   "name": "python",
   "nbconvert_exporter": "python",
   "pygments_lexer": "ipython3",
   "version": "3.8.8"
  }
 },
 "nbformat": 4,
 "nbformat_minor": 5
}
